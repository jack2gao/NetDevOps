{
 "cells": [
  {
   "cell_type": "markdown",
   "source": [
    "# 多线程与多进程\n",
    "\n",
    "网络IO操作远远慢于CPU以及内存，硬盘处理，如果多设备的情况下延迟更大，长达数秒，\n",
    "通过多进程/多线程技术并行的处理多任务，可以减低网络延迟的影响。\n",
    "\n",
    "同一时间一个CPU只为一个任务服务，只是因为切换太快，而感知上多任务并行。\n",
    "\n",
    "* 工厂--> CPU\n",
    "* 车间--> 进程\n",
    "有独立的内存空间。\n",
    "socket实现进程间通讯。\n",
    "\n",
    "* 工人--> 线程\n",
    "线程共享内存，\n",
    "内存空间冲突，通过“互斥锁”解决冲突。\n",
    ">相对于C语言线程设置就需要进行明确设置锁。\n",
    "> Python通过GIL(Global Interpreter Lock)全局解释器锁，同一时间只有一个线程可以控制解释器。\n",
    "> 每一个进程一个Python解释器。 ##网络操作比较慢，所以对于高速的处理性能来说，全局锁的影响无感。\n",
    "> 这种影响对于计算密集型的业务会有影响，无法充分利用多线程资源。\n",
    "\n",
    "线程是指进程内的一个执行单元，是进程内可调度的实体\n",
    "区别：\n",
    "1. 地址空间：进程内的一个执行单元，进程至少一个线程，进程之间共享地址空间，而进程有自己独立的地址空间；\n",
    "2. 资源拥有：进程是资源分配和拥有单位，同一进程内的线程共享进程的资源。\n",
    "3. 线程是处理器调度资源的基本单位，单进程不是\n",
    "4. 两者均可并发执行。\n",
    "\n",
    "线程划分尺度小于进程， 使用多线程程序的并发度高"
   ],
   "metadata": {
    "collapsed": false,
    "pycharm": {
     "name": "#%% md\n"
    }
   }
  },
  {
   "cell_type": "code",
   "execution_count": null,
   "outputs": [],
   "source": [
    "\n",
    "\n",
    "\n",
    "net = '10.1.1.0/30'\n",
    "\n",
    "import  ipaddress\n",
    "\n",
    "ip_list = ipaddress.ip_network(net)\n",
    "\n",
    "for ip in ip_list:\n",
    "    print(str(ip))"
   ],
   "metadata": {
    "collapsed": false,
    "pycharm": {
     "name": "#%%\n"
    }
   }
  },
  {
   "cell_type": "markdown",
   "source": [
    "# 协程\n",
    "\n",
    "多进程多线程问题：\n",
    "同一个进程虽然有多个线程，但同一时刻只有一个线程在解释器执行，\n",
    "虚拟器的GIL控制，只有一个线程运行。\n",
    "1. 设置GIL.\n",
    "2. 切换到一个线程去执行\n",
    "3. 运行\n",
    "4. 把线程设置为睡眠状态\n",
    "5. 解锁GIL\n",
    "6.\n"
   ],
   "metadata": {
    "collapsed": false
   }
  }
 ],
 "metadata": {
  "kernelspec": {
   "display_name": "Python 3",
   "language": "python",
   "name": "python3"
  },
  "language_info": {
   "codemirror_mode": {
    "name": "ipython",
    "version": 2
   },
   "file_extension": ".py",
   "mimetype": "text/x-python",
   "name": "python",
   "nbconvert_exporter": "python",
   "pygments_lexer": "ipython2",
   "version": "2.7.6"
  }
 },
 "nbformat": 4,
 "nbformat_minor": 0
}