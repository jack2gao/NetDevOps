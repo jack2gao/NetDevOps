{
 "cells": [
  {
   "cell_type": "code",
   "execution_count": 4,
   "metadata": {
    "collapsed": true
   },
   "outputs": [
    {
     "name": "stdout",
     "output_type": "stream",
     "text": [
      "10.1.1.0\n",
      "10.1.1.1\n",
      "10.1.1.2\n",
      "10.1.1.3\n"
     ]
    }
   ],
   "source": [
    "net = '10.1.1.0/30'\n",
    "\n",
    "import  ipaddress\n",
    "\n",
    "ip_list = ipaddress.ip_network(net)\n",
    "\n",
    "for ip in ip_list:\n",
    "    print(str(ip))"
   ]
  },
  {
   "cell_type": "markdown",
   "source": [
    "# 协程\n",
    "\n",
    "多进程多线程问题：\n",
    "同一个进程虽然有多个线程，但同一时刻只有一个线程在解释器执行，\n",
    "虚拟器的GIL控制，只有一个线程运行。\n",
    "1. 设置GIL.\n",
    "2. 切换到一个线程去执行\n",
    "3. 运行\n",
    "4. 把线程设置为睡眠状态\n",
    "5. 解锁GIL\n",
    "6.\n"
   ],
   "metadata": {
    "collapsed": false,
    "pycharm": {
     "name": "#%% md\n"
    }
   }
  }
 ],
 "metadata": {
  "kernelspec": {
   "display_name": "Python 3",
   "language": "python",
   "name": "python3"
  },
  "language_info": {
   "codemirror_mode": {
    "name": "ipython",
    "version": 2
   },
   "file_extension": ".py",
   "mimetype": "text/x-python",
   "name": "python",
   "nbconvert_exporter": "python",
   "pygments_lexer": "ipython2",
   "version": "2.7.6"
  }
 },
 "nbformat": 4,
 "nbformat_minor": 0
}