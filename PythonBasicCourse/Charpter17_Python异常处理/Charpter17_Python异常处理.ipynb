{
 "cells": [
  {
   "cell_type": "markdown",
   "metadata": {
    "collapsed": true,
    "pycharm": {
     "name": "#%% md\n"
    }
   },
   "source": [
    "由于系统或代码异常导致的程序问题，通过异常捕获或处理方案\n",
    "\n",
    "# try/except/else 语句\n",
    "\n",
    "```python\n",
    "try:\n",
    "    statements\n",
    "except Name1:\n",
    "    statements\n",
    "except Exception as var：\n",
    "    statements\n",
    "else：\n",
    "    statements\n",
    "finally：\n",
    "    statements\n",
    "```\n",
    "1. 匹配一种或所有的异常，可以将异常的内容赋值给var，进行打印或处理\n",
    "2. 无论是否匹配都要执行的内容通过finally来处理。\n",
    "\n",
    "\n",
    "\n",
    "\n"
   ]
  }
 ],
 "metadata": {
  "kernelspec": {
   "display_name": "Python 3",
   "language": "python",
   "name": "python3"
  },
  "language_info": {
   "codemirror_mode": {
    "name": "ipython",
    "version": 2
   },
   "file_extension": ".py",
   "mimetype": "text/x-python",
   "name": "python",
   "nbconvert_exporter": "python",
   "pygments_lexer": "ipython2",
   "version": "2.7.6"
  }
 },
 "nbformat": 4,
 "nbformat_minor": 0
}