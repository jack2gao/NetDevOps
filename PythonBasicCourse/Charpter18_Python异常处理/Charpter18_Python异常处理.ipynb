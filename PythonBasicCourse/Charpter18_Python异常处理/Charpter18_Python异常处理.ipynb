{
 "cells": [
  {
   "cell_type": "markdown",
   "metadata": {
    "collapsed": true,
    "pycharm": {
     "name": "#%% md\n"
    }
   },
   "source": [
    "由于系统或代码异常导致的程序问题，通过异常捕获或处理方案\n",
    "\n",
    "# try/except/else 语句\n",
    "\n",
    "```python\n",
    "try:\n",
    "    statements\n",
    "except Name1，Name2 as var：\n",
    "    statements\n",
    "else：\n",
    "    statements\n",
    "finally：\n",
    "    statements\n",
    "```\n"
   ]
  }
 ],
 "metadata": {
  "kernelspec": {
   "display_name": "Python 3",
   "language": "python",
   "name": "python3"
  },
  "language_info": {
   "codemirror_mode": {
    "name": "ipython",
    "version": 2
   },
   "file_extension": ".py",
   "mimetype": "text/x-python",
   "name": "python",
   "nbconvert_exporter": "python",
   "pygments_lexer": "ipython2",
   "version": "2.7.6"
  }
 },
 "nbformat": 4,
 "nbformat_minor": 0
}