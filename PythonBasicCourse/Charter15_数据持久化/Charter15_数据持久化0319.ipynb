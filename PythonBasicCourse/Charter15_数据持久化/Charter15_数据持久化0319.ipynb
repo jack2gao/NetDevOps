{
 "cells": [
  {
   "cell_type": "markdown",
   "metadata": {
    "collapsed": true,
    "pycharm": {
     "name": "#%% md\n"
    }
   },
   "source": [
    "# 数据持久化方案\n",
    "\n",
    "## pickle\n",
    "将内存中的Python对象转化为序列化的字节流\n",
    "\n",
    "将对象转换为字节流，将对象字节流转换为对象"
   ]
  },
  {
   "cell_type": "markdown",
   "source": [
    "## shelves\n",
    "自动将对象pickle进和pickle出， 一个基于键访问的文件系统\n",
    "\n",
    "不需要手动的为每一个记录管理普通文件，自动分隔存储记录"
   ],
   "metadata": {
    "collapsed": false,
    "pycharm": {
     "name": "#%% md\n"
    }
   }
  },
  {
   "cell_type": "markdown",
   "source": [
    "# 数据库\n",
    "## SQLite简介\n",
    "\n",
    "软件库，无服务器，零配置，事务性SQL数据库引擎\n",
    "\n",
    "入门：SQLite  (关系)\n",
    "关系：PSQL or Mysql\n",
    "时序：influxdb or Prometheus\n",
    "搜索：Elasticsearch(ELK)"
   ],
   "metadata": {
    "collapsed": false,
    "pycharm": {
     "name": "#%% md\n"
    }
   }
  },
  {
   "cell_type": "code",
   "execution_count": 11,
   "outputs": [
    {
     "ename": "PermissionError",
     "evalue": "[WinError 32] 另一个程序正在使用此文件，进程无法访问。: 'jack2.sqlite'",
     "output_type": "error",
     "traceback": [
      "\u001B[1;31m---------------------------------------------------------------------------\u001B[0m",
      "\u001B[1;31mPermissionError\u001B[0m                           Traceback (most recent call last)",
      "Input \u001B[1;32mIn [11]\u001B[0m, in \u001B[0;36m<cell line: 3>\u001B[1;34m()\u001B[0m\n\u001B[0;32m      2\u001B[0m \u001B[38;5;28;01mimport\u001B[39;00m \u001B[38;5;21;01msqlite3\u001B[39;00m\n\u001B[0;32m      3\u001B[0m \u001B[38;5;28;01mif\u001B[39;00m os\u001B[38;5;241m.\u001B[39mpath\u001B[38;5;241m.\u001B[39mexists(\u001B[38;5;124m'\u001B[39m\u001B[38;5;124mjack2.sqlite\u001B[39m\u001B[38;5;124m'\u001B[39m):\n\u001B[1;32m----> 4\u001B[0m     \u001B[43mos\u001B[49m\u001B[38;5;241;43m.\u001B[39;49m\u001B[43mremove\u001B[49m\u001B[43m(\u001B[49m\u001B[38;5;124;43m'\u001B[39;49m\u001B[38;5;124;43mjack2.sqlite\u001B[39;49m\u001B[38;5;124;43m'\u001B[39;49m\u001B[43m)\u001B[49m\n\u001B[0;32m      5\u001B[0m conn \u001B[38;5;241m=\u001B[39m sqlite3\u001B[38;5;241m.\u001B[39mconnect(\u001B[38;5;124m'\u001B[39m\u001B[38;5;124mjack2.sqlite\u001B[39m\u001B[38;5;124m'\u001B[39m)\n\u001B[0;32m      6\u001B[0m cursor \u001B[38;5;241m=\u001B[39m conn\u001B[38;5;241m.\u001B[39mcursor()\n",
      "\u001B[1;31mPermissionError\u001B[0m: [WinError 32] 另一个程序正在使用此文件，进程无法访问。: 'jack2.sqlite'"
     ]
    }
   ],
   "source": [
    "import os.path\n",
    "import sqlite3\n",
    "if os.path.exists('jack2.sqlite'):\n",
    "    os.remove('jack2.sqlite')\n",
    "conn = sqlite3.connect('jack2.sqlite')\n",
    "cursor = conn.cursor()\n",
    "cursor.execute(\"create table test1(t1 int,t2 varchar(40))\")\n",
    "cursor.execute(\"insert into test1(t1,t2) values (11,'hello world!') \")\n",
    "cursor.execute(\"insert into test1(t1,t2) values (12, 'hello python!')\")\n",
    "cursor.execute(\"select * from test1\")\n",
    "result = cursor.fetchall()\n",
    "\n",
    "# for entry in result:\n",
    "    # print(entry)\n"
   ],
   "metadata": {
    "collapsed": false,
    "pycharm": {
     "name": "#%%\n"
    }
   }
  },
  {
   "cell_type": "code",
   "execution_count": null,
   "outputs": [],
   "source": [],
   "metadata": {
    "collapsed": false,
    "pycharm": {
     "name": "#%%\n"
    }
   }
  },
  {
   "cell_type": "markdown",
   "source": [
    "DB Browser"
   ],
   "metadata": {
    "collapsed": false,
    "pycharm": {
     "name": "#%% md\n"
    }
   }
  },
  {
   "cell_type": "markdown",
   "source": [
    "## XML\n",
    "XML可扩展标记语言\n",
    " 按照应用目标扩展的通用标记语言\n",
    "\n",
    "XML /HTML 通用标记语言简化演进。\n",
    "\n",
    "* 网路设备备份的配置为xml\n",
    "* API对设备操作需要xml\n",
    "\n",
    "HTML用于呈现页面，浏览器兼容性强\n",
    "XML用于保存数据的，非常严谨的格式\n",
    "\n",
    "使用xmltodict的模块将xml转换为有序字典，来进行数据出来，该模块同样支持将dict转换为xml格式\n",
    "\n",
    "> pprint 美观的标识层次"
   ],
   "metadata": {
    "collapsed": false,
    "pycharm": {
     "name": "#%% md\n"
    }
   }
  },
  {
   "cell_type": "markdown",
   "source": [
    "# jinjia2\n",
    "[jinjia2](http://docs.jinkan.org/docs/jinja2)\n",
    "[jinjia2](http://docs.jinkan.org/docs/jinja2/)\n",
    "\n",
    "了解结构模板，通过jinja2构造模板，替换生成结构化数据。"
   ],
   "metadata": {
    "collapsed": false,
    "pycharm": {
     "name": "#%% md\n"
    }
   }
  },
  {
   "cell_type": "markdown",
   "source": [
    "## JSON\n",
    "\n",
    "1. 备份数据可能是JSON数据\n",
    "2. API的接口的数据格式用JSON\n",
    "\n",
    "对比人机交互的SSH操作，交互的是字符串，非结构化\n",
    "自动化程序交互HTTP操作，交互的是JSON格式，结构化数据\n",
    "\n",
    "和字典区别：\n",
    "1. 字符串必须双引号，不能是单引号；\n",
    "2. true/false，而dict则是True/False\n",
    "3. 个别对象不能序列化，例如datetime\n",
    "\n",
    "* dump  (对象-->文件）\n",
    "* load  (文件-->对象）\n",
    "\n",
    "* dumps (对象-->字符串）\n",
    "* loads (字符串--->对象）"
   ],
   "metadata": {
    "collapsed": false,
    "pycharm": {
     "name": "#%% md\n"
    }
   }
  },
  {
   "cell_type": "code",
   "execution_count": 20,
   "outputs": [
    {
     "name": "stdout",
     "output_type": "stream",
     "text": [
      "把Python的对象转换为JSON格式，并写入文件\n",
      "{'youyou': 8, 'jack': 11, 'M&D': [39, 39]}\n",
      "{\"youyou\": 8, \"jack\": 11, \"M&D\": [39, 39]}\n",
      "<class 'str'>\n",
      "{'youyou': 8, 'jack': 11, 'M&D': [39, 39]}\n",
      "<class 'dict'>\n"
     ]
    }
   ],
   "source": [
    "import json\n",
    "\n",
    "source_db = {'youyou':8,\"jack\":11,\"M&D\":[39,39]}\n",
    "\n",
    "print(\"把Python的对象转换为JSON格式，并写入文件\")\n",
    "with open(\"D:\\\\PycharmProjects\\\\PythonCourse\\\\code\\\\example_json.json\", \"w\", encoding=\"utf-8\") as obj:\n",
    "    json.dump(source_db,obj)\n",
    "\n",
    "with open(\"D:\\\\PycharmProjects\\\\PythonCourse\\\\code\\\\example_json.json\", \"r\") as obj:\n",
    "    dict_ = json.load((obj))\n",
    "    print(dict_)\n",
    "\n",
    "str_ = json.dumps(source_db)\n",
    "print(str_)\n",
    "print(type(str_))\n",
    "\n",
    "obj_ =  json.loads(str_)\n",
    "print(obj_)\n",
    "print(type(obj_))"
   ],
   "metadata": {
    "collapsed": false,
    "pycharm": {
     "name": "#%%\n"
    }
   }
  },
  {
   "cell_type": "markdown",
   "source": [
    "## Base64\n",
    "\n",
    "一种编码方式：\n",
    "可以把任意的输入，转换为Base64的格式。\n",
    "[BASE64编码格式](https://base64.us/)\n",
    "jack --->   amFjaw==\n",
    ">实现一种安全的编码转换。比如一些特殊字符都会转换为安全编码\n",
    "\n",
    "### 对比URL编码\n",
    "https://www.baidu.com/s?wd=%E9%AB%98%E5%A4%A9%E9%BE%99\n",
    "\n",
    "其中%开头的编码就是URL编码\n",
    "\n",
    "在网络传输数据过程一般建议通过编码为BASE64的格式后再做传递。"
   ],
   "metadata": {
    "collapsed": false,
    "pycharm": {
     "name": "#%% md\n"
    }
   }
  },
  {
   "cell_type": "code",
   "execution_count": null,
   "outputs": [],
   "source": [],
   "metadata": {
    "collapsed": false,
    "pycharm": {
     "name": "#%%\n"
    }
   }
  },
  {
   "cell_type": "code",
   "execution_count": null,
   "outputs": [],
   "source": [],
   "metadata": {
    "collapsed": false,
    "pycharm": {
     "name": "#%%\n"
    }
   }
  }
 ],
 "metadata": {
  "kernelspec": {
   "display_name": "Python 3",
   "language": "python",
   "name": "python3"
  },
  "language_info": {
   "codemirror_mode": {
    "name": "ipython",
    "version": 2
   },
   "file_extension": ".py",
   "mimetype": "text/x-python",
   "name": "python",
   "nbconvert_exporter": "python",
   "pygments_lexer": "ipython2",
   "version": "2.7.6"
  }
 },
 "nbformat": 4,
 "nbformat_minor": 0
}