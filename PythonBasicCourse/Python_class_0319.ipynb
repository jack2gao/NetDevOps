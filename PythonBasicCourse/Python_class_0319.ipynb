{
 "cells": [
  {
   "cell_type": "markdown",
   "metadata": {
    "collapsed": true,
    "pycharm": {
     "name": "#%% md\n"
    }
   },
   "source": [
    "# 类\n",
    "* 面向对象\n",
    "* 面向过程\n",
    "\n",
    "\n",
    "## 类定义\n",
    "类是创建对象的工厂，有属性和方法\n",
    "\n",
    "类可以被其他类继承，或者是实例化\n",
    "\n",
    "### 类的特点\n",
    "\n",
    "Struture 结构\n",
    "\n",
    "通过OOP 把记录数据 和 处理逻辑 自然结合起来，类既提供了程序单元的逻辑和结构合同并在包中\n",
    "\n",
    "Customization 定制\n",
    "\n",
    "编写新的子类可扩展和定制类，\n",
    "\n"
   ]
  },
  {
   "cell_type": "code",
   "execution_count": 16,
   "outputs": [
    {
     "name": "stdout",
     "output_type": "stream",
     "text": [
      "None\n",
      "Jack2\n",
      "550\n",
      "YouyouGao\n",
      "Jack2\n",
      "660\n"
     ]
    }
   ],
   "source": [
    "class Persion:\n",
    "\n",
    "    #初始化函数，提供属性\n",
    "    def __init__(self, name, age, pay=0, job=None):\n",
    "        self.name = name\n",
    "        self.age = age\n",
    "        self.pay = pay\n",
    "        self.job = job\n",
    "\n",
    "    #定义方法，可以打印，返回值，处理数据\n",
    "    def getlastname(self):\n",
    "\n",
    "        if \" \" in self.name:\n",
    "            return  self.name.split(\" \")[1]\n",
    "        else:\n",
    "            return self.name\n",
    "\n",
    "    def giveraise(self, percent):\n",
    "        self.pay = int(self.pay*(1+ percent))\n",
    "\n",
    "if __name__ == \"__main__\":\n",
    "    bob  = Persion(\"Jack2\", 10, 500)\n",
    "    jack  = Persion(\"YouyouGao\", 7, 100)\n",
    "\n",
    "    print(bob.job)\n",
    "    print(bob.name)\n",
    "\n",
    "    bob.pay = int(bob.pay*(1+0.1))\n",
    "    print(bob.pay)\n",
    "    print(jack.getlastname())\n",
    "    print(bob.getlastname())\n",
    "\n",
    "    bob.giveraise(0.2)\n",
    "    print(bob.pay)"
   ],
   "metadata": {
    "collapsed": false,
    "pycharm": {
     "name": "#%%\n"
    }
   }
  },
  {
   "cell_type": "code",
   "execution_count": 25,
   "outputs": [
    {
     "name": "stdout",
     "output_type": "stream",
     "text": [
      "gao\n",
      "youyou\n",
      "1000\n",
      "3100\n",
      "<__main__.Persion object at 0x00000220DC3D9100>\n",
      "<Class:Manager => Name:youyou gao,Pay:3100,Job:Manager\n"
     ]
    }
   ],
   "source": [
    "class Manager(Persion):\n",
    "\n",
    "    def __init__(self,name, age, pay):\n",
    "        Persion.__init__(self,name,age,pay,job=\"Manager\")\n",
    "\n",
    "    def getfirstname(self):\n",
    "        if \" \" in self.name:\n",
    "            return self.name.split(\" \")[0]\n",
    "        else:\n",
    "            return  self.name\n",
    "\n",
    "\n",
    "    def giveraise(self, percent, bonus=0.1):\n",
    "        #self.pay = int(self.pay*(1+percent + bonus))\n",
    "        # print(self.pay)\n",
    "        Persion.giveraise(self, percent + bonus)\n",
    "\n",
    "    #格式化返回类的类型\n",
    "    def __str__(self):\n",
    "        return f\"<Class:{self.__class__.__name__} => Name:{self.name},Pay:{self.pay},Job:{self.job}\"\n",
    "\n",
    "if __name__ == \"__main__\":\n",
    "    bob = Persion(\"Jack gao\", 42, 5000)\n",
    "    youyou = Manager(\"youyou gao\", 8, 1000)\n",
    "    print(youyou.getlastname())\n",
    "    print(youyou.getfirstname())\n",
    "    print(youyou.pay)\n",
    "    youyou.giveraise(2)\n",
    "    print(youyou.pay)\n",
    "\n",
    "    print(bob)\n",
    "    print(youyou)"
   ],
   "metadata": {
    "collapsed": false,
    "pycharm": {
     "name": "#%%\n"
    }
   }
  },
  {
   "cell_type": "markdown",
   "source": [
    "## class的用法\n",
    "\n",
    "用于存储数据"
   ],
   "metadata": {
    "collapsed": false,
    "pycharm": {
     "name": "#%% md\n"
    }
   }
  },
  {
   "cell_type": "code",
   "execution_count": 26,
   "outputs": [
    {
     "name": "stdout",
     "output_type": "stream",
     "text": [
      "{'sip': '1.1.1.1', 'dip': '2.2.2.2', 'dport': '23'}\n"
     ]
    }
   ],
   "source": [
    "ip_pkt_dict = {\n",
    "    'sip': '1.1.1.1',\n",
    "    'dip': '2.2.2.2',\n",
    "    'dport': '23'\n",
    "}\n",
    "\n",
    "print(ip_pkt_dict)"
   ],
   "metadata": {
    "collapsed": false,
    "pycharm": {
     "name": "#%%\n"
    }
   }
  },
  {
   "cell_type": "code",
   "execution_count": 27,
   "outputs": [
    {
     "name": "stdout",
     "output_type": "stream",
     "text": [
      "源IP：1.1.1.1|目的IP：2.2.2.2|目的端口：23\n"
     ]
    }
   ],
   "source": [
    "class IP:\n",
    "    def __init__(self, sip, dip, dport):\n",
    "        self.sip = sip\n",
    "        self.dip = dip\n",
    "        self.dport = dport\n",
    "\n",
    "    def __str__(self):\n",
    "        return f'源IP：{self.sip}|目的IP：{self.dip}|目的端口：{self.dport}'\n",
    "\n",
    "pkt1 = IP(\"1.1.1.1\",\"2.2.2.2\",23)\n",
    "\n",
    "print(pkt1)"
   ],
   "metadata": {
    "collapsed": false,
    "pycharm": {
     "name": "#%%\n"
    }
   }
  },
  {
   "cell_type": "code",
   "execution_count": null,
   "outputs": [],
   "source": [
    "\n",
    "#%\n",
    "%\n"
   ],
   "metadata": {
    "collapsed": false,
    "pycharm": {
     "name": "#%%\n"
    }
   }
  },
  {
   "cell_type": "code",
   "execution_count": null,
   "outputs": [],
   "source": [],
   "metadata": {
    "collapsed": false,
    "pycharm": {
     "name": "#%%\n"
    }
   }
  },
  {
   "cell_type": "code",
   "execution_count": null,
   "outputs": [],
   "source": [],
   "metadata": {
    "collapsed": false,
    "pycharm": {
     "name": "#%%\n"
    }
   }
  },
  {
   "cell_type": "code",
   "execution_count": null,
   "outputs": [],
   "source": [],
   "metadata": {
    "collapsed": false,
    "pycharm": {
     "name": "#%%\n"
    }
   }
  },
  {
   "cell_type": "code",
   "execution_count": null,
   "outputs": [],
   "source": [],
   "metadata": {
    "collapsed": false,
    "pycharm": {
     "name": "#%%\n"
    }
   }
  },
  {
   "cell_type": "code",
   "execution_count": null,
   "outputs": [],
   "source": [],
   "metadata": {
    "collapsed": false,
    "pycharm": {
     "name": "#%%\n"
    }
   }
  }
 ],
 "metadata": {
  "kernelspec": {
   "display_name": "Python 3",
   "language": "python",
   "name": "python3"
  },
  "language_info": {
   "codemirror_mode": {
    "name": "ipython",
    "version": 2
   },
   "file_extension": ".py",
   "mimetype": "text/x-python",
   "name": "python",
   "nbconvert_exporter": "python",
   "pygments_lexer": "ipython2",
   "version": "2.7.6"
  }
 },
 "nbformat": 4,
 "nbformat_minor": 0
}