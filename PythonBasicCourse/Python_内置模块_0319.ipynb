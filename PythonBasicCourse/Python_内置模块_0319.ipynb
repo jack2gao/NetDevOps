{
 "cells": [
  {
   "cell_type": "markdown",
   "source": [
    "# 内置系统模块\n",
    "\n",
    "* Sys os\n",
    "* glob  ---文件名扩展 所搜\n",
    "* socket\n",
    "* threading, _thread, queue\n",
    "* time, timeit\n",
    "* subprocess,multiprocessiong\n",
    "* singal,\n",
    "\n",
    "## sys\n",
    "和Python解释器相关\n",
    "## os\n",
    "和操作系统有关\n"
   ],
   "metadata": {
    "collapsed": false
   }
  },
  {
   "cell_type": "code",
   "execution_count": null,
   "outputs": [],
   "source": [
    "import io\n",
    "import subprocess\n",
    "import sys\n",
    "sys.platform # 提取系统平台信息"
   ],
   "metadata": {
    "collapsed": false,
    "pycharm": {
     "name": "#%%\n"
    }
   }
  },
  {
   "cell_type": "code",
   "execution_count": null,
   "outputs": [],
   "source": [
    "sys.version #提取Python解释器的把那本"
   ],
   "metadata": {
    "collapsed": false,
    "pycharm": {
     "name": "#%%\n"
    }
   }
  },
  {
   "cell_type": "code",
   "execution_count": null,
   "outputs": [],
   "source": [
    "sys.path   # 系统变量"
   ],
   "metadata": {
    "collapsed": false,
    "pycharm": {
     "name": "#%%\n"
    }
   }
  },
  {
   "cell_type": "code",
   "execution_count": 9,
   "outputs": [
    {
     "data": {
      "text/plain": "<module 'datetime' from 'C:\\\\Python39\\\\lib\\\\datetime.py'>"
     },
     "execution_count": 9,
     "metadata": {},
     "output_type": "execute_result"
    }
   ],
   "source": [
    "sys.modules.get(\"datetime\")"
   ],
   "metadata": {
    "collapsed": false,
    "pycharm": {
     "name": "#%%\n"
    }
   }
  },
  {
   "cell_type": "code",
   "execution_count": 6,
   "outputs": [
    {
     "data": {
      "text/plain": "{'sys': <module 'sys' (built-in)>,\n 'builtins': <module 'builtins' (built-in)>,\n '_frozen_importlib': <module 'importlib._bootstrap' (frozen)>,\n '_imp': <module '_imp' (built-in)>,\n '_thread': <module '_thread' (built-in)>,\n '_warnings': <module '_warnings' (built-in)>,\n '_weakref': <module '_weakref' (built-in)>,\n '_io': <module 'io' (built-in)>,\n 'marshal': <module 'marshal' (built-in)>,\n 'nt': <module 'nt' (built-in)>,\n 'winreg': <module 'winreg' (built-in)>,\n '_frozen_importlib_external': <module 'importlib._bootstrap_external' (frozen)>,\n 'time': <module 'time' (built-in)>,\n 'zipimport': <module 'zipimport' (frozen)>,\n '_codecs': <module '_codecs' (built-in)>,\n 'codecs': <module 'codecs' from 'C:\\\\Python39\\\\lib\\\\codecs.py'>,\n 'encodings.aliases': <module 'encodings.aliases' from 'C:\\\\Python39\\\\lib\\\\encodings\\\\aliases.py'>,\n 'encodings': <module 'encodings' from 'C:\\\\Python39\\\\lib\\\\encodings\\\\__init__.py'>,\n 'encodings.utf_8': <module 'encodings.utf_8' from 'C:\\\\Python39\\\\lib\\\\encodings\\\\utf_8.py'>,\n '_codecs_cn': <module '_codecs_cn' (built-in)>,\n '_multibytecodec': <module '_multibytecodec' (built-in)>,\n 'encodings.gbk': <module 'encodings.gbk' from 'C:\\\\Python39\\\\lib\\\\encodings\\\\gbk.py'>,\n '_signal': <module '_signal' (built-in)>,\n 'encodings.latin_1': <module 'encodings.latin_1' from 'C:\\\\Python39\\\\lib\\\\encodings\\\\latin_1.py'>,\n '_abc': <module '_abc' (built-in)>,\n 'abc': <module 'abc' from 'C:\\\\Python39\\\\lib\\\\abc.py'>,\n 'io': <module 'io' from 'C:\\\\Python39\\\\lib\\\\io.py'>,\n '__main__': <module '__main__'>,\n '_stat': <module '_stat' (built-in)>,\n 'stat': <module 'stat' from 'C:\\\\Python39\\\\lib\\\\stat.py'>,\n '_collections_abc': <module '_collections_abc' from 'C:\\\\Python39\\\\lib\\\\_collections_abc.py'>,\n 'genericpath': <module 'genericpath' from 'C:\\\\Python39\\\\lib\\\\genericpath.py'>,\n 'ntpath': <module 'ntpath' from 'C:\\\\Python39\\\\lib\\\\ntpath.py'>,\n 'os.path': <module 'ntpath' from 'C:\\\\Python39\\\\lib\\\\ntpath.py'>,\n 'os': <module 'os' from 'C:\\\\Python39\\\\lib\\\\os.py'>,\n '_sitebuiltins': <module '_sitebuiltins' from 'C:\\\\Python39\\\\lib\\\\_sitebuiltins.py'>,\n '_locale': <module '_locale' (built-in)>,\n '_bootlocale': <module '_bootlocale' from 'C:\\\\Python39\\\\lib\\\\_bootlocale.py'>,\n '_heapq': <module '_heapq' (built-in)>,\n 'heapq': <module 'heapq' from 'C:\\\\Python39\\\\lib\\\\heapq.py'>,\n 'itertools': <module 'itertools' (built-in)>,\n 'keyword': <module 'keyword' from 'C:\\\\Python39\\\\lib\\\\keyword.py'>,\n '_operator': <module '_operator' (built-in)>,\n 'operator': <module 'operator' from 'C:\\\\Python39\\\\lib\\\\operator.py'>,\n 'reprlib': <module 'reprlib' from 'C:\\\\Python39\\\\lib\\\\reprlib.py'>,\n '_collections': <module '_collections' (built-in)>,\n 'collections': <module 'collections' from 'C:\\\\Python39\\\\lib\\\\collections\\\\__init__.py'>,\n 'types': <module 'types' from 'C:\\\\Python39\\\\lib\\\\types.py'>,\n '_functools': <module '_functools' (built-in)>,\n 'functools': <module 'functools' from 'C:\\\\Python39\\\\lib\\\\functools.py'>,\n 'importlib._bootstrap': <module 'importlib._bootstrap' (frozen)>,\n 'importlib._bootstrap_external': <module 'importlib._bootstrap_external' (frozen)>,\n 'warnings': <module 'warnings' from 'C:\\\\Python39\\\\lib\\\\warnings.py'>,\n 'importlib': <module 'importlib' from 'C:\\\\Python39\\\\lib\\\\importlib\\\\__init__.py'>,\n 'importlib.machinery': <module 'importlib.machinery' from 'C:\\\\Python39\\\\lib\\\\importlib\\\\machinery.py'>,\n 'collections.abc': <module 'collections.abc' from 'C:\\\\Python39\\\\lib\\\\collections\\\\abc.py'>,\n 'contextlib': <module 'contextlib' from 'C:\\\\Python39\\\\lib\\\\contextlib.py'>,\n 'enum': <module 'enum' from 'C:\\\\Python39\\\\lib\\\\enum.py'>,\n '_sre': <module '_sre' (built-in)>,\n 'sre_constants': <module 'sre_constants' from 'C:\\\\Python39\\\\lib\\\\sre_constants.py'>,\n 'sre_parse': <module 'sre_parse' from 'C:\\\\Python39\\\\lib\\\\sre_parse.py'>,\n 'sre_compile': <module 'sre_compile' from 'C:\\\\Python39\\\\lib\\\\sre_compile.py'>,\n 'copyreg': <module 'copyreg' from 'C:\\\\Python39\\\\lib\\\\copyreg.py'>,\n 're': <module 're' from 'C:\\\\Python39\\\\lib\\\\re.py'>,\n 'typing.io': typing.io,\n 'typing.re': typing.re,\n 'typing': <module 'typing' from 'C:\\\\Python39\\\\lib\\\\typing.py'>,\n 'importlib.abc': <module 'importlib.abc' from 'C:\\\\Python39\\\\lib\\\\importlib\\\\abc.py'>,\n 'importlib.util': <module 'importlib.util' from 'C:\\\\Python39\\\\lib\\\\importlib\\\\util.py'>,\n '_virtualenv': <module '_virtualenv' from 'd:\\\\users\\\\cestm\\\\.virtualenvs\\\\pythoncourse\\\\lib\\\\site-packages\\\\_virtualenv.py'>,\n 'pywin32_system32': <module 'pywin32_system32' (namespace)>,\n 'pywin32_bootstrap': <module 'pywin32_bootstrap' from 'd:\\\\users\\\\cestm\\\\.virtualenvs\\\\pythoncourse\\\\lib\\\\site-packages\\\\win32\\\\lib\\\\pywin32_bootstrap.py'>,\n 'site': <module 'site' from 'C:\\\\Python39\\\\lib\\\\site.py'>,\n '_weakrefset': <module '_weakrefset' from 'C:\\\\Python39\\\\lib\\\\_weakrefset.py'>,\n 'weakref': <module 'weakref' from 'C:\\\\Python39\\\\lib\\\\weakref.py'>,\n 'pkgutil': <module 'pkgutil' from 'C:\\\\Python39\\\\lib\\\\pkgutil.py'>,\n 'runpy': <module 'runpy' from 'C:\\\\Python39\\\\lib\\\\runpy.py'>,\n 'ipykernel._version': <module 'ipykernel._version' from 'd:\\\\users\\\\cestm\\\\.virtualenvs\\\\pythoncourse\\\\lib\\\\site-packages\\\\ipykernel\\\\_version.py'>,\n '_json': <module '_json' (built-in)>,\n 'json.scanner': <module 'json.scanner' from 'C:\\\\Python39\\\\lib\\\\json\\\\scanner.py'>,\n 'json.decoder': <module 'json.decoder' from 'C:\\\\Python39\\\\lib\\\\json\\\\decoder.py'>,\n 'json.encoder': <module 'json.encoder' from 'C:\\\\Python39\\\\lib\\\\json\\\\encoder.py'>,\n 'json': <module 'json' from 'C:\\\\Python39\\\\lib\\\\json\\\\__init__.py'>,\n 'errno': <module 'errno' (built-in)>,\n 'signal': <module 'signal' from 'C:\\\\Python39\\\\lib\\\\signal.py'>,\n 'threading': <module 'threading' from 'C:\\\\Python39\\\\lib\\\\threading.py'>,\n 'msvcrt': <module 'msvcrt' (built-in)>,\n '_winapi': <module '_winapi' (built-in)>,\n 'subprocess': <module 'subprocess' from 'C:\\\\Python39\\\\lib\\\\subprocess.py'>,\n 'jupyter_client._version': <module 'jupyter_client._version' from 'd:\\\\users\\\\cestm\\\\.virtualenvs\\\\pythoncourse\\\\lib\\\\site-packages\\\\jupyter_client\\\\_version.py'>,\n '_ast': <module '_ast' (built-in)>,\n 'ast': <module 'ast' from 'C:\\\\Python39\\\\lib\\\\ast.py'>,\n '_opcode': <module '_opcode' (built-in)>,\n 'opcode': <module 'opcode' from 'C:\\\\Python39\\\\lib\\\\opcode.py'>,\n 'dis': <module 'dis' from 'C:\\\\Python39\\\\lib\\\\dis.py'>,\n 'token': <module 'token' from 'C:\\\\Python39\\\\lib\\\\token.py'>,\n 'tokenize': <module 'tokenize' from 'C:\\\\Python39\\\\lib\\\\tokenize.py'>,\n 'linecache': <module 'linecache' from 'C:\\\\Python39\\\\lib\\\\linecache.py'>,\n 'inspect': <module 'inspect' from 'C:\\\\Python39\\\\lib\\\\inspect.py'>,\n 'traitlets.utils': <module 'traitlets.utils' from 'd:\\\\users\\\\cestm\\\\.virtualenvs\\\\pythoncourse\\\\lib\\\\site-packages\\\\traitlets\\\\utils\\\\__init__.py'>,\n 'traitlets.utils.getargspec': <module 'traitlets.utils.getargspec' from 'd:\\\\users\\\\cestm\\\\.virtualenvs\\\\pythoncourse\\\\lib\\\\site-packages\\\\traitlets\\\\utils\\\\getargspec.py'>,\n 'traitlets.utils.importstring': <module 'traitlets.utils.importstring' from 'd:\\\\users\\\\cestm\\\\.virtualenvs\\\\pythoncourse\\\\lib\\\\site-packages\\\\traitlets\\\\utils\\\\importstring.py'>,\n 'traitlets.utils.sentinel': <module 'traitlets.utils.sentinel' from 'd:\\\\users\\\\cestm\\\\.virtualenvs\\\\pythoncourse\\\\lib\\\\site-packages\\\\traitlets\\\\utils\\\\sentinel.py'>,\n 'traitlets.utils.bunch': <module 'traitlets.utils.bunch' from 'd:\\\\users\\\\cestm\\\\.virtualenvs\\\\pythoncourse\\\\lib\\\\site-packages\\\\traitlets\\\\utils\\\\bunch.py'>,\n 'traitlets.utils.descriptions': <module 'traitlets.utils.descriptions' from 'd:\\\\users\\\\cestm\\\\.virtualenvs\\\\pythoncourse\\\\lib\\\\site-packages\\\\traitlets\\\\utils\\\\descriptions.py'>,\n 'traitlets.traitlets': <module 'traitlets.traitlets' from 'd:\\\\users\\\\cestm\\\\.virtualenvs\\\\pythoncourse\\\\lib\\\\site-packages\\\\traitlets\\\\traitlets.py'>,\n 'copy': <module 'copy' from 'C:\\\\Python39\\\\lib\\\\copy.py'>,\n 'traitlets.utils.decorators': <module 'traitlets.utils.decorators' from 'd:\\\\users\\\\cestm\\\\.virtualenvs\\\\pythoncourse\\\\lib\\\\site-packages\\\\traitlets\\\\utils\\\\decorators.py'>,\n 'traitlets._version': <module 'traitlets._version' from 'd:\\\\users\\\\cestm\\\\.virtualenvs\\\\pythoncourse\\\\lib\\\\site-packages\\\\traitlets\\\\_version.py'>,\n 'traitlets': <module 'traitlets' from 'd:\\\\users\\\\cestm\\\\.virtualenvs\\\\pythoncourse\\\\lib\\\\site-packages\\\\traitlets\\\\__init__.py'>,\n 'concurrent': <module 'concurrent' from 'C:\\\\Python39\\\\lib\\\\concurrent\\\\__init__.py'>,\n 'traceback': <module 'traceback' from 'C:\\\\Python39\\\\lib\\\\traceback.py'>,\n '_string': <module '_string' (built-in)>,\n 'string': <module 'string' from 'C:\\\\Python39\\\\lib\\\\string.py'>,\n 'atexit': <module 'atexit' (built-in)>,\n 'logging': <module 'logging' from 'C:\\\\Python39\\\\lib\\\\logging\\\\__init__.py'>,\n 'concurrent.futures._base': <module 'concurrent.futures._base' from 'C:\\\\Python39\\\\lib\\\\concurrent\\\\futures\\\\_base.py'>,\n 'concurrent.futures': <module 'concurrent.futures' from 'C:\\\\Python39\\\\lib\\\\concurrent\\\\futures\\\\__init__.py'>,\n '_socket': <module '_socket' from 'C:\\\\Python39\\\\DLLs\\\\_socket.pyd'>,\n 'math': <module 'math' (built-in)>,\n 'select': <module 'select' from 'C:\\\\Python39\\\\DLLs\\\\select.pyd'>,\n 'selectors': <module 'selectors' from 'C:\\\\Python39\\\\lib\\\\selectors.py'>,\n 'socket': <module 'socket' from 'C:\\\\Python39\\\\lib\\\\socket.py'>,\n '_ssl': <module '_ssl' from 'C:\\\\Python39\\\\DLLs\\\\_ssl.pyd'>,\n '_struct': <module '_struct' (built-in)>,\n 'struct': <module 'struct' from 'C:\\\\Python39\\\\lib\\\\struct.py'>,\n 'binascii': <module 'binascii' (built-in)>,\n 'base64': <module 'base64' from 'C:\\\\Python39\\\\lib\\\\base64.py'>,\n 'ssl': <module 'ssl' from 'C:\\\\Python39\\\\lib\\\\ssl.py'>,\n 'asyncio.constants': <module 'asyncio.constants' from 'C:\\\\Python39\\\\lib\\\\asyncio\\\\constants.py'>,\n 'asyncio.format_helpers': <module 'asyncio.format_helpers' from 'C:\\\\Python39\\\\lib\\\\asyncio\\\\format_helpers.py'>,\n 'asyncio.base_futures': <module 'asyncio.base_futures' from 'C:\\\\Python39\\\\lib\\\\asyncio\\\\base_futures.py'>,\n 'asyncio.log': <module 'asyncio.log' from 'C:\\\\Python39\\\\lib\\\\asyncio\\\\log.py'>,\n 'asyncio.coroutines': <module 'asyncio.coroutines' from 'C:\\\\Python39\\\\lib\\\\asyncio\\\\coroutines.py'>,\n '_contextvars': <module '_contextvars' (built-in)>,\n 'contextvars': <module 'contextvars' from 'C:\\\\Python39\\\\lib\\\\contextvars.py'>,\n 'asyncio.exceptions': <module 'asyncio.exceptions' from 'C:\\\\Python39\\\\lib\\\\asyncio\\\\exceptions.py'>,\n 'asyncio.base_tasks': <module 'asyncio.base_tasks' from 'C:\\\\Python39\\\\lib\\\\asyncio\\\\base_tasks.py'>,\n '_asyncio': <module '_asyncio' from 'C:\\\\Python39\\\\DLLs\\\\_asyncio.pyd'>,\n 'asyncio.events': <module 'asyncio.events' from 'C:\\\\Python39\\\\lib\\\\asyncio\\\\events.py'>,\n 'asyncio.futures': <module 'asyncio.futures' from 'C:\\\\Python39\\\\lib\\\\asyncio\\\\futures.py'>,\n 'asyncio.protocols': <module 'asyncio.protocols' from 'C:\\\\Python39\\\\lib\\\\asyncio\\\\protocols.py'>,\n 'asyncio.transports': <module 'asyncio.transports' from 'C:\\\\Python39\\\\lib\\\\asyncio\\\\transports.py'>,\n 'asyncio.sslproto': <module 'asyncio.sslproto' from 'C:\\\\Python39\\\\lib\\\\asyncio\\\\sslproto.py'>,\n 'asyncio.locks': <module 'asyncio.locks' from 'C:\\\\Python39\\\\lib\\\\asyncio\\\\locks.py'>,\n 'asyncio.tasks': <module 'asyncio.tasks' from 'C:\\\\Python39\\\\lib\\\\asyncio\\\\tasks.py'>,\n 'asyncio.staggered': <module 'asyncio.staggered' from 'C:\\\\Python39\\\\lib\\\\asyncio\\\\staggered.py'>,\n 'asyncio.trsock': <module 'asyncio.trsock' from 'C:\\\\Python39\\\\lib\\\\asyncio\\\\trsock.py'>,\n 'asyncio.base_events': <module 'asyncio.base_events' from 'C:\\\\Python39\\\\lib\\\\asyncio\\\\base_events.py'>,\n 'asyncio.runners': <module 'asyncio.runners' from 'C:\\\\Python39\\\\lib\\\\asyncio\\\\runners.py'>,\n 'asyncio.queues': <module 'asyncio.queues' from 'C:\\\\Python39\\\\lib\\\\asyncio\\\\queues.py'>,\n 'asyncio.streams': <module 'asyncio.streams' from 'C:\\\\Python39\\\\lib\\\\asyncio\\\\streams.py'>,\n 'asyncio.subprocess': <module 'asyncio.subprocess' from 'C:\\\\Python39\\\\lib\\\\asyncio\\\\subprocess.py'>,\n 'asyncio.threads': <module 'asyncio.threads' from 'C:\\\\Python39\\\\lib\\\\asyncio\\\\threads.py'>,\n '_overlapped': <module '_overlapped' from 'C:\\\\Python39\\\\DLLs\\\\_overlapped.pyd'>,\n 'asyncio.base_subprocess': <module 'asyncio.base_subprocess' from 'C:\\\\Python39\\\\lib\\\\asyncio\\\\base_subprocess.py'>,\n 'asyncio.proactor_events': <module 'asyncio.proactor_events' from 'C:\\\\Python39\\\\lib\\\\asyncio\\\\proactor_events.py'>,\n 'asyncio.selector_events': <module 'asyncio.selector_events' from 'C:\\\\Python39\\\\lib\\\\asyncio\\\\selector_events.py'>,\n 'posixpath': <module 'posixpath' from 'C:\\\\Python39\\\\lib\\\\posixpath.py'>,\n 'fnmatch': <module 'fnmatch' from 'C:\\\\Python39\\\\lib\\\\fnmatch.py'>,\n 'zlib': <module 'zlib' (built-in)>,\n '_compression': <module '_compression' from 'C:\\\\Python39\\\\lib\\\\_compression.py'>,\n '_bz2': <module '_bz2' from 'C:\\\\Python39\\\\DLLs\\\\_bz2.pyd'>,\n 'bz2': <module 'bz2' from 'C:\\\\Python39\\\\lib\\\\bz2.py'>,\n '_lzma': <module '_lzma' from 'C:\\\\Python39\\\\DLLs\\\\_lzma.pyd'>,\n 'lzma': <module 'lzma' from 'C:\\\\Python39\\\\lib\\\\lzma.py'>,\n 'shutil': <module 'shutil' from 'C:\\\\Python39\\\\lib\\\\shutil.py'>,\n '_bisect': <module '_bisect' (built-in)>,\n 'bisect': <module 'bisect' from 'C:\\\\Python39\\\\lib\\\\bisect.py'>,\n '_random': <module '_random' (built-in)>,\n '_sha512': <module '_sha512' (built-in)>,\n 'random': <module 'random' from 'C:\\\\Python39\\\\lib\\\\random.py'>,\n 'tempfile': <module 'tempfile' from 'C:\\\\Python39\\\\lib\\\\tempfile.py'>,\n 'asyncio.windows_utils': <module 'asyncio.windows_utils' from 'C:\\\\Python39\\\\lib\\\\asyncio\\\\windows_utils.py'>,\n 'asyncio.windows_events': <module 'asyncio.windows_events' from 'C:\\\\Python39\\\\lib\\\\asyncio\\\\windows_events.py'>,\n 'asyncio': <module 'asyncio' from 'C:\\\\Python39\\\\lib\\\\asyncio\\\\__init__.py'>,\n '_queue': <module '_queue' from 'C:\\\\Python39\\\\DLLs\\\\_queue.pyd'>,\n 'queue': <module 'queue' from 'C:\\\\Python39\\\\lib\\\\queue.py'>,\n 'platform': <module 'platform' from 'C:\\\\Python39\\\\lib\\\\platform.py'>,\n 'zmq.backend.select': <module 'zmq.backend.select' from 'd:\\\\users\\\\cestm\\\\.virtualenvs\\\\pythoncourse\\\\lib\\\\site-packages\\\\zmq\\\\backend\\\\select.py'>,\n 'cython_runtime': <module 'cython_runtime'>,\n 'zmq.backend.cython.constants': <module 'zmq.backend.cython.constants' from 'd:\\\\users\\\\cestm\\\\.virtualenvs\\\\pythoncourse\\\\lib\\\\site-packages\\\\zmq\\\\backend\\\\cython\\\\constants.cp39-win_amd64.pyd'>,\n '_cython_0_29_24': <module '_cython_0_29_24'>,\n 'zmq.backend.cython.error': <module 'zmq.backend.cython.error' from 'd:\\\\users\\\\cestm\\\\.virtualenvs\\\\pythoncourse\\\\lib\\\\site-packages\\\\zmq\\\\backend\\\\cython\\\\error.cp39-win_amd64.pyd'>,\n 'zmq.error': <module 'zmq.error' from 'd:\\\\users\\\\cestm\\\\.virtualenvs\\\\pythoncourse\\\\lib\\\\site-packages\\\\zmq\\\\error.py'>,\n 'zmq.backend.cython.message': <module 'zmq.backend.cython.message' from 'd:\\\\users\\\\cestm\\\\.virtualenvs\\\\pythoncourse\\\\lib\\\\site-packages\\\\zmq\\\\backend\\\\cython\\\\message.cp39-win_amd64.pyd'>,\n 'zmq.backend.cython.context': <module 'zmq.backend.cython.context' from 'd:\\\\users\\\\cestm\\\\.virtualenvs\\\\pythoncourse\\\\lib\\\\site-packages\\\\zmq\\\\backend\\\\cython\\\\context.cp39-win_amd64.pyd'>,\n '_compat_pickle': <module '_compat_pickle' from 'C:\\\\Python39\\\\lib\\\\_compat_pickle.py'>,\n '_pickle': <module '_pickle' (built-in)>,\n 'pickle': <module 'pickle' from 'C:\\\\Python39\\\\lib\\\\pickle.py'>,\n 'zmq.backend.cython.socket': <module 'zmq.backend.cython.socket' from 'd:\\\\users\\\\cestm\\\\.virtualenvs\\\\pythoncourse\\\\lib\\\\site-packages\\\\zmq\\\\backend\\\\cython\\\\socket.cp39-win_amd64.pyd'>,\n 'zmq.backend.cython.utils': <module 'zmq.backend.cython.utils' from 'd:\\\\users\\\\cestm\\\\.virtualenvs\\\\pythoncourse\\\\lib\\\\site-packages\\\\zmq\\\\backend\\\\cython\\\\utils.cp39-win_amd64.pyd'>,\n 'zmq.backend.cython._poll': <module 'zmq.backend.cython._poll' from 'd:\\\\users\\\\cestm\\\\.virtualenvs\\\\pythoncourse\\\\lib\\\\site-packages\\\\zmq\\\\backend\\\\cython\\\\_poll.cp39-win_amd64.pyd'>,\n 'zmq.backend.cython._version': <module 'zmq.backend.cython._version' from 'd:\\\\users\\\\cestm\\\\.virtualenvs\\\\pythoncourse\\\\lib\\\\site-packages\\\\zmq\\\\backend\\\\cython\\\\_version.cp39-win_amd64.pyd'>,\n 'zmq.backend.cython._device': <module 'zmq.backend.cython._device' from 'd:\\\\users\\\\cestm\\\\.virtualenvs\\\\pythoncourse\\\\lib\\\\site-packages\\\\zmq\\\\backend\\\\cython\\\\_device.cp39-win_amd64.pyd'>,\n 'zmq.backend.cython._proxy_steerable': <module 'zmq.backend.cython._proxy_steerable' from 'd:\\\\users\\\\cestm\\\\.virtualenvs\\\\pythoncourse\\\\lib\\\\site-packages\\\\zmq\\\\backend\\\\cython\\\\_proxy_steerable.cp39-win_amd64.pyd'>,\n 'zmq.backend.cython': <module 'zmq.backend.cython' from 'd:\\\\users\\\\cestm\\\\.virtualenvs\\\\pythoncourse\\\\lib\\\\site-packages\\\\zmq\\\\backend\\\\cython\\\\__init__.py'>,\n 'zmq.backend': <module 'zmq.backend' from 'd:\\\\users\\\\cestm\\\\.virtualenvs\\\\pythoncourse\\\\lib\\\\site-packages\\\\zmq\\\\backend\\\\__init__.py'>,\n 'zmq.utils': <module 'zmq.utils' from 'd:\\\\users\\\\cestm\\\\.virtualenvs\\\\pythoncourse\\\\lib\\\\site-packages\\\\zmq\\\\utils\\\\__init__.py'>,\n 'zmq.utils.constant_names': <module 'zmq.utils.constant_names' from 'd:\\\\users\\\\cestm\\\\.virtualenvs\\\\pythoncourse\\\\lib\\\\site-packages\\\\zmq\\\\utils\\\\constant_names.py'>,\n 'zmq.sugar.constants': <module 'zmq.sugar.constants' from 'd:\\\\users\\\\cestm\\\\.virtualenvs\\\\pythoncourse\\\\lib\\\\site-packages\\\\zmq\\\\sugar\\\\constants.py'>,\n 'zmq.sugar.attrsettr': <module 'zmq.sugar.attrsettr' from 'd:\\\\users\\\\cestm\\\\.virtualenvs\\\\pythoncourse\\\\lib\\\\site-packages\\\\zmq\\\\sugar\\\\attrsettr.py'>,\n 'zmq.sugar.poll': <module 'zmq.sugar.poll' from 'd:\\\\users\\\\cestm\\\\.virtualenvs\\\\pythoncourse\\\\lib\\\\site-packages\\\\zmq\\\\sugar\\\\poll.py'>,\n 'zmq.utils.jsonapi': <module 'zmq.utils.jsonapi' from 'd:\\\\users\\\\cestm\\\\.virtualenvs\\\\pythoncourse\\\\lib\\\\site-packages\\\\zmq\\\\utils\\\\jsonapi.py'>,\n 'zmq.utils.strtypes': <module 'zmq.utils.strtypes' from 'd:\\\\users\\\\cestm\\\\.virtualenvs\\\\pythoncourse\\\\lib\\\\site-packages\\\\zmq\\\\utils\\\\strtypes.py'>,\n 'zmq.sugar.socket': <module 'zmq.sugar.socket' from 'd:\\\\users\\\\cestm\\\\.virtualenvs\\\\pythoncourse\\\\lib\\\\site-packages\\\\zmq\\\\sugar\\\\socket.py'>,\n 'zmq.sugar.context': <module 'zmq.sugar.context' from 'd:\\\\users\\\\cestm\\\\.virtualenvs\\\\pythoncourse\\\\lib\\\\site-packages\\\\zmq\\\\sugar\\\\context.py'>,\n 'zmq.sugar.frame': <module 'zmq.sugar.frame' from 'd:\\\\users\\\\cestm\\\\.virtualenvs\\\\pythoncourse\\\\lib\\\\site-packages\\\\zmq\\\\sugar\\\\frame.py'>,\n 'zmq.sugar.tracker': <module 'zmq.sugar.tracker' from 'd:\\\\users\\\\cestm\\\\.virtualenvs\\\\pythoncourse\\\\lib\\\\site-packages\\\\zmq\\\\sugar\\\\tracker.py'>,\n 'zmq.sugar.version': <module 'zmq.sugar.version' from 'd:\\\\users\\\\cestm\\\\.virtualenvs\\\\pythoncourse\\\\lib\\\\site-packages\\\\zmq\\\\sugar\\\\version.py'>,\n 'zmq.sugar.stopwatch': <module 'zmq.sugar.stopwatch' from 'd:\\\\users\\\\cestm\\\\.virtualenvs\\\\pythoncourse\\\\lib\\\\site-packages\\\\zmq\\\\sugar\\\\stopwatch.py'>,\n 'zmq.sugar': <module 'zmq.sugar' from 'd:\\\\users\\\\cestm\\\\.virtualenvs\\\\pythoncourse\\\\lib\\\\site-packages\\\\zmq\\\\sugar\\\\__init__.py'>,\n 'zmq': <module 'zmq' from 'd:\\\\users\\\\cestm\\\\.virtualenvs\\\\pythoncourse\\\\lib\\\\site-packages\\\\zmq\\\\__init__.py'>,\n 'zmq._future': <module 'zmq._future' from 'd:\\\\users\\\\cestm\\\\.virtualenvs\\\\pythoncourse\\\\lib\\\\site-packages\\\\zmq\\\\_future.py'>,\n 'zmq.asyncio': <module 'zmq.asyncio' from 'd:\\\\users\\\\cestm\\\\.virtualenvs\\\\pythoncourse\\\\lib\\\\site-packages\\\\zmq\\\\asyncio.py'>,\n 'jupyter_client.channelsabc': <module 'jupyter_client.channelsabc' from 'd:\\\\users\\\\cestm\\\\.virtualenvs\\\\pythoncourse\\\\lib\\\\site-packages\\\\jupyter_client\\\\channelsabc.py'>,\n '_hashlib': <module '_hashlib' from 'C:\\\\Python39\\\\DLLs\\\\_hashlib.pyd'>,\n '_blake2': <module '_blake2' (built-in)>,\n 'hashlib': <module 'hashlib' from 'C:\\\\Python39\\\\lib\\\\hashlib.py'>,\n 'hmac': <module 'hmac' from 'C:\\\\Python39\\\\lib\\\\hmac.py'>,\n 'pprint': <module 'pprint' from 'C:\\\\Python39\\\\lib\\\\pprint.py'>,\n '_datetime': <module '_datetime' (built-in)>,\n 'datetime': <module 'datetime' from 'C:\\\\Python39\\\\lib\\\\datetime.py'>,\n 'gettext': <module 'gettext' from 'C:\\\\Python39\\\\lib\\\\gettext.py'>,\n 'argparse': <module 'argparse' from 'C:\\\\Python39\\\\lib\\\\argparse.py'>,\n 'traitlets.config.loader': <module 'traitlets.config.loader' from 'd:\\\\users\\\\cestm\\\\.virtualenvs\\\\pythoncourse\\\\lib\\\\site-packages\\\\traitlets\\\\config\\\\loader.py'>,\n 'textwrap': <module 'textwrap' from 'C:\\\\Python39\\\\lib\\\\textwrap.py'>,\n 'traitlets.utils.text': <module 'traitlets.utils.text' from 'd:\\\\users\\\\cestm\\\\.virtualenvs\\\\pythoncourse\\\\lib\\\\site-packages\\\\traitlets\\\\utils\\\\text.py'>,\n 'traitlets.config.configurable': <module 'traitlets.config.configurable' from 'd:\\\\users\\\\cestm\\\\.virtualenvs\\\\pythoncourse\\\\lib\\\\site-packages\\\\traitlets\\\\config\\\\configurable.py'>,\n 'traitlets.config.application': <module 'traitlets.config.application' from 'd:\\\\users\\\\cestm\\\\.virtualenvs\\\\pythoncourse\\\\lib\\\\site-packages\\\\traitlets\\\\config\\\\application.py'>,\n 'traitlets.config': <module 'traitlets.config' from 'd:\\\\users\\\\cestm\\\\.virtualenvs\\\\pythoncourse\\\\lib\\\\site-packages\\\\traitlets\\\\config\\\\__init__.py'>,\n 'traitlets.log': <module 'traitlets.log' from 'd:\\\\users\\\\cestm\\\\.virtualenvs\\\\pythoncourse\\\\lib\\\\site-packages\\\\traitlets\\\\log.py'>,\n '__future__': <module '__future__' from 'C:\\\\Python39\\\\lib\\\\__future__.py'>,\n 'tornado': <module 'tornado' from 'd:\\\\users\\\\cestm\\\\.virtualenvs\\\\pythoncourse\\\\lib\\\\site-packages\\\\tornado\\\\__init__.py'>,\n 'logging.handlers': <module 'logging.handlers' from 'C:\\\\Python39\\\\lib\\\\logging\\\\handlers.py'>,\n 'html.entities': <module 'html.entities' from 'C:\\\\Python39\\\\lib\\\\html\\\\entities.py'>,\n 'html': <module 'html' from 'C:\\\\Python39\\\\lib\\\\html\\\\__init__.py'>,\n 'urllib': <module 'urllib' from 'C:\\\\Python39\\\\lib\\\\urllib\\\\__init__.py'>,\n 'urllib.parse': <module 'urllib.parse' from 'C:\\\\Python39\\\\lib\\\\urllib\\\\parse.py'>,\n 'array': <module 'array' (built-in)>,\n 'tornado.speedups': <module 'tornado.speedups' from 'd:\\\\users\\\\cestm\\\\.virtualenvs\\\\pythoncourse\\\\lib\\\\site-packages\\\\tornado\\\\speedups.cp39-win_amd64.pyd'>,\n 'tornado.util': <module 'tornado.util' from 'd:\\\\users\\\\cestm\\\\.virtualenvs\\\\pythoncourse\\\\lib\\\\site-packages\\\\tornado\\\\util.py'>,\n 'tornado.escape': <module 'tornado.escape' from 'd:\\\\users\\\\cestm\\\\.virtualenvs\\\\pythoncourse\\\\lib\\\\site-packages\\\\tornado\\\\escape.py'>,\n 'colorama.ansi': <module 'colorama.ansi' from 'd:\\\\users\\\\cestm\\\\.virtualenvs\\\\pythoncourse\\\\lib\\\\site-packages\\\\colorama\\\\ansi.py'>,\n '_ctypes': <module '_ctypes' from 'C:\\\\Python39\\\\DLLs\\\\_ctypes.pyd'>,\n 'ctypes._endian': <module 'ctypes._endian' from 'C:\\\\Python39\\\\lib\\\\ctypes\\\\_endian.py'>,\n 'ctypes': <module 'ctypes' from 'C:\\\\Python39\\\\lib\\\\ctypes\\\\__init__.py'>,\n 'ctypes.wintypes': <module 'ctypes.wintypes' from 'C:\\\\Python39\\\\lib\\\\ctypes\\\\wintypes.py'>,\n 'colorama.win32': <module 'colorama.win32' from 'd:\\\\users\\\\cestm\\\\.virtualenvs\\\\pythoncourse\\\\lib\\\\site-packages\\\\colorama\\\\win32.py'>,\n 'colorama.winterm': <module 'colorama.winterm' from 'd:\\\\users\\\\cestm\\\\.virtualenvs\\\\pythoncourse\\\\lib\\\\site-packages\\\\colorama\\\\winterm.py'>,\n 'colorama.ansitowin32': <module 'colorama.ansitowin32' from 'd:\\\\users\\\\cestm\\\\.virtualenvs\\\\pythoncourse\\\\lib\\\\site-packages\\\\colorama\\\\ansitowin32.py'>,\n 'colorama.initialise': <module 'colorama.initialise' from 'd:\\\\users\\\\cestm\\\\.virtualenvs\\\\pythoncourse\\\\lib\\\\site-packages\\\\colorama\\\\initialise.py'>,\n 'colorama': <module 'colorama' from 'd:\\\\users\\\\cestm\\\\.virtualenvs\\\\pythoncourse\\\\lib\\\\site-packages\\\\colorama\\\\__init__.py'>,\n 'tornado.log': <module 'tornado.log' from 'd:\\\\users\\\\cestm\\\\.virtualenvs\\\\pythoncourse\\\\lib\\\\site-packages\\\\tornado\\\\log.py'>,\n 'numbers': <module 'numbers' from 'C:\\\\Python39\\\\lib\\\\numbers.py'>,\n 'tornado.concurrent': <module 'tornado.concurrent' from 'd:\\\\users\\\\cestm\\\\.virtualenvs\\\\pythoncourse\\\\lib\\\\site-packages\\\\tornado\\\\concurrent.py'>,\n 'tornado.ioloop': <module 'tornado.ioloop' from 'd:\\\\users\\\\cestm\\\\.virtualenvs\\\\pythoncourse\\\\lib\\\\site-packages\\\\tornado\\\\ioloop.py'>,\n 'tornado.platform': <module 'tornado.platform' from 'd:\\\\users\\\\cestm\\\\.virtualenvs\\\\pythoncourse\\\\lib\\\\site-packages\\\\tornado\\\\platform\\\\__init__.py'>,\n 'tornado.gen': <module 'tornado.gen' from 'd:\\\\users\\\\cestm\\\\.virtualenvs\\\\pythoncourse\\\\lib\\\\site-packages\\\\tornado\\\\gen.py'>,\n 'tornado.platform.asyncio': <module 'tornado.platform.asyncio' from 'd:\\\\users\\\\cestm\\\\.virtualenvs\\\\pythoncourse\\\\lib\\\\site-packages\\\\tornado\\\\platform\\\\asyncio.py'>,\n 'zmq.eventloop.ioloop': <module 'zmq.eventloop.ioloop' from 'd:\\\\users\\\\cestm\\\\.virtualenvs\\\\pythoncourse\\\\lib\\\\site-packages\\\\zmq\\\\eventloop\\\\ioloop.py'>,\n 'zmq.eventloop': <module 'zmq.eventloop' from 'd:\\\\users\\\\cestm\\\\.virtualenvs\\\\pythoncourse\\\\lib\\\\site-packages\\\\zmq\\\\eventloop\\\\__init__.py'>,\n 'zmq.eventloop.zmqstream': <module 'zmq.eventloop.zmqstream' from 'd:\\\\users\\\\cestm\\\\.virtualenvs\\\\pythoncourse\\\\lib\\\\site-packages\\\\zmq\\\\eventloop\\\\zmqstream.py'>,\n 'jupyter_client.adapter': <module 'jupyter_client.adapter' from 'd:\\\\users\\\\cestm\\\\.virtualenvs\\\\pythoncourse\\\\lib\\\\site-packages\\\\jupyter_client\\\\adapter.py'>,\n 'dateutil._version': <module 'dateutil._version' from 'd:\\\\users\\\\cestm\\\\.virtualenvs\\\\pythoncourse\\\\lib\\\\site-packages\\\\dateutil\\\\_version.py'>,\n 'dateutil': <module 'dateutil' from 'd:\\\\users\\\\cestm\\\\.virtualenvs\\\\pythoncourse\\\\lib\\\\site-packages\\\\dateutil\\\\__init__.py'>,\n 'locale': <module 'locale' from 'C:\\\\Python39\\\\lib\\\\locale.py'>,\n 'calendar': <module 'calendar' from 'C:\\\\Python39\\\\lib\\\\calendar.py'>,\n 'six': <module 'six' from 'd:\\\\users\\\\cestm\\\\.virtualenvs\\\\pythoncourse\\\\lib\\\\site-packages\\\\six.py'>,\n '_decimal': <module '_decimal' from 'C:\\\\Python39\\\\DLLs\\\\_decimal.pyd'>,\n 'decimal': <module 'decimal' from 'C:\\\\Python39\\\\lib\\\\decimal.py'>,\n 'dateutil._common': <module 'dateutil._common' from 'd:\\\\users\\\\cestm\\\\.virtualenvs\\\\pythoncourse\\\\lib\\\\site-packages\\\\dateutil\\\\_common.py'>,\n 'dateutil.relativedelta': <module 'dateutil.relativedelta' from 'd:\\\\users\\\\cestm\\\\.virtualenvs\\\\pythoncourse\\\\lib\\\\site-packages\\\\dateutil\\\\relativedelta.py'>,\n 'six.moves': <module 'six.moves' (<six._SixMetaPathImporter object at 0x00000201F5E3FF10>)>,\n 'dateutil.tz._common': <module 'dateutil.tz._common' from 'd:\\\\users\\\\cestm\\\\.virtualenvs\\\\pythoncourse\\\\lib\\\\site-packages\\\\dateutil\\\\tz\\\\_common.py'>,\n 'dateutil.tz._factories': <module 'dateutil.tz._factories' from 'd:\\\\users\\\\cestm\\\\.virtualenvs\\\\pythoncourse\\\\lib\\\\site-packages\\\\dateutil\\\\tz\\\\_factories.py'>,\n 'dateutil.tz.win': <module 'dateutil.tz.win' from 'd:\\\\users\\\\cestm\\\\.virtualenvs\\\\pythoncourse\\\\lib\\\\site-packages\\\\dateutil\\\\tz\\\\win.py'>,\n 'dateutil.tz.tz': <module 'dateutil.tz.tz' from 'd:\\\\users\\\\cestm\\\\.virtualenvs\\\\pythoncourse\\\\lib\\\\site-packages\\\\dateutil\\\\tz\\\\tz.py'>,\n 'dateutil.tz': <module 'dateutil.tz' from 'd:\\\\users\\\\cestm\\\\.virtualenvs\\\\pythoncourse\\\\lib\\\\site-packages\\\\dateutil\\\\tz\\\\__init__.py'>,\n 'dateutil.parser._parser': <module 'dateutil.parser._parser' from 'd:\\\\users\\\\cestm\\\\.virtualenvs\\\\pythoncourse\\\\lib\\\\site-packages\\\\dateutil\\\\parser\\\\_parser.py'>,\n 'dateutil.parser.isoparser': <module 'dateutil.parser.isoparser' from 'd:\\\\users\\\\cestm\\\\.virtualenvs\\\\pythoncourse\\\\lib\\\\site-packages\\\\dateutil\\\\parser\\\\isoparser.py'>,\n 'dateutil.parser': <module 'dateutil.parser' from 'd:\\\\users\\\\cestm\\\\.virtualenvs\\\\pythoncourse\\\\lib\\\\site-packages\\\\dateutil\\\\parser\\\\__init__.py'>,\n '_strptime': <module '_strptime' from 'C:\\\\Python39\\\\lib\\\\_strptime.py'>,\n 'jupyter_client.jsonutil': <module 'jupyter_client.jsonutil' from 'd:\\\\users\\\\cestm\\\\.virtualenvs\\\\pythoncourse\\\\lib\\\\site-packages\\\\jupyter_client\\\\jsonutil.py'>,\n 'jupyter_client.session': <module 'jupyter_client.session' from 'd:\\\\users\\\\cestm\\\\.virtualenvs\\\\pythoncourse\\\\lib\\\\site-packages\\\\jupyter_client\\\\session.py'>,\n 'jupyter_client.channels': <module 'jupyter_client.channels' from 'd:\\\\users\\\\cestm\\\\.virtualenvs\\\\pythoncourse\\\\lib\\\\site-packages\\\\jupyter_client\\\\channels.py'>,\n 'getpass': <module 'getpass' from 'C:\\\\Python39\\\\lib\\\\getpass.py'>,\n 'jupyter_client.clientabc': <module 'jupyter_client.clientabc' from 'd:\\\\users\\\\cestm\\\\.virtualenvs\\\\pythoncourse\\\\lib\\\\site-packages\\\\jupyter_client\\\\clientabc.py'>,\n 'glob': <module 'glob' from 'C:\\\\Python39\\\\lib\\\\glob.py'>,\n 'jupyter_core.version': <module 'jupyter_core.version' from 'd:\\\\users\\\\cestm\\\\.virtualenvs\\\\pythoncourse\\\\lib\\\\site-packages\\\\jupyter_core\\\\version.py'>,\n 'jupyter_core': <module 'jupyter_core' from 'd:\\\\users\\\\cestm\\\\.virtualenvs\\\\pythoncourse\\\\lib\\\\site-packages\\\\jupyter_core\\\\__init__.py'>,\n 'pathlib': <module 'pathlib' from 'C:\\\\Python39\\\\lib\\\\pathlib.py'>,\n 'jupyter_core.paths': <module 'jupyter_core.paths' from 'd:\\\\users\\\\cestm\\\\.virtualenvs\\\\pythoncourse\\\\lib\\\\site-packages\\\\jupyter_core\\\\paths.py'>,\n 'jupyter_client.localinterfaces': <module 'jupyter_client.localinterfaces' from 'd:\\\\users\\\\cestm\\\\.virtualenvs\\\\pythoncourse\\\\lib\\\\site-packages\\\\jupyter_client\\\\localinterfaces.py'>,\n 'jupyter_client.utils': <module 'jupyter_client.utils' from 'd:\\\\users\\\\cestm\\\\.virtualenvs\\\\pythoncourse\\\\lib\\\\site-packages\\\\jupyter_client\\\\utils.py'>,\n 'jupyter_client.connect': <module 'jupyter_client.connect' from 'd:\\\\users\\\\cestm\\\\.virtualenvs\\\\pythoncourse\\\\lib\\\\site-packages\\\\jupyter_client\\\\connect.py'>,\n 'jupyter_client.client': <module 'jupyter_client.client' from 'd:\\\\users\\\\cestm\\\\.virtualenvs\\\\pythoncourse\\\\lib\\\\site-packages\\\\jupyter_client\\\\client.py'>,\n 'jupyter_client.asynchronous.client': <module 'jupyter_client.asynchronous.client' from 'd:\\\\users\\\\cestm\\\\.virtualenvs\\\\pythoncourse\\\\lib\\\\site-packages\\\\jupyter_client\\\\asynchronous\\\\client.py'>,\n 'jupyter_client.asynchronous': <module 'jupyter_client.asynchronous' from 'd:\\\\users\\\\cestm\\\\.virtualenvs\\\\pythoncourse\\\\lib\\\\site-packages\\\\jupyter_client\\\\asynchronous\\\\__init__.py'>,\n 'jupyter_client.blocking.client': <module 'jupyter_client.blocking.client' from 'd:\\\\users\\\\cestm\\\\.virtualenvs\\\\pythoncourse\\\\lib\\\\site-packages\\\\jupyter_client\\\\blocking\\\\client.py'>,\n 'jupyter_client.blocking': <module 'jupyter_client.blocking' from 'd:\\\\users\\\\cestm\\\\.virtualenvs\\\\pythoncourse\\\\lib\\\\site-packages\\\\jupyter_client\\\\blocking\\\\__init__.py'>,\n 'jupyter_client.launcher': <module 'jupyter_client.launcher' from 'd:\\\\users\\\\cestm\\\\.virtualenvs\\\\pythoncourse\\\\lib\\\\site-packages\\\\jupyter_client\\\\launcher.py'>,\n '_uuid': <module '_uuid' from 'C:\\\\Python39\\\\DLLs\\\\_uuid.pyd'>,\n 'uuid': <module 'uuid' from 'C:\\\\Python39\\\\lib\\\\uuid.py'>,\n 'jupyter_client.managerabc': <module 'jupyter_client.managerabc' from 'd:\\\\users\\\\cestm\\\\.virtualenvs\\\\pythoncourse\\\\lib\\\\site-packages\\\\jupyter_client\\\\managerabc.py'>,\n 'zipfile': <module 'zipfile' from 'C:\\\\Python39\\\\lib\\\\zipfile.py'>,\n 'configparser': <module 'configparser' from 'C:\\\\Python39\\\\lib\\\\configparser.py'>,\n 'entrypoints': <module 'entrypoints' from 'd:\\\\users\\\\cestm\\\\.virtualenvs\\\\pythoncourse\\\\lib\\\\site-packages\\\\entrypoints.py'>,\n 'jupyter_client.provisioning.provisioner_base': <module 'jupyter_client.provisioning.provisioner_base' from 'd:\\\\users\\\\cestm\\\\.virtualenvs\\\\pythoncourse\\\\lib\\\\site-packages\\\\jupyter_client\\\\provisioning\\\\provisioner_base.py'>,\n 'jupyter_client.provisioning.factory': <module 'jupyter_client.provisioning.factory' from 'd:\\\\users\\\\cestm\\\\.virtualenvs\\\\pythoncourse\\\\lib\\\\site-packages\\\\jupyter_client\\\\provisioning\\\\factory.py'>,\n 'jupyter_client.provisioning.local_provisioner': <module 'jupyter_client.provisioning.local_provisioner' from 'd:\\\\users\\\\cestm\\\\.virtualenvs\\\\pythoncourse\\\\lib\\\\site-packages\\\\jupyter_client\\\\provisioning\\\\local_provisioner.py'>,\n 'jupyter_client.provisioning': <module 'jupyter_client.provisioning' from 'd:\\\\users\\\\cestm\\\\.virtualenvs\\\\pythoncourse\\\\lib\\\\site-packages\\\\jupyter_client\\\\provisioning\\\\__init__.py'>,\n 'jupyter_client.kernelspec': <module 'jupyter_client.kernelspec' from 'd:\\\\users\\\\cestm\\\\.virtualenvs\\\\pythoncourse\\\\lib\\\\site-packages\\\\jupyter_client\\\\kernelspec.py'>,\n 'jupyter_client.manager': <module 'jupyter_client.manager' from 'd:\\\\users\\\\cestm\\\\.virtualenvs\\\\pythoncourse\\\\lib\\\\site-packages\\\\jupyter_client\\\\manager.py'>,\n 'jupyter_client.multikernelmanager': <module 'jupyter_client.multikernelmanager' from 'd:\\\\users\\\\cestm\\\\.virtualenvs\\\\pythoncourse\\\\lib\\\\site-packages\\\\jupyter_client\\\\multikernelmanager.py'>,\n 'jupyter_client': <module 'jupyter_client' from 'd:\\\\users\\\\cestm\\\\.virtualenvs\\\\pythoncourse\\\\lib\\\\site-packages\\\\jupyter_client\\\\__init__.py'>,\n 'ipykernel.connect': <module 'ipykernel.connect' from 'd:\\\\users\\\\cestm\\\\.virtualenvs\\\\pythoncourse\\\\lib\\\\site-packages\\\\ipykernel\\\\connect.py'>,\n 'ipykernel': <module 'ipykernel' from 'd:\\\\users\\\\cestm\\\\.virtualenvs\\\\pythoncourse\\\\lib\\\\site-packages\\\\ipykernel\\\\__init__.py'>,\n 'IPython.core': <module 'IPython.core' from 'd:\\\\users\\\\cestm\\\\.virtualenvs\\\\pythoncourse\\\\lib\\\\site-packages\\\\IPython\\\\core\\\\__init__.py'>,\n 'IPython.core.getipython': <module 'IPython.core.getipython' from 'd:\\\\users\\\\cestm\\\\.virtualenvs\\\\pythoncourse\\\\lib\\\\site-packages\\\\IPython\\\\core\\\\getipython.py'>,\n 'IPython.core.release': <module 'IPython.core.release' from 'd:\\\\users\\\\cestm\\\\.virtualenvs\\\\pythoncourse\\\\lib\\\\site-packages\\\\IPython\\\\core\\\\release.py'>,\n 'sysconfig': <module 'sysconfig' from 'C:\\\\Python39\\\\lib\\\\sysconfig.py'>,\n 'pydoc': <module 'pydoc' from 'C:\\\\Python39\\\\lib\\\\pydoc.py'>,\n 'executing.executing': <module 'executing.executing' from 'd:\\\\users\\\\cestm\\\\.virtualenvs\\\\pythoncourse\\\\lib\\\\site-packages\\\\executing\\\\executing.py'>,\n 'executing.version': <module 'executing.version' from 'd:\\\\users\\\\cestm\\\\.virtualenvs\\\\pythoncourse\\\\lib\\\\site-packages\\\\executing\\\\version.py'>,\n 'executing': <module 'executing' from 'd:\\\\users\\\\cestm\\\\.virtualenvs\\\\pythoncourse\\\\lib\\\\site-packages\\\\executing\\\\__init__.py'>,\n 'asttokens.line_numbers': <module 'asttokens.line_numbers' from 'd:\\\\users\\\\cestm\\\\.virtualenvs\\\\pythoncourse\\\\lib\\\\site-packages\\\\asttokens\\\\line_numbers.py'>,\n 'asttokens.util': <module 'asttokens.util' from 'd:\\\\users\\\\cestm\\\\.virtualenvs\\\\pythoncourse\\\\lib\\\\site-packages\\\\asttokens\\\\util.py'>,\n 'asttokens.mark_tokens': <module 'asttokens.mark_tokens' from 'd:\\\\users\\\\cestm\\\\.virtualenvs\\\\pythoncourse\\\\lib\\\\site-packages\\\\asttokens\\\\mark_tokens.py'>,\n 'asttokens.asttokens': <module 'asttokens.asttokens' from 'd:\\\\users\\\\cestm\\\\.virtualenvs\\\\pythoncourse\\\\lib\\\\site-packages\\\\asttokens\\\\asttokens.py'>,\n 'asttokens': <module 'asttokens' from 'd:\\\\users\\\\cestm\\\\.virtualenvs\\\\pythoncourse\\\\lib\\\\site-packages\\\\asttokens\\\\__init__.py'>,\n 'fractions': <module 'fractions' from 'C:\\\\Python39\\\\lib\\\\fractions.py'>,\n 'pure_eval.utils': <module 'pure_eval.utils' from 'd:\\\\users\\\\cestm\\\\.virtualenvs\\\\pythoncourse\\\\lib\\\\site-packages\\\\pure_eval\\\\utils.py'>,\n 'pure_eval.my_getattr_static': <module 'pure_eval.my_getattr_static' from 'd:\\\\users\\\\cestm\\\\.virtualenvs\\\\pythoncourse\\\\lib\\\\site-packages\\\\pure_eval\\\\my_getattr_static.py'>,\n 'pure_eval.core': <module 'pure_eval.core' from 'd:\\\\users\\\\cestm\\\\.virtualenvs\\\\pythoncourse\\\\lib\\\\site-packages\\\\pure_eval\\\\core.py'>,\n 'pure_eval.version': <module 'pure_eval.version' from 'd:\\\\users\\\\cestm\\\\.virtualenvs\\\\pythoncourse\\\\lib\\\\site-packages\\\\pure_eval\\\\version.py'>,\n 'pure_eval': <module 'pure_eval' from 'd:\\\\users\\\\cestm\\\\.virtualenvs\\\\pythoncourse\\\\lib\\\\site-packages\\\\pure_eval\\\\__init__.py'>,\n 'stack_data.utils': <module 'stack_data.utils' from 'd:\\\\users\\\\cestm\\\\.virtualenvs\\\\pythoncourse\\\\lib\\\\site-packages\\\\stack_data\\\\utils.py'>,\n 'stack_data.core': <module 'stack_data.core' from 'd:\\\\users\\\\cestm\\\\.virtualenvs\\\\pythoncourse\\\\lib\\\\site-packages\\\\stack_data\\\\core.py'>,\n 'stack_data.formatting': <module 'stack_data.formatting' from 'd:\\\\users\\\\cestm\\\\.virtualenvs\\\\pythoncourse\\\\lib\\\\site-packages\\\\stack_data\\\\formatting.py'>,\n 'stack_data.version': <module 'stack_data.version' from 'd:\\\\users\\\\cestm\\\\.virtualenvs\\\\pythoncourse\\\\lib\\\\site-packages\\\\stack_data\\\\version.py'>,\n 'stack_data': <module 'stack_data' from 'd:\\\\users\\\\cestm\\\\.virtualenvs\\\\pythoncourse\\\\lib\\\\site-packages\\\\stack_data\\\\__init__.py'>,\n 'pygments': <module 'pygments' from 'd:\\\\users\\\\cestm\\\\.virtualenvs\\\\pythoncourse\\\\lib\\\\site-packages\\\\pygments\\\\__init__.py'>,\n 'pygments.formatters._mapping': <module 'pygments.formatters._mapping' from 'd:\\\\users\\\\cestm\\\\.virtualenvs\\\\pythoncourse\\\\lib\\\\site-packages\\\\pygments\\\\formatters\\\\_mapping.py'>,\n 'pygments.plugin': <module 'pygments.plugin' from 'd:\\\\users\\\\cestm\\\\.virtualenvs\\\\pythoncourse\\\\lib\\\\site-packages\\\\pygments\\\\plugin.py'>,\n 'pygments.util': <module 'pygments.util' from 'd:\\\\users\\\\cestm\\\\.virtualenvs\\\\pythoncourse\\\\lib\\\\site-packages\\\\pygments\\\\util.py'>,\n 'pygments.formatters': <module 'pygments.formatters' from 'd:\\\\users\\\\cestm\\\\.virtualenvs\\\\pythoncourse\\\\lib\\\\site-packages\\\\pygments\\\\formatters\\\\__init__.py'>,\n 'pygments.styles': <module 'pygments.styles' from 'd:\\\\users\\\\cestm\\\\.virtualenvs\\\\pythoncourse\\\\lib\\\\site-packages\\\\pygments\\\\styles\\\\__init__.py'>,\n 'pygments.formatter': <module 'pygments.formatter' from 'd:\\\\users\\\\cestm\\\\.virtualenvs\\\\pythoncourse\\\\lib\\\\site-packages\\\\pygments\\\\formatter.py'>,\n 'pygments.console': <module 'pygments.console' from 'd:\\\\users\\\\cestm\\\\.virtualenvs\\\\pythoncourse\\\\lib\\\\site-packages\\\\pygments\\\\console.py'>,\n 'pygments.token': <module 'pygments.token' from 'd:\\\\users\\\\cestm\\\\.virtualenvs\\\\pythoncourse\\\\lib\\\\site-packages\\\\pygments\\\\token.py'>,\n 'pygments.style': <module 'pygments.style' from 'd:\\\\users\\\\cestm\\\\.virtualenvs\\\\pythoncourse\\\\lib\\\\site-packages\\\\pygments\\\\style.py'>,\n 'pygments.formatters.terminal256': <module 'pygments.formatters.terminal256' from 'd:\\\\users\\\\cestm\\\\.virtualenvs\\\\pythoncourse\\\\lib\\\\site-packages\\\\pygments\\\\formatters\\\\terminal256.py'>,\n 'bdb': <module 'bdb' from 'C:\\\\Python39\\\\lib\\\\bdb.py'>,\n 'IPython.utils': <module 'IPython.utils' from 'd:\\\\users\\\\cestm\\\\.virtualenvs\\\\pythoncourse\\\\lib\\\\site-packages\\\\IPython\\\\utils\\\\__init__.py'>,\n 'IPython.utils.ipstruct': <module 'IPython.utils.ipstruct' from 'd:\\\\users\\\\cestm\\\\.virtualenvs\\\\pythoncourse\\\\lib\\\\site-packages\\\\IPython\\\\utils\\\\ipstruct.py'>,\n 'IPython.utils.coloransi': <module 'IPython.utils.coloransi' from 'd:\\\\users\\\\cestm\\\\.virtualenvs\\\\pythoncourse\\\\lib\\\\site-packages\\\\IPython\\\\utils\\\\coloransi.py'>,\n 'IPython.utils.colorable': <module 'IPython.utils.colorable' from 'd:\\\\users\\\\cestm\\\\.virtualenvs\\\\pythoncourse\\\\lib\\\\site-packages\\\\IPython\\\\utils\\\\colorable.py'>,\n 'IPython.utils.PyColorize': <module 'IPython.utils.PyColorize' from 'd:\\\\users\\\\cestm\\\\.virtualenvs\\\\pythoncourse\\\\lib\\\\site-packages\\\\IPython\\\\utils\\\\PyColorize.py'>,\n 'IPython.utils.encoding': <module 'IPython.utils.encoding' from 'd:\\\\users\\\\cestm\\\\.virtualenvs\\\\pythoncourse\\\\lib\\\\site-packages\\\\IPython\\\\utils\\\\encoding.py'>,\n 'IPython.utils.py3compat': <module 'IPython.utils.py3compat' from 'd:\\\\users\\\\cestm\\\\.virtualenvs\\\\pythoncourse\\\\lib\\\\site-packages\\\\IPython\\\\utils\\\\py3compat.py'>,\n 'IPython.core.excolors': <module 'IPython.core.excolors' from 'd:\\\\users\\\\cestm\\\\.virtualenvs\\\\pythoncourse\\\\lib\\\\site-packages\\\\IPython\\\\core\\\\excolors.py'>,\n 'cmd': <module 'cmd' from 'C:\\\\Python39\\\\lib\\\\cmd.py'>,\n 'codeop': <module 'codeop' from 'C:\\\\Python39\\\\lib\\\\codeop.py'>,\n 'code': <module 'code' from 'C:\\\\Python39\\\\lib\\\\code.py'>,\n 'pdb': <module 'pdb' from 'C:\\\\Python39\\\\lib\\\\pdb.py'>,\n 'IPython.core.debugger': <module 'IPython.core.debugger' from 'd:\\\\users\\\\cestm\\\\.virtualenvs\\\\pythoncourse\\\\lib\\\\site-packages\\\\IPython\\\\core\\\\debugger.py'>,\n 'IPython.core.display_trap': <module 'IPython.core.display_trap' from 'd:\\\\users\\\\cestm\\\\.virtualenvs\\\\pythoncourse\\\\lib\\\\site-packages\\\\IPython\\\\core\\\\display_trap.py'>,\n 'shlex': <module 'shlex' from 'C:\\\\Python39\\\\lib\\\\shlex.py'>,\n 'IPython.utils._process_common': <module 'IPython.utils._process_common' from 'd:\\\\users\\\\cestm\\\\.virtualenvs\\\\pythoncourse\\\\lib\\\\site-packages\\\\IPython\\\\utils\\\\_process_common.py'>,\n 'IPython.utils._process_win32': <module 'IPython.utils._process_win32' from 'd:\\\\users\\\\cestm\\\\.virtualenvs\\\\pythoncourse\\\\lib\\\\site-packages\\\\IPython\\\\utils\\\\_process_win32.py'>,\n 'IPython.utils.process': <module 'IPython.utils.process' from 'd:\\\\users\\\\cestm\\\\.virtualenvs\\\\pythoncourse\\\\lib\\\\site-packages\\\\IPython\\\\utils\\\\process.py'>,\n 'IPython.utils.decorators': <module 'IPython.utils.decorators' from 'd:\\\\users\\\\cestm\\\\.virtualenvs\\\\pythoncourse\\\\lib\\\\site-packages\\\\IPython\\\\utils\\\\decorators.py'>,\n 'IPython.utils.path': <module 'IPython.utils.path' from 'd:\\\\users\\\\cestm\\\\.virtualenvs\\\\pythoncourse\\\\lib\\\\site-packages\\\\IPython\\\\utils\\\\path.py'>,\n 'IPython.utils.terminal': <module 'IPython.utils.terminal' from 'd:\\\\users\\\\cestm\\\\.virtualenvs\\\\pythoncourse\\\\lib\\\\site-packages\\\\IPython\\\\utils\\\\terminal.py'>,\n 'IPython.core.ultratb': <module 'IPython.core.ultratb' from 'd:\\\\users\\\\cestm\\\\.virtualenvs\\\\pythoncourse\\\\lib\\\\site-packages\\\\IPython\\\\core\\\\ultratb.py'>,\n 'IPython.utils._sysinfo': <module 'IPython.utils._sysinfo' from 'd:\\\\users\\\\cestm\\\\.virtualenvs\\\\pythoncourse\\\\lib\\\\site-packages\\\\IPython\\\\utils\\\\_sysinfo.py'>,\n 'IPython.utils.sysinfo': <module 'IPython.utils.sysinfo' from 'd:\\\\users\\\\cestm\\\\.virtualenvs\\\\pythoncourse\\\\lib\\\\site-packages\\\\IPython\\\\utils\\\\sysinfo.py'>,\n 'IPython.core.crashhandler': <module 'IPython.core.crashhandler' from 'd:\\\\users\\\\cestm\\\\.virtualenvs\\\\pythoncourse\\\\lib\\\\site-packages\\\\IPython\\\\core\\\\crashhandler.py'>,\n 'IPython.utils.importstring': <module 'IPython.utils.importstring' from 'd:\\\\users\\\\cestm\\\\.virtualenvs\\\\pythoncourse\\\\lib\\\\site-packages\\\\IPython\\\\utils\\\\importstring.py'>,\n 'IPython.paths': <module 'IPython.paths' from 'd:\\\\users\\\\cestm\\\\.virtualenvs\\\\pythoncourse\\\\lib\\\\site-packages\\\\IPython\\\\paths.py'>,\n 'IPython.core.profiledir': <module 'IPython.core.profiledir' from 'd:\\\\users\\\\cestm\\\\.virtualenvs\\\\pythoncourse\\\\lib\\\\site-packages\\\\IPython\\\\core\\\\profiledir.py'>,\n 'IPython.core.application': <module 'IPython.core.application' from 'd:\\\\users\\\\cestm\\\\.virtualenvs\\\\pythoncourse\\\\lib\\\\site-packages\\\\IPython\\\\core\\\\application.py'>,\n 'IPython.terminal': <module 'IPython.terminal' from 'd:\\\\users\\\\cestm\\\\.virtualenvs\\\\pythoncourse\\\\lib\\\\site-packages\\\\IPython\\\\terminal\\\\__init__.py'>,\n 'IPython.core.compilerop': <module 'IPython.core.compilerop' from 'd:\\\\users\\\\cestm\\\\.virtualenvs\\\\pythoncourse\\\\lib\\\\site-packages\\\\IPython\\\\core\\\\compilerop.py'>,\n 'IPython.core.error': <module 'IPython.core.error' from 'd:\\\\users\\\\cestm\\\\.virtualenvs\\\\pythoncourse\\\\lib\\\\site-packages\\\\IPython\\\\core\\\\error.py'>,\n 'IPython.utils.text': <module 'IPython.utils.text' from 'd:\\\\users\\\\cestm\\\\.virtualenvs\\\\pythoncourse\\\\lib\\\\site-packages\\\\IPython\\\\utils\\\\text.py'>,\n 'IPython.core.magic_arguments': <module 'IPython.core.magic_arguments' from 'd:\\\\users\\\\cestm\\\\.virtualenvs\\\\pythoncourse\\\\lib\\\\site-packages\\\\IPython\\\\core\\\\magic_arguments.py'>,\n 'getopt': <module 'getopt' from 'C:\\\\Python39\\\\lib\\\\getopt.py'>,\n 'IPython.core.display_functions': <module 'IPython.core.display_functions' from 'd:\\\\users\\\\cestm\\\\.virtualenvs\\\\pythoncourse\\\\lib\\\\site-packages\\\\IPython\\\\core\\\\display_functions.py'>,\n 'mimetypes': <module 'mimetypes' from 'C:\\\\Python39\\\\lib\\\\mimetypes.py'>,\n 'IPython.testing': <module 'IPython.testing' from 'd:\\\\users\\\\cestm\\\\.virtualenvs\\\\pythoncourse\\\\lib\\\\site-packages\\\\IPython\\\\testing\\\\__init__.py'>,\n 'IPython.testing.skipdoctest': <module 'IPython.testing.skipdoctest' from 'd:\\\\users\\\\cestm\\\\.virtualenvs\\\\pythoncourse\\\\lib\\\\site-packages\\\\IPython\\\\testing\\\\skipdoctest.py'>,\n 'IPython.core.display': <module 'IPython.core.display' from 'd:\\\\users\\\\cestm\\\\.virtualenvs\\\\pythoncourse\\\\lib\\\\site-packages\\\\IPython\\\\core\\\\display.py'>,\n 'IPython.lib': <module 'IPython.lib' from 'd:\\\\users\\\\cestm\\\\.virtualenvs\\\\pythoncourse\\\\lib\\\\site-packages\\\\IPython\\\\lib\\\\__init__.py'>,\n 'IPython.lib.display': <module 'IPython.lib.display' from 'd:\\\\users\\\\cestm\\\\.virtualenvs\\\\pythoncourse\\\\lib\\\\site-packages\\\\IPython\\\\lib\\\\display.py'>,\n 'IPython.display': <module 'IPython.display' from 'd:\\\\users\\\\cestm\\\\.virtualenvs\\\\pythoncourse\\\\lib\\\\site-packages\\\\IPython\\\\display.py'>,\n 'IPython.utils.data': <module 'IPython.utils.data' from 'd:\\\\users\\\\cestm\\\\.virtualenvs\\\\pythoncourse\\\\lib\\\\site-packages\\\\IPython\\\\utils\\\\data.py'>,\n 'IPython.core.page': <module 'IPython.core.page' from 'd:\\\\users\\\\cestm\\\\.virtualenvs\\\\pythoncourse\\\\lib\\\\site-packages\\\\IPython\\\\core\\\\page.py'>,\n 'IPython.lib.pretty': <module 'IPython.lib.pretty' from 'd:\\\\users\\\\cestm\\\\.virtualenvs\\\\pythoncourse\\\\lib\\\\site-packages\\\\IPython\\\\lib\\\\pretty.py'>,\n 'IPython.utils.openpy': <module 'IPython.utils.openpy' from 'd:\\\\users\\\\cestm\\\\.virtualenvs\\\\pythoncourse\\\\lib\\\\site-packages\\\\IPython\\\\utils\\\\openpy.py'>,\n 'IPython.utils.dir2': <module 'IPython.utils.dir2' from 'd:\\\\users\\\\cestm\\\\.virtualenvs\\\\pythoncourse\\\\lib\\\\site-packages\\\\IPython\\\\utils\\\\dir2.py'>,\n 'IPython.utils.wildcard': <module 'IPython.utils.wildcard' from 'd:\\\\users\\\\cestm\\\\.virtualenvs\\\\pythoncourse\\\\lib\\\\site-packages\\\\IPython\\\\utils\\\\wildcard.py'>,\n 'pygments.lexers._mapping': <module 'pygments.lexers._mapping' from 'd:\\\\users\\\\cestm\\\\.virtualenvs\\\\pythoncourse\\\\lib\\\\site-packages\\\\pygments\\\\lexers\\\\_mapping.py'>,\n 'pygments.modeline': <module 'pygments.modeline' from 'd:\\\\users\\\\cestm\\\\.virtualenvs\\\\pythoncourse\\\\lib\\\\site-packages\\\\pygments\\\\modeline.py'>,\n 'pygments.lexers': <module 'pygments.lexers' from 'd:\\\\users\\\\cestm\\\\.virtualenvs\\\\pythoncourse\\\\lib\\\\site-packages\\\\pygments\\\\lexers\\\\__init__.py'>,\n 'pygments.filter': <module 'pygments.filter' from 'd:\\\\users\\\\cestm\\\\.virtualenvs\\\\pythoncourse\\\\lib\\\\site-packages\\\\pygments\\\\filter.py'>,\n 'pygments.filters': <module 'pygments.filters' from 'd:\\\\users\\\\cestm\\\\.virtualenvs\\\\pythoncourse\\\\lib\\\\site-packages\\\\pygments\\\\filters\\\\__init__.py'>,\n 'pygments.regexopt': <module 'pygments.regexopt' from 'd:\\\\users\\\\cestm\\\\.virtualenvs\\\\pythoncourse\\\\lib\\\\site-packages\\\\pygments\\\\regexopt.py'>,\n 'pygments.lexer': <module 'pygments.lexer' from 'd:\\\\users\\\\cestm\\\\.virtualenvs\\\\pythoncourse\\\\lib\\\\site-packages\\\\pygments\\\\lexer.py'>,\n 'pygments.unistring': <module 'pygments.unistring' from 'd:\\\\users\\\\cestm\\\\.virtualenvs\\\\pythoncourse\\\\lib\\\\site-packages\\\\pygments\\\\unistring.py'>,\n 'pygments.lexers.python': <module 'pygments.lexers.python' from 'd:\\\\users\\\\cestm\\\\.virtualenvs\\\\pythoncourse\\\\lib\\\\site-packages\\\\pygments\\\\lexers\\\\python.py'>,\n 'pygments.formatters.html': <module 'pygments.formatters.html' from 'd:\\\\users\\\\cestm\\\\.virtualenvs\\\\pythoncourse\\\\lib\\\\site-packages\\\\pygments\\\\formatters\\\\html.py'>,\n 'IPython.core.oinspect': <module 'IPython.core.oinspect' from 'd:\\\\users\\\\cestm\\\\.virtualenvs\\\\pythoncourse\\\\lib\\\\site-packages\\\\IPython\\\\core\\\\oinspect.py'>,\n 'IPython.core.inputtransformer2': <module 'IPython.core.inputtransformer2' from 'd:\\\\users\\\\cestm\\\\.virtualenvs\\\\pythoncourse\\\\lib\\\\site-packages\\\\IPython\\\\core\\\\inputtransformer2.py'>,\n 'IPython.core.magic': <module 'IPython.core.magic' from 'd:\\\\users\\\\cestm\\\\.virtualenvs\\\\pythoncourse\\\\lib\\\\site-packages\\\\IPython\\\\core\\\\magic.py'>,\n 'pickleshare': <module 'pickleshare' from 'd:\\\\users\\\\cestm\\\\.virtualenvs\\\\pythoncourse\\\\lib\\\\site-packages\\\\pickleshare.py'>,\n 'IPython.core.hooks': <module 'IPython.core.hooks' from 'd:\\\\users\\\\cestm\\\\.virtualenvs\\\\pythoncourse\\\\lib\\\\site-packages\\\\IPython\\\\core\\\\hooks.py'>,\n 'IPython.core.autocall': <module 'IPython.core.autocall' from 'd:\\\\users\\\\cestm\\\\.virtualenvs\\\\pythoncourse\\\\lib\\\\site-packages\\\\IPython\\\\core\\\\autocall.py'>,\n 'IPython.core.macro': <module 'IPython.core.macro' from 'd:\\\\users\\\\cestm\\\\.virtualenvs\\\\pythoncourse\\\\lib\\\\site-packages\\\\IPython\\\\core\\\\macro.py'>,\n 'IPython.core.splitinput': <module 'IPython.core.splitinput' from 'd:\\\\users\\\\cestm\\\\.virtualenvs\\\\pythoncourse\\\\lib\\\\site-packages\\\\IPython\\\\core\\\\splitinput.py'>,\n 'IPython.core.prefilter': <module 'IPython.core.prefilter' from 'd:\\\\users\\\\cestm\\\\.virtualenvs\\\\pythoncourse\\\\lib\\\\site-packages\\\\IPython\\\\core\\\\prefilter.py'>,\n 'IPython.core.alias': <module 'IPython.core.alias' from 'd:\\\\users\\\\cestm\\\\.virtualenvs\\\\pythoncourse\\\\lib\\\\site-packages\\\\IPython\\\\core\\\\alias.py'>,\n 'IPython.core.builtin_trap': <module 'IPython.core.builtin_trap' from 'd:\\\\users\\\\cestm\\\\.virtualenvs\\\\pythoncourse\\\\lib\\\\site-packages\\\\IPython\\\\core\\\\builtin_trap.py'>,\n 'IPython.core.displayhook': <module 'IPython.core.displayhook' from 'd:\\\\users\\\\cestm\\\\.virtualenvs\\\\pythoncourse\\\\lib\\\\site-packages\\\\IPython\\\\core\\\\displayhook.py'>,\n 'IPython.core.displaypub': <module 'IPython.core.displaypub' from 'd:\\\\users\\\\cestm\\\\.virtualenvs\\\\pythoncourse\\\\lib\\\\site-packages\\\\IPython\\\\core\\\\displaypub.py'>,\n 'backcall.backcall': <module 'backcall.backcall' from 'd:\\\\users\\\\cestm\\\\.virtualenvs\\\\pythoncourse\\\\lib\\\\site-packages\\\\backcall\\\\backcall.py'>,\n 'backcall': <module 'backcall' from 'd:\\\\users\\\\cestm\\\\.virtualenvs\\\\pythoncourse\\\\lib\\\\site-packages\\\\backcall\\\\__init__.py'>,\n 'IPython.core.events': <module 'IPython.core.events' from 'd:\\\\users\\\\cestm\\\\.virtualenvs\\\\pythoncourse\\\\lib\\\\site-packages\\\\IPython\\\\core\\\\events.py'>,\n 'IPython.core.extensions': <module 'IPython.core.extensions' from 'd:\\\\users\\\\cestm\\\\.virtualenvs\\\\pythoncourse\\\\lib\\\\site-packages\\\\IPython\\\\core\\\\extensions.py'>,\n 'decorator': <module 'decorator' from 'd:\\\\users\\\\cestm\\\\.virtualenvs\\\\pythoncourse\\\\lib\\\\site-packages\\\\decorator.py'>,\n 'IPython.utils.sentinel': <module 'IPython.utils.sentinel' from 'd:\\\\users\\\\cestm\\\\.virtualenvs\\\\pythoncourse\\\\lib\\\\site-packages\\\\IPython\\\\utils\\\\sentinel.py'>,\n 'IPython.core.formatters': <module 'IPython.core.formatters' from 'd:\\\\users\\\\cestm\\\\.virtualenvs\\\\pythoncourse\\\\lib\\\\site-packages\\\\IPython\\\\core\\\\formatters.py'>,\n '_sqlite3': <module '_sqlite3' from 'C:\\\\Python39\\\\DLLs\\\\_sqlite3.pyd'>,\n 'sqlite3.dbapi2': <module 'sqlite3.dbapi2' from 'C:\\\\Python39\\\\lib\\\\sqlite3\\\\dbapi2.py'>,\n 'sqlite3': <module 'sqlite3' from 'C:\\\\Python39\\\\lib\\\\sqlite3\\\\__init__.py'>,\n 'IPython.core.history': <module 'IPython.core.history' from 'd:\\\\users\\\\cestm\\\\.virtualenvs\\\\pythoncourse\\\\lib\\\\site-packages\\\\IPython\\\\core\\\\history.py'>,\n 'IPython.core.logger': <module 'IPython.core.logger' from 'd:\\\\users\\\\cestm\\\\.virtualenvs\\\\pythoncourse\\\\lib\\\\site-packages\\\\IPython\\\\core\\\\logger.py'>,\n 'IPython.core.payload': <module 'IPython.core.payload' from 'd:\\\\users\\\\cestm\\\\.virtualenvs\\\\pythoncourse\\\\lib\\\\site-packages\\\\IPython\\\\core\\\\payload.py'>,\n 'IPython.core.usage': <module 'IPython.core.usage' from 'd:\\\\users\\\\cestm\\\\.virtualenvs\\\\pythoncourse\\\\lib\\\\site-packages\\\\IPython\\\\core\\\\usage.py'>,\n 'IPython.utils.capture': <module 'IPython.utils.capture' from 'd:\\\\users\\\\cestm\\\\.virtualenvs\\\\pythoncourse\\\\lib\\\\site-packages\\\\IPython\\\\utils\\\\capture.py'>,\n 'IPython.utils.io': <module 'IPython.utils.io' from 'd:\\\\users\\\\cestm\\\\.virtualenvs\\\\pythoncourse\\\\lib\\\\site-packages\\\\IPython\\\\utils\\\\io.py'>,\n 'IPython.utils.strdispatch': <module 'IPython.utils.strdispatch' from 'd:\\\\users\\\\cestm\\\\.virtualenvs\\\\pythoncourse\\\\lib\\\\site-packages\\\\IPython\\\\utils\\\\strdispatch.py'>,\n 'IPython.utils.syspathcontext': <module 'IPython.utils.syspathcontext' from 'd:\\\\users\\\\cestm\\\\.virtualenvs\\\\pythoncourse\\\\lib\\\\site-packages\\\\IPython\\\\utils\\\\syspathcontext.py'>,\n 'IPython.core.async_helpers': <module 'IPython.core.async_helpers' from 'd:\\\\users\\\\cestm\\\\.virtualenvs\\\\pythoncourse\\\\lib\\\\site-packages\\\\IPython\\\\core\\\\async_helpers.py'>,\n 'IPython.core.interactiveshell': <module 'IPython.core.interactiveshell' from 'd:\\\\users\\\\cestm\\\\.virtualenvs\\\\pythoncourse\\\\lib\\\\site-packages\\\\IPython\\\\core\\\\interactiveshell.py'>,\n 'prompt_toolkit.application.current': <module 'prompt_toolkit.application.current' from 'd:\\\\users\\\\cestm\\\\.virtualenvs\\\\pythoncourse\\\\lib\\\\site-packages\\\\prompt_toolkit\\\\application\\\\current.py'>,\n 'prompt_toolkit.eventloop.utils': <module 'prompt_toolkit.eventloop.utils' from 'd:\\\\users\\\\cestm\\\\.virtualenvs\\\\pythoncourse\\\\lib\\\\site-packages\\\\prompt_toolkit\\\\eventloop\\\\utils.py'>,\n 'prompt_toolkit.eventloop.async_generator': <module 'prompt_toolkit.eventloop.async_generator' from 'd:\\\\users\\\\cestm\\\\.virtualenvs\\\\pythoncourse\\\\lib\\\\site-packages\\\\prompt_toolkit\\\\eventloop\\\\async_generator.py'>,\n 'wcwidth.table_wide': <module 'wcwidth.table_wide' from 'd:\\\\users\\\\cestm\\\\.virtualenvs\\\\pythoncourse\\\\lib\\\\site-packages\\\\wcwidth\\\\table_wide.py'>,\n 'wcwidth.table_zero': <module 'wcwidth.table_zero' from 'd:\\\\users\\\\cestm\\\\.virtualenvs\\\\pythoncourse\\\\lib\\\\site-packages\\\\wcwidth\\\\table_zero.py'>,\n 'wcwidth.unicode_versions': <module 'wcwidth.unicode_versions' from 'd:\\\\users\\\\cestm\\\\.virtualenvs\\\\pythoncourse\\\\lib\\\\site-packages\\\\wcwidth\\\\unicode_versions.py'>,\n 'wcwidth.wcwidth': <module 'wcwidth.wcwidth' from 'd:\\\\users\\\\cestm\\\\.virtualenvs\\\\pythoncourse\\\\lib\\\\site-packages\\\\wcwidth\\\\wcwidth.py'>,\n 'wcwidth': <module 'wcwidth' from 'd:\\\\users\\\\cestm\\\\.virtualenvs\\\\pythoncourse\\\\lib\\\\site-packages\\\\wcwidth\\\\__init__.py'>,\n 'prompt_toolkit.utils': <module 'prompt_toolkit.utils' from 'd:\\\\users\\\\cestm\\\\.virtualenvs\\\\pythoncourse\\\\lib\\\\site-packages\\\\prompt_toolkit\\\\utils.py'>,\n 'prompt_toolkit.eventloop.inputhook': <module 'prompt_toolkit.eventloop.inputhook' from 'd:\\\\users\\\\cestm\\\\.virtualenvs\\\\pythoncourse\\\\lib\\\\site-packages\\\\prompt_toolkit\\\\eventloop\\\\inputhook.py'>,\n 'prompt_toolkit.eventloop': <module 'prompt_toolkit.eventloop' from 'd:\\\\users\\\\cestm\\\\.virtualenvs\\\\pythoncourse\\\\lib\\\\site-packages\\\\prompt_toolkit\\\\eventloop\\\\__init__.py'>,\n 'prompt_toolkit.application.run_in_terminal': <module 'prompt_toolkit.application.run_in_terminal' from 'd:\\\\users\\\\cestm\\\\.virtualenvs\\\\pythoncourse\\\\lib\\\\site-packages\\\\prompt_toolkit\\\\application\\\\run_in_terminal.py'>,\n 'prompt_toolkit.selection': <module 'prompt_toolkit.selection' from 'd:\\\\users\\\\cestm\\\\.virtualenvs\\\\pythoncourse\\\\lib\\\\site-packages\\\\prompt_toolkit\\\\selection.py'>,\n 'prompt_toolkit.clipboard.base': <module 'prompt_toolkit.clipboard.base' from 'd:\\\\users\\\\cestm\\\\.virtualenvs\\\\pythoncourse\\\\lib\\\\site-packages\\\\prompt_toolkit\\\\clipboard\\\\base.py'>,\n 'prompt_toolkit.clipboard.in_memory': <module 'prompt_toolkit.clipboard.in_memory' from 'd:\\\\users\\\\cestm\\\\.virtualenvs\\\\pythoncourse\\\\lib\\\\site-packages\\\\prompt_toolkit\\\\clipboard\\\\in_memory.py'>,\n 'prompt_toolkit.clipboard': <module 'prompt_toolkit.clipboard' from 'd:\\\\users\\\\cestm\\\\.virtualenvs\\\\pythoncourse\\\\lib\\\\site-packages\\\\prompt_toolkit\\\\clipboard\\\\__init__.py'>,\n 'prompt_toolkit.cache': <module 'prompt_toolkit.cache' from 'd:\\\\users\\\\cestm\\\\.virtualenvs\\\\pythoncourse\\\\lib\\\\site-packages\\\\prompt_toolkit\\\\cache.py'>,\n 'prompt_toolkit.enums': <module 'prompt_toolkit.enums' from 'd:\\\\users\\\\cestm\\\\.virtualenvs\\\\pythoncourse\\\\lib\\\\site-packages\\\\prompt_toolkit\\\\enums.py'>,\n 'prompt_toolkit.filters.base': <module 'prompt_toolkit.filters.base' from 'd:\\\\users\\\\cestm\\\\.virtualenvs\\\\pythoncourse\\\\lib\\\\site-packages\\\\prompt_toolkit\\\\filters\\\\base.py'>,\n 'prompt_toolkit.filters.app': <module 'prompt_toolkit.filters.app' from 'd:\\\\users\\\\cestm\\\\.virtualenvs\\\\pythoncourse\\\\lib\\\\site-packages\\\\prompt_toolkit\\\\filters\\\\app.py'>,\n 'prompt_toolkit.filters.cli': <module 'prompt_toolkit.filters.cli' from 'd:\\\\users\\\\cestm\\\\.virtualenvs\\\\pythoncourse\\\\lib\\\\site-packages\\\\prompt_toolkit\\\\filters\\\\cli.py'>,\n 'prompt_toolkit.filters.utils': <module 'prompt_toolkit.filters.utils' from 'd:\\\\users\\\\cestm\\\\.virtualenvs\\\\pythoncourse\\\\lib\\\\site-packages\\\\prompt_toolkit\\\\filters\\\\utils.py'>,\n 'prompt_toolkit.filters': <module 'prompt_toolkit.filters' from 'd:\\\\users\\\\cestm\\\\.virtualenvs\\\\pythoncourse\\\\lib\\\\site-packages\\\\prompt_toolkit\\\\filters\\\\__init__.py'>,\n 'prompt_toolkit.document': <module 'prompt_toolkit.document' from 'd:\\\\users\\\\cestm\\\\.virtualenvs\\\\pythoncourse\\\\lib\\\\site-packages\\\\prompt_toolkit\\\\document.py'>,\n 'prompt_toolkit.auto_suggest': <module 'prompt_toolkit.auto_suggest' from 'd:\\\\users\\\\cestm\\\\.virtualenvs\\\\pythoncourse\\\\lib\\\\site-packages\\\\prompt_toolkit\\\\auto_suggest.py'>,\n 'prompt_toolkit.keys': <module 'prompt_toolkit.keys' from 'd:\\\\users\\\\cestm\\\\.virtualenvs\\\\pythoncourse\\\\lib\\\\site-packages\\\\prompt_toolkit\\\\keys.py'>,\n 'prompt_toolkit.key_binding.key_bindings': <module 'prompt_toolkit.key_binding.key_bindings' from 'd:\\\\users\\\\cestm\\\\.virtualenvs\\\\pythoncourse\\\\lib\\\\site-packages\\\\prompt_toolkit\\\\key_binding\\\\key_bindings.py'>,\n 'prompt_toolkit.key_binding.key_processor': <module 'prompt_toolkit.key_binding.key_processor' from 'd:\\\\users\\\\cestm\\\\.virtualenvs\\\\pythoncourse\\\\lib\\\\site-packages\\\\prompt_toolkit\\\\key_binding\\\\key_processor.py'>,\n 'prompt_toolkit.key_binding': <module 'prompt_toolkit.key_binding' from 'd:\\\\users\\\\cestm\\\\.virtualenvs\\\\pythoncourse\\\\lib\\\\site-packages\\\\prompt_toolkit\\\\key_binding\\\\__init__.py'>,\n 'prompt_toolkit.key_binding.vi_state': <module 'prompt_toolkit.key_binding.vi_state' from 'd:\\\\users\\\\cestm\\\\.virtualenvs\\\\pythoncourse\\\\lib\\\\site-packages\\\\prompt_toolkit\\\\key_binding\\\\vi_state.py'>,\n 'prompt_toolkit.cursor_shapes': <module 'prompt_toolkit.cursor_shapes' from 'd:\\\\users\\\\cestm\\\\.virtualenvs\\\\pythoncourse\\\\lib\\\\site-packages\\\\prompt_toolkit\\\\cursor_shapes.py'>,\n 'prompt_toolkit.data_structures': <module 'prompt_toolkit.data_structures' from 'd:\\\\users\\\\cestm\\\\.virtualenvs\\\\pythoncourse\\\\lib\\\\site-packages\\\\prompt_toolkit\\\\data_structures.py'>,\n 'prompt_toolkit.styles.base': <module 'prompt_toolkit.styles.base' from 'd:\\\\users\\\\cestm\\\\.virtualenvs\\\\pythoncourse\\\\lib\\\\site-packages\\\\prompt_toolkit\\\\styles\\\\base.py'>,\n 'prompt_toolkit.styles.named_colors': <module 'prompt_toolkit.styles.named_colors' from 'd:\\\\users\\\\cestm\\\\.virtualenvs\\\\pythoncourse\\\\lib\\\\site-packages\\\\prompt_toolkit\\\\styles\\\\named_colors.py'>,\n 'prompt_toolkit.styles.style': <module 'prompt_toolkit.styles.style' from 'd:\\\\users\\\\cestm\\\\.virtualenvs\\\\pythoncourse\\\\lib\\\\site-packages\\\\prompt_toolkit\\\\styles\\\\style.py'>,\n 'prompt_toolkit.styles.defaults': <module 'prompt_toolkit.styles.defaults' from 'd:\\\\users\\\\cestm\\\\.virtualenvs\\\\pythoncourse\\\\lib\\\\site-packages\\\\prompt_toolkit\\\\styles\\\\defaults.py'>,\n 'prompt_toolkit.styles.pygments': <module 'prompt_toolkit.styles.pygments' from 'd:\\\\users\\\\cestm\\\\.virtualenvs\\\\pythoncourse\\\\lib\\\\site-packages\\\\prompt_toolkit\\\\styles\\\\pygments.py'>,\n 'colorsys': <module 'colorsys' from 'C:\\\\Python39\\\\lib\\\\colorsys.py'>,\n 'prompt_toolkit.styles.style_transformation': <module 'prompt_toolkit.styles.style_transformation' from 'd:\\\\users\\\\cestm\\\\.virtualenvs\\\\pythoncourse\\\\lib\\\\site-packages\\\\prompt_toolkit\\\\styles\\\\style_transformation.py'>,\n 'prompt_toolkit.styles': <module 'prompt_toolkit.styles' from 'd:\\\\users\\\\cestm\\\\.virtualenvs\\\\pythoncourse\\\\lib\\\\site-packages\\\\prompt_toolkit\\\\styles\\\\__init__.py'>,\n 'prompt_toolkit.output.color_depth': <module 'prompt_toolkit.output.color_depth' from 'd:\\\\users\\\\cestm\\\\.virtualenvs\\\\pythoncourse\\\\lib\\\\site-packages\\\\prompt_toolkit\\\\output\\\\color_depth.py'>,\n 'prompt_toolkit.output.base': <module 'prompt_toolkit.output.base' from 'd:\\\\users\\\\cestm\\\\.virtualenvs\\\\pythoncourse\\\\lib\\\\site-packages\\\\prompt_toolkit\\\\output\\\\base.py'>,\n 'prompt_toolkit.output.flush_stdout': <module 'prompt_toolkit.output.flush_stdout' from 'd:\\\\users\\\\cestm\\\\.virtualenvs\\\\pythoncourse\\\\lib\\\\site-packages\\\\prompt_toolkit\\\\output\\\\flush_stdout.py'>,\n 'prompt_toolkit.output.plain_text': <module 'prompt_toolkit.output.plain_text' from 'd:\\\\users\\\\cestm\\\\.virtualenvs\\\\pythoncourse\\\\lib\\\\site-packages\\\\prompt_toolkit\\\\output\\\\plain_text.py'>,\n 'prompt_toolkit.output.defaults': <module 'prompt_toolkit.output.defaults' from 'd:\\\\users\\\\cestm\\\\.virtualenvs\\\\pythoncourse\\\\lib\\\\site-packages\\\\prompt_toolkit\\\\output\\\\defaults.py'>,\n 'prompt_toolkit.output': <module 'prompt_toolkit.output' from 'd:\\\\users\\\\cestm\\\\.virtualenvs\\\\pythoncourse\\\\lib\\\\site-packages\\\\prompt_toolkit\\\\output\\\\__init__.py'>,\n 'prompt_toolkit.output.vt100': <module 'prompt_toolkit.output.vt100' from 'd:\\\\users\\\\cestm\\\\.virtualenvs\\\\pythoncourse\\\\lib\\\\site-packages\\\\prompt_toolkit\\\\output\\\\vt100.py'>,\n 'prompt_toolkit.mouse_events': <module 'prompt_toolkit.mouse_events' from 'd:\\\\users\\\\cestm\\\\.virtualenvs\\\\pythoncourse\\\\lib\\\\site-packages\\\\prompt_toolkit\\\\mouse_events.py'>,\n 'prompt_toolkit.formatted_text.base': <module 'prompt_toolkit.formatted_text.base' from 'd:\\\\users\\\\cestm\\\\.virtualenvs\\\\pythoncourse\\\\lib\\\\site-packages\\\\prompt_toolkit\\\\formatted_text\\\\base.py'>,\n 'prompt_toolkit.formatted_text.ansi': <module 'prompt_toolkit.formatted_text.ansi' from 'd:\\\\users\\\\cestm\\\\.virtualenvs\\\\pythoncourse\\\\lib\\\\site-packages\\\\prompt_toolkit\\\\formatted_text\\\\ansi.py'>,\n 'xml': <module 'xml' from 'C:\\\\Python39\\\\lib\\\\xml\\\\__init__.py'>,\n 'xml.dom.domreg': <module 'xml.dom.domreg' from 'C:\\\\Python39\\\\lib\\\\xml\\\\dom\\\\domreg.py'>,\n 'xml.dom': <module 'xml.dom' from 'C:\\\\Python39\\\\lib\\\\xml\\\\dom\\\\__init__.py'>,\n 'xml.dom.minicompat': <module 'xml.dom.minicompat' from 'C:\\\\Python39\\\\lib\\\\xml\\\\dom\\\\minicompat.py'>,\n 'xml.dom.NodeFilter': <module 'xml.dom.NodeFilter' from 'C:\\\\Python39\\\\lib\\\\xml\\\\dom\\\\NodeFilter.py'>,\n 'xml.dom.xmlbuilder': <module 'xml.dom.xmlbuilder' from 'C:\\\\Python39\\\\lib\\\\xml\\\\dom\\\\xmlbuilder.py'>,\n 'xml.dom.minidom': <module 'xml.dom.minidom' from 'C:\\\\Python39\\\\lib\\\\xml\\\\dom\\\\minidom.py'>,\n 'prompt_toolkit.formatted_text.html': <module 'prompt_toolkit.formatted_text.html' from 'd:\\\\users\\\\cestm\\\\.virtualenvs\\\\pythoncourse\\\\lib\\\\site-packages\\\\prompt_toolkit\\\\formatted_text\\\\html.py'>,\n 'prompt_toolkit.formatted_text.pygments': <module 'prompt_toolkit.formatted_text.pygments' from 'd:\\\\users\\\\cestm\\\\.virtualenvs\\\\pythoncourse\\\\lib\\\\site-packages\\\\prompt_toolkit\\\\formatted_text\\\\pygments.py'>,\n 'prompt_toolkit.formatted_text.utils': <module 'prompt_toolkit.formatted_text.utils' from 'd:\\\\users\\\\cestm\\\\.virtualenvs\\\\pythoncourse\\\\lib\\\\site-packages\\\\prompt_toolkit\\\\formatted_text\\\\utils.py'>,\n 'prompt_toolkit.formatted_text': <module 'prompt_toolkit.formatted_text' from 'd:\\\\users\\\\cestm\\\\.virtualenvs\\\\pythoncourse\\\\lib\\\\site-packages\\\\prompt_toolkit\\\\formatted_text\\\\__init__.py'>,\n 'prompt_toolkit.completion.base': <module 'prompt_toolkit.completion.base' from 'd:\\\\users\\\\cestm\\\\.virtualenvs\\\\pythoncourse\\\\lib\\\\site-packages\\\\prompt_toolkit\\\\completion\\\\base.py'>,\n 'prompt_toolkit.completion.deduplicate': <module 'prompt_toolkit.completion.deduplicate' from 'd:\\\\users\\\\cestm\\\\.virtualenvs\\\\pythoncourse\\\\lib\\\\site-packages\\\\prompt_toolkit\\\\completion\\\\deduplicate.py'>,\n 'prompt_toolkit.completion.filesystem': <module 'prompt_toolkit.completion.filesystem' from 'd:\\\\users\\\\cestm\\\\.virtualenvs\\\\pythoncourse\\\\lib\\\\site-packages\\\\prompt_toolkit\\\\completion\\\\filesystem.py'>,\n 'prompt_toolkit.completion.word_completer': <module 'prompt_toolkit.completion.word_completer' from 'd:\\\\users\\\\cestm\\\\.virtualenvs\\\\pythoncourse\\\\lib\\\\site-packages\\\\prompt_toolkit\\\\completion\\\\word_completer.py'>,\n 'prompt_toolkit.completion.fuzzy_completer': <module 'prompt_toolkit.completion.fuzzy_completer' from 'd:\\\\users\\\\cestm\\\\.virtualenvs\\\\pythoncourse\\\\lib\\\\site-packages\\\\prompt_toolkit\\\\completion\\\\fuzzy_completer.py'>,\n 'prompt_toolkit.completion.nested': <module 'prompt_toolkit.completion.nested' from 'd:\\\\users\\\\cestm\\\\.virtualenvs\\\\pythoncourse\\\\lib\\\\site-packages\\\\prompt_toolkit\\\\completion\\\\nested.py'>,\n 'prompt_toolkit.completion': <module 'prompt_toolkit.completion' from 'd:\\\\users\\\\cestm\\\\.virtualenvs\\\\pythoncourse\\\\lib\\\\site-packages\\\\prompt_toolkit\\\\completion\\\\__init__.py'>,\n 'prompt_toolkit.history': <module 'prompt_toolkit.history' from 'd:\\\\users\\\\cestm\\\\.virtualenvs\\\\pythoncourse\\\\lib\\\\site-packages\\\\prompt_toolkit\\\\history.py'>,\n 'prompt_toolkit.search': <module 'prompt_toolkit.search' from 'd:\\\\users\\\\cestm\\\\.virtualenvs\\\\pythoncourse\\\\lib\\\\site-packages\\\\prompt_toolkit\\\\search.py'>,\n 'prompt_toolkit.validation': <module 'prompt_toolkit.validation' from 'd:\\\\users\\\\cestm\\\\.virtualenvs\\\\pythoncourse\\\\lib\\\\site-packages\\\\prompt_toolkit\\\\validation.py'>,\n 'prompt_toolkit.buffer': <module 'prompt_toolkit.buffer' from 'd:\\\\users\\\\cestm\\\\.virtualenvs\\\\pythoncourse\\\\lib\\\\site-packages\\\\prompt_toolkit\\\\buffer.py'>,\n 'prompt_toolkit.input.base': <module 'prompt_toolkit.input.base' from 'd:\\\\users\\\\cestm\\\\.virtualenvs\\\\pythoncourse\\\\lib\\\\site-packages\\\\prompt_toolkit\\\\input\\\\base.py'>,\n 'prompt_toolkit.input.defaults': <module 'prompt_toolkit.input.defaults' from 'd:\\\\users\\\\cestm\\\\.virtualenvs\\\\pythoncourse\\\\lib\\\\site-packages\\\\prompt_toolkit\\\\input\\\\defaults.py'>,\n 'prompt_toolkit.input': <module 'prompt_toolkit.input' from 'd:\\\\users\\\\cestm\\\\.virtualenvs\\\\pythoncourse\\\\lib\\\\site-packages\\\\prompt_toolkit\\\\input\\\\__init__.py'>,\n 'prompt_toolkit.input.typeahead': <module 'prompt_toolkit.input.typeahead' from 'd:\\\\users\\\\cestm\\\\.virtualenvs\\\\pythoncourse\\\\lib\\\\site-packages\\\\prompt_toolkit\\\\input\\\\typeahead.py'>,\n 'prompt_toolkit.key_binding.bindings': <module 'prompt_toolkit.key_binding.bindings' from 'd:\\\\users\\\\cestm\\\\.virtualenvs\\\\pythoncourse\\\\lib\\\\site-packages\\\\prompt_toolkit\\\\key_binding\\\\bindings\\\\__init__.py'>,\n 'prompt_toolkit.key_binding.bindings.scroll': <module 'prompt_toolkit.key_binding.bindings.scroll' from 'd:\\\\users\\\\cestm\\\\.virtualenvs\\\\pythoncourse\\\\lib\\\\site-packages\\\\prompt_toolkit\\\\key_binding\\\\bindings\\\\scroll.py'>,\n 'prompt_toolkit.key_binding.bindings.page_navigation': <module 'prompt_toolkit.key_binding.bindings.page_navigation' from 'd:\\\\users\\\\cestm\\\\.virtualenvs\\\\pythoncourse\\\\lib\\\\site-packages\\\\prompt_toolkit\\\\key_binding\\\\bindings\\\\page_navigation.py'>,\n 'prompt_toolkit.lexers.base': <module 'prompt_toolkit.lexers.base' from 'd:\\\\users\\\\cestm\\\\.virtualenvs\\\\pythoncourse\\\\lib\\\\site-packages\\\\prompt_toolkit\\\\lexers\\\\base.py'>,\n 'prompt_toolkit.lexers.pygments': <module 'prompt_toolkit.lexers.pygments' from 'd:\\\\users\\\\cestm\\\\.virtualenvs\\\\pythoncourse\\\\lib\\\\site-packages\\\\prompt_toolkit\\\\lexers\\\\pygments.py'>,\n 'prompt_toolkit.lexers': <module 'prompt_toolkit.lexers' from 'd:\\\\users\\\\cestm\\\\.virtualenvs\\\\pythoncourse\\\\lib\\\\site-packages\\\\prompt_toolkit\\\\lexers\\\\__init__.py'>,\n 'prompt_toolkit.layout.utils': <module 'prompt_toolkit.layout.utils' from 'd:\\\\users\\\\cestm\\\\.virtualenvs\\\\pythoncourse\\\\lib\\\\site-packages\\\\prompt_toolkit\\\\layout\\\\utils.py'>,\n 'prompt_toolkit.layout.processors': <module 'prompt_toolkit.layout.processors' from 'd:\\\\users\\\\cestm\\\\.virtualenvs\\\\pythoncourse\\\\lib\\\\site-packages\\\\prompt_toolkit\\\\layout\\\\processors.py'>,\n 'prompt_toolkit.layout.controls': <module 'prompt_toolkit.layout.controls' from 'd:\\\\users\\\\cestm\\\\.virtualenvs\\\\pythoncourse\\\\lib\\\\site-packages\\\\prompt_toolkit\\\\layout\\\\controls.py'>,\n 'prompt_toolkit.layout.dimension': <module 'prompt_toolkit.layout.dimension' from 'd:\\\\users\\\\cestm\\\\.virtualenvs\\\\pythoncourse\\\\lib\\\\site-packages\\\\prompt_toolkit\\\\layout\\\\dimension.py'>,\n 'prompt_toolkit.layout.margins': <module 'prompt_toolkit.layout.margins' from 'd:\\\\users\\\\cestm\\\\.virtualenvs\\\\pythoncourse\\\\lib\\\\site-packages\\\\prompt_toolkit\\\\layout\\\\margins.py'>,\n 'prompt_toolkit.layout.mouse_handlers': <module 'prompt_toolkit.layout.mouse_handlers' from 'd:\\\\users\\\\cestm\\\\.virtualenvs\\\\pythoncourse\\\\lib\\\\site-packages\\\\prompt_toolkit\\\\layout\\\\mouse_handlers.py'>,\n 'prompt_toolkit.layout.screen': <module 'prompt_toolkit.layout.screen' from 'd:\\\\users\\\\cestm\\\\.virtualenvs\\\\pythoncourse\\\\lib\\\\site-packages\\\\prompt_toolkit\\\\layout\\\\screen.py'>,\n 'prompt_toolkit.layout.containers': <module 'prompt_toolkit.layout.containers' from 'd:\\\\users\\\\cestm\\\\.virtualenvs\\\\pythoncourse\\\\lib\\\\site-packages\\\\prompt_toolkit\\\\layout\\\\containers.py'>,\n 'prompt_toolkit.layout.layout': <module 'prompt_toolkit.layout.layout' from 'd:\\\\users\\\\cestm\\\\.virtualenvs\\\\pythoncourse\\\\lib\\\\site-packages\\\\prompt_toolkit\\\\layout\\\\layout.py'>,\n 'prompt_toolkit.layout.menus': <module 'prompt_toolkit.layout.menus' from 'd:\\\\users\\\\cestm\\\\.virtualenvs\\\\pythoncourse\\\\lib\\\\site-packages\\\\prompt_toolkit\\\\layout\\\\menus.py'>,\n 'prompt_toolkit.layout.scrollable_pane': <module 'prompt_toolkit.layout.scrollable_pane' from 'd:\\\\users\\\\cestm\\\\.virtualenvs\\\\pythoncourse\\\\lib\\\\site-packages\\\\prompt_toolkit\\\\layout\\\\scrollable_pane.py'>,\n 'prompt_toolkit.layout': <module 'prompt_toolkit.layout' from 'd:\\\\users\\\\cestm\\\\.virtualenvs\\\\pythoncourse\\\\lib\\\\site-packages\\\\prompt_toolkit\\\\layout\\\\__init__.py'>,\n 'prompt_toolkit.key_binding.bindings.completion': <module 'prompt_toolkit.key_binding.bindings.completion' from 'd:\\\\users\\\\cestm\\\\.virtualenvs\\\\pythoncourse\\\\lib\\\\site-packages\\\\prompt_toolkit\\\\key_binding\\\\bindings\\\\completion.py'>,\n 'prompt_toolkit.key_binding.bindings.named_commands': <module 'prompt_toolkit.key_binding.bindings.named_commands' from 'd:\\\\users\\\\cestm\\\\.virtualenvs\\\\pythoncourse\\\\lib\\\\site-packages\\\\prompt_toolkit\\\\key_binding\\\\bindings\\\\named_commands.py'>,\n 'prompt_toolkit.key_binding.bindings.basic': <module 'prompt_toolkit.key_binding.bindings.basic' from 'd:\\\\users\\\\cestm\\\\.virtualenvs\\\\pythoncourse\\\\lib\\\\site-packages\\\\prompt_toolkit\\\\key_binding\\\\bindings\\\\basic.py'>,\n 'prompt_toolkit.key_binding.bindings.cpr': <module 'prompt_toolkit.key_binding.bindings.cpr' from 'd:\\\\users\\\\cestm\\\\.virtualenvs\\\\pythoncourse\\\\lib\\\\site-packages\\\\prompt_toolkit\\\\key_binding\\\\bindings\\\\cpr.py'>,\n 'prompt_toolkit.key_binding.bindings.emacs': <module 'prompt_toolkit.key_binding.bindings.emacs' from 'd:\\\\users\\\\cestm\\\\.virtualenvs\\\\pythoncourse\\\\lib\\\\site-packages\\\\prompt_toolkit\\\\key_binding\\\\bindings\\\\emacs.py'>,\n 'prompt_toolkit.key_binding.bindings.mouse': <module 'prompt_toolkit.key_binding.bindings.mouse' from 'd:\\\\users\\\\cestm\\\\.virtualenvs\\\\pythoncourse\\\\lib\\\\site-packages\\\\prompt_toolkit\\\\key_binding\\\\bindings\\\\mouse.py'>,\n 'prompt_toolkit.input.ansi_escape_sequences': <module 'prompt_toolkit.input.ansi_escape_sequences' from 'd:\\\\users\\\\cestm\\\\.virtualenvs\\\\pythoncourse\\\\lib\\\\site-packages\\\\prompt_toolkit\\\\input\\\\ansi_escape_sequences.py'>,\n 'prompt_toolkit.input.vt100_parser': <module 'prompt_toolkit.input.vt100_parser' from 'd:\\\\users\\\\cestm\\\\.virtualenvs\\\\pythoncourse\\\\lib\\\\site-packages\\\\prompt_toolkit\\\\input\\\\vt100_parser.py'>,\n 'prompt_toolkit.key_binding.digraphs': <module 'prompt_toolkit.key_binding.digraphs' from 'd:\\\\users\\\\cestm\\\\.virtualenvs\\\\pythoncourse\\\\lib\\\\site-packages\\\\prompt_toolkit\\\\key_binding\\\\digraphs.py'>,\n 'prompt_toolkit.key_binding.bindings.vi': <module 'prompt_toolkit.key_binding.bindings.vi' from 'd:\\\\users\\\\cestm\\\\.virtualenvs\\\\pythoncourse\\\\lib\\\\site-packages\\\\prompt_toolkit\\\\key_binding\\\\bindings\\\\vi.py'>,\n 'prompt_toolkit.key_binding.defaults': <module 'prompt_toolkit.key_binding.defaults' from 'd:\\\\users\\\\cestm\\\\.virtualenvs\\\\pythoncourse\\\\lib\\\\site-packages\\\\prompt_toolkit\\\\key_binding\\\\defaults.py'>,\n 'prompt_toolkit.key_binding.emacs_state': <module 'prompt_toolkit.key_binding.emacs_state' from 'd:\\\\users\\\\cestm\\\\.virtualenvs\\\\pythoncourse\\\\lib\\\\site-packages\\\\prompt_toolkit\\\\key_binding\\\\emacs_state.py'>,\n 'prompt_toolkit.layout.dummy': <module 'prompt_toolkit.layout.dummy' from 'd:\\\\users\\\\cestm\\\\.virtualenvs\\\\pythoncourse\\\\lib\\\\site-packages\\\\prompt_toolkit\\\\layout\\\\dummy.py'>,\n 'prompt_toolkit.renderer': <module 'prompt_toolkit.renderer' from 'd:\\\\users\\\\cestm\\\\.virtualenvs\\\\pythoncourse\\\\lib\\\\site-packages\\\\prompt_toolkit\\\\renderer.py'>,\n 'prompt_toolkit.application.application': <module 'prompt_toolkit.application.application' from 'd:\\\\users\\\\cestm\\\\.virtualenvs\\\\pythoncourse\\\\lib\\\\site-packages\\\\prompt_toolkit\\\\application\\\\application.py'>,\n 'prompt_toolkit.application.dummy': <module 'prompt_toolkit.application.dummy' from 'd:\\\\users\\\\cestm\\\\.virtualenvs\\\\pythoncourse\\\\lib\\\\site-packages\\\\prompt_toolkit\\\\application\\\\dummy.py'>,\n 'prompt_toolkit.application': <module 'prompt_toolkit.application' from 'd:\\\\users\\\\cestm\\\\.virtualenvs\\\\pythoncourse\\\\lib\\\\site-packages\\\\prompt_toolkit\\\\application\\\\__init__.py'>,\n 'prompt_toolkit.key_binding.bindings.focus': <module 'prompt_toolkit.key_binding.bindings.focus' from 'd:\\\\users\\\\cestm\\\\.virtualenvs\\\\pythoncourse\\\\lib\\\\site-packages\\\\prompt_toolkit\\\\key_binding\\\\bindings\\\\focus.py'>,\n 'prompt_toolkit.widgets.toolbars': <module 'prompt_toolkit.widgets.toolbars' from 'd:\\\\users\\\\cestm\\\\.virtualenvs\\\\pythoncourse\\\\lib\\\\site-packages\\\\prompt_toolkit\\\\widgets\\\\toolbars.py'>,\n 'prompt_toolkit.widgets.base': <module 'prompt_toolkit.widgets.base' from 'd:\\\\users\\\\cestm\\\\.virtualenvs\\\\pythoncourse\\\\lib\\\\site-packages\\\\prompt_toolkit\\\\widgets\\\\base.py'>,\n 'prompt_toolkit.widgets.dialogs': <module 'prompt_toolkit.widgets.dialogs' from 'd:\\\\users\\\\cestm\\\\.virtualenvs\\\\pythoncourse\\\\lib\\\\site-packages\\\\prompt_toolkit\\\\widgets\\\\dialogs.py'>,\n 'prompt_toolkit.widgets.menus': <module 'prompt_toolkit.widgets.menus' from 'd:\\\\users\\\\cestm\\\\.virtualenvs\\\\pythoncourse\\\\lib\\\\site-packages\\\\prompt_toolkit\\\\widgets\\\\menus.py'>,\n 'prompt_toolkit.widgets': <module 'prompt_toolkit.widgets' from 'd:\\\\users\\\\cestm\\\\.virtualenvs\\\\pythoncourse\\\\lib\\\\site-packages\\\\prompt_toolkit\\\\widgets\\\\__init__.py'>,\n 'prompt_toolkit.shortcuts.dialogs': <module 'prompt_toolkit.shortcuts.dialogs' from 'd:\\\\users\\\\cestm\\\\.virtualenvs\\\\pythoncourse\\\\lib\\\\site-packages\\\\prompt_toolkit\\\\shortcuts\\\\dialogs.py'>,\n 'prompt_toolkit.shortcuts.progress_bar.formatters': <module 'prompt_toolkit.shortcuts.progress_bar.formatters' from 'd:\\\\users\\\\cestm\\\\.virtualenvs\\\\pythoncourse\\\\lib\\\\site-packages\\\\prompt_toolkit\\\\shortcuts\\\\progress_bar\\\\formatters.py'>,\n 'prompt_toolkit.shortcuts.progress_bar.base': <module 'prompt_toolkit.shortcuts.progress_bar.base' from 'd:\\\\users\\\\cestm\\\\.virtualenvs\\\\pythoncourse\\\\lib\\\\site-packages\\\\prompt_toolkit\\\\shortcuts\\\\progress_bar\\\\base.py'>,\n 'prompt_toolkit.shortcuts.progress_bar': <module 'prompt_toolkit.shortcuts.progress_bar' from 'd:\\\\users\\\\cestm\\\\.virtualenvs\\\\pythoncourse\\\\lib\\\\site-packages\\\\prompt_toolkit\\\\shortcuts\\\\progress_bar\\\\__init__.py'>,\n 'prompt_toolkit.key_binding.bindings.auto_suggest': <module 'prompt_toolkit.key_binding.bindings.auto_suggest' from 'd:\\\\users\\\\cestm\\\\.virtualenvs\\\\pythoncourse\\\\lib\\\\site-packages\\\\prompt_toolkit\\\\key_binding\\\\bindings\\\\auto_suggest.py'>,\n 'prompt_toolkit.key_binding.bindings.open_in_editor': <module 'prompt_toolkit.key_binding.bindings.open_in_editor' from 'd:\\\\users\\\\cestm\\\\.virtualenvs\\\\pythoncourse\\\\lib\\\\site-packages\\\\prompt_toolkit\\\\key_binding\\\\bindings\\\\open_in_editor.py'>,\n 'prompt_toolkit.shortcuts.prompt': <module 'prompt_toolkit.shortcuts.prompt' from 'd:\\\\users\\\\cestm\\\\.virtualenvs\\\\pythoncourse\\\\lib\\\\site-packages\\\\prompt_toolkit\\\\shortcuts\\\\prompt.py'>,\n 'prompt_toolkit.shortcuts.utils': <module 'prompt_toolkit.shortcuts.utils' from 'd:\\\\users\\\\cestm\\\\.virtualenvs\\\\pythoncourse\\\\lib\\\\site-packages\\\\prompt_toolkit\\\\shortcuts\\\\utils.py'>,\n 'prompt_toolkit.shortcuts': <module 'prompt_toolkit.shortcuts' from 'd:\\\\users\\\\cestm\\\\.virtualenvs\\\\pythoncourse\\\\lib\\\\site-packages\\\\prompt_toolkit\\\\shortcuts\\\\__init__.py'>,\n 'prompt_toolkit': <module 'prompt_toolkit' from 'd:\\\\users\\\\cestm\\\\.virtualenvs\\\\pythoncourse\\\\lib\\\\site-packages\\\\prompt_toolkit\\\\__init__.py'>,\n 'prompt_toolkit.patch_stdout': <module 'prompt_toolkit.patch_stdout' from 'd:\\\\users\\\\cestm\\\\.virtualenvs\\\\pythoncourse\\\\lib\\\\site-packages\\\\prompt_toolkit\\\\patch_stdout.py'>,\n 'unicodedata': <module 'unicodedata' from 'C:\\\\Python39\\\\DLLs\\\\unicodedata.pyd'>,\n 'IPython.core.latex_symbols': <module 'IPython.core.latex_symbols' from 'd:\\\\users\\\\cestm\\\\.virtualenvs\\\\pythoncourse\\\\lib\\\\site-packages\\\\IPython\\\\core\\\\latex_symbols.py'>,\n 'IPython.utils.generics': <module 'IPython.utils.generics' from 'd:\\\\users\\\\cestm\\\\.virtualenvs\\\\pythoncourse\\\\lib\\\\site-packages\\\\IPython\\\\utils\\\\generics.py'>,\n 'parso.utils': <module 'parso.utils' from 'd:\\\\users\\\\cestm\\\\.virtualenvs\\\\pythoncourse\\\\lib\\\\site-packages\\\\parso\\\\utils.py'>,\n 'parso.tree': <module 'parso.tree' from 'd:\\\\users\\\\cestm\\\\.virtualenvs\\\\pythoncourse\\\\lib\\\\site-packages\\\\parso\\\\tree.py'>,\n 'parso.python': <module 'parso.python' from 'd:\\\\users\\\\cestm\\\\.virtualenvs\\\\pythoncourse\\\\lib\\\\site-packages\\\\parso\\\\python\\\\__init__.py'>,\n 'parso.python.token': <module 'parso.python.token' from 'd:\\\\users\\\\cestm\\\\.virtualenvs\\\\pythoncourse\\\\lib\\\\site-packages\\\\parso\\\\python\\\\token.py'>,\n 'parso.python.tokenize': <module 'parso.python.tokenize' from 'd:\\\\users\\\\cestm\\\\.virtualenvs\\\\pythoncourse\\\\lib\\\\site-packages\\\\parso\\\\python\\\\tokenize.py'>,\n 'parso.pgen2.grammar_parser': <module 'parso.pgen2.grammar_parser' from 'd:\\\\users\\\\cestm\\\\.virtualenvs\\\\pythoncourse\\\\lib\\\\site-packages\\\\parso\\\\pgen2\\\\grammar_parser.py'>,\n 'parso.pgen2.generator': <module 'parso.pgen2.generator' from 'd:\\\\users\\\\cestm\\\\.virtualenvs\\\\pythoncourse\\\\lib\\\\site-packages\\\\parso\\\\pgen2\\\\generator.py'>,\n 'parso.pgen2': <module 'parso.pgen2' from 'd:\\\\users\\\\cestm\\\\.virtualenvs\\\\pythoncourse\\\\lib\\\\site-packages\\\\parso\\\\pgen2\\\\__init__.py'>,\n 'parso.parser': <module 'parso.parser' from 'd:\\\\users\\\\cestm\\\\.virtualenvs\\\\pythoncourse\\\\lib\\\\site-packages\\\\parso\\\\parser.py'>,\n 'parso._compatibility': <module 'parso._compatibility' from 'd:\\\\users\\\\cestm\\\\.virtualenvs\\\\pythoncourse\\\\lib\\\\site-packages\\\\parso\\\\_compatibility.py'>,\n 'difflib': <module 'difflib' from 'C:\\\\Python39\\\\lib\\\\difflib.py'>,\n 'parso.python.prefix': <module 'parso.python.prefix' from 'd:\\\\users\\\\cestm\\\\.virtualenvs\\\\pythoncourse\\\\lib\\\\site-packages\\\\parso\\\\python\\\\prefix.py'>,\n 'parso.python.tree': <module 'parso.python.tree' from 'd:\\\\users\\\\cestm\\\\.virtualenvs\\\\pythoncourse\\\\lib\\\\site-packages\\\\parso\\\\python\\\\tree.py'>,\n 'parso.python.parser': <module 'parso.python.parser' from 'd:\\\\users\\\\cestm\\\\.virtualenvs\\\\pythoncourse\\\\lib\\\\site-packages\\\\parso\\\\python\\\\parser.py'>,\n 'parso.python.diff': <module 'parso.python.diff' from 'd:\\\\users\\\\cestm\\\\.virtualenvs\\\\pythoncourse\\\\lib\\\\site-packages\\\\parso\\\\python\\\\diff.py'>,\n 'gc': <module 'gc' (built-in)>,\n 'parso.cache': <module 'parso.cache' from 'd:\\\\users\\\\cestm\\\\.virtualenvs\\\\pythoncourse\\\\lib\\\\site-packages\\\\parso\\\\cache.py'>,\n 'parso.normalizer': <module 'parso.normalizer' from 'd:\\\\users\\\\cestm\\\\.virtualenvs\\\\pythoncourse\\\\lib\\\\site-packages\\\\parso\\\\normalizer.py'>,\n 'parso.python.errors': <module 'parso.python.errors' from 'd:\\\\users\\\\cestm\\\\.virtualenvs\\\\pythoncourse\\\\lib\\\\site-packages\\\\parso\\\\python\\\\errors.py'>,\n 'parso.python.pep8': <module 'parso.python.pep8' from 'd:\\\\users\\\\cestm\\\\.virtualenvs\\\\pythoncourse\\\\lib\\\\site-packages\\\\parso\\\\python\\\\pep8.py'>,\n 'parso.file_io': <module 'parso.file_io' from 'd:\\\\users\\\\cestm\\\\.virtualenvs\\\\pythoncourse\\\\lib\\\\site-packages\\\\parso\\\\file_io.py'>,\n 'parso.grammar': <module 'parso.grammar' from 'd:\\\\users\\\\cestm\\\\.virtualenvs\\\\pythoncourse\\\\lib\\\\site-packages\\\\parso\\\\grammar.py'>,\n 'parso': <module 'parso' from 'd:\\\\users\\\\cestm\\\\.virtualenvs\\\\pythoncourse\\\\lib\\\\site-packages\\\\parso\\\\__init__.py'>,\n 'jedi.parser_utils': <module 'jedi.parser_utils' from 'd:\\\\users\\\\cestm\\\\.virtualenvs\\\\pythoncourse\\\\lib\\\\site-packages\\\\jedi\\\\parser_utils.py'>,\n 'jedi.debug': <module 'jedi.debug' from 'd:\\\\users\\\\cestm\\\\.virtualenvs\\\\pythoncourse\\\\lib\\\\site-packages\\\\jedi\\\\debug.py'>,\n 'jedi.settings': <module 'jedi.settings' from 'd:\\\\users\\\\cestm\\\\.virtualenvs\\\\pythoncourse\\\\lib\\\\site-packages\\\\jedi\\\\settings.py'>,\n 'jedi.cache': <module 'jedi.cache' from 'd:\\\\users\\\\cestm\\\\.virtualenvs\\\\pythoncourse\\\\lib\\\\site-packages\\\\jedi\\\\cache.py'>,\n 'jedi.file_io': <module 'jedi.file_io' from 'd:\\\\users\\\\cestm\\\\.virtualenvs\\\\pythoncourse\\\\lib\\\\site-packages\\\\jedi\\\\file_io.py'>,\n 'jedi.inference.cache': <module 'jedi.inference.cache' from 'd:\\\\users\\\\cestm\\\\.virtualenvs\\\\pythoncourse\\\\lib\\\\site-packages\\\\jedi\\\\inference\\\\cache.py'>,\n 'jedi.inference.helpers': <module 'jedi.inference.helpers' from 'd:\\\\users\\\\cestm\\\\.virtualenvs\\\\pythoncourse\\\\lib\\\\site-packages\\\\jedi\\\\inference\\\\helpers.py'>,\n 'jedi.inference.utils': <module 'jedi.inference.utils' from 'd:\\\\users\\\\cestm\\\\.virtualenvs\\\\pythoncourse\\\\lib\\\\site-packages\\\\jedi\\\\inference\\\\utils.py'>,\n 'jedi.inference.base_value': <module 'jedi.inference.base_value' from 'd:\\\\users\\\\cestm\\\\.virtualenvs\\\\pythoncourse\\\\lib\\\\site-packages\\\\jedi\\\\inference\\\\base_value.py'>,\n 'jedi.inference.sys_path': <module 'jedi.inference.sys_path' from 'd:\\\\users\\\\cestm\\\\.virtualenvs\\\\pythoncourse\\\\lib\\\\site-packages\\\\jedi\\\\inference\\\\sys_path.py'>,\n 'jedi.inference.recursion': <module 'jedi.inference.recursion' from 'd:\\\\users\\\\cestm\\\\.virtualenvs\\\\pythoncourse\\\\lib\\\\site-packages\\\\jedi\\\\inference\\\\recursion.py'>,\n 'jedi.inference.flow_analysis': <module 'jedi.inference.flow_analysis' from 'd:\\\\users\\\\cestm\\\\.virtualenvs\\\\pythoncourse\\\\lib\\\\site-packages\\\\jedi\\\\inference\\\\flow_analysis.py'>,\n 'jedi.common': <module 'jedi.common' from 'd:\\\\users\\\\cestm\\\\.virtualenvs\\\\pythoncourse\\\\lib\\\\site-packages\\\\jedi\\\\common.py'>,\n 'jedi.inference.lazy_value': <module 'jedi.inference.lazy_value' from 'd:\\\\users\\\\cestm\\\\.virtualenvs\\\\pythoncourse\\\\lib\\\\site-packages\\\\jedi\\\\inference\\\\lazy_value.py'>,\n 'jedi.inference.docstrings': <module 'jedi.inference.docstrings' from 'd:\\\\users\\\\cestm\\\\.virtualenvs\\\\pythoncourse\\\\lib\\\\site-packages\\\\jedi\\\\inference\\\\docstrings.py'>,\n 'jedi.plugins': <module 'jedi.plugins' from 'd:\\\\users\\\\cestm\\\\.virtualenvs\\\\pythoncourse\\\\lib\\\\site-packages\\\\jedi\\\\plugins\\\\__init__.py'>,\n 'jedi.inference.names': <module 'jedi.inference.names' from 'd:\\\\users\\\\cestm\\\\.virtualenvs\\\\pythoncourse\\\\lib\\\\site-packages\\\\jedi\\\\inference\\\\names.py'>,\n 'jedi.inference.filters': <module 'jedi.inference.filters' from 'd:\\\\users\\\\cestm\\\\.virtualenvs\\\\pythoncourse\\\\lib\\\\site-packages\\\\jedi\\\\inference\\\\filters.py'>,\n 'jedi.inference.compiled.getattr_static': <module 'jedi.inference.compiled.getattr_static' from 'd:\\\\users\\\\cestm\\\\.virtualenvs\\\\pythoncourse\\\\lib\\\\site-packages\\\\jedi\\\\inference\\\\compiled\\\\getattr_static.py'>,\n 'jedi.inference.compiled.access': <module 'jedi.inference.compiled.access' from 'd:\\\\users\\\\cestm\\\\.virtualenvs\\\\pythoncourse\\\\lib\\\\site-packages\\\\jedi\\\\inference\\\\compiled\\\\access.py'>,\n 'jedi.inference.signature': <module 'jedi.inference.signature' from 'd:\\\\users\\\\cestm\\\\.virtualenvs\\\\pythoncourse\\\\lib\\\\site-packages\\\\jedi\\\\inference\\\\signature.py'>,\n 'jedi.inference.context': <module 'jedi.inference.context' from 'd:\\\\users\\\\cestm\\\\.virtualenvs\\\\pythoncourse\\\\lib\\\\site-packages\\\\jedi\\\\inference\\\\context.py'>,\n 'jedi.inference.compiled.value': <module 'jedi.inference.compiled.value' from 'd:\\\\users\\\\cestm\\\\.virtualenvs\\\\pythoncourse\\\\lib\\\\site-packages\\\\jedi\\\\inference\\\\compiled\\\\value.py'>,\n 'jedi.inference.compiled': <module 'jedi.inference.compiled' from 'd:\\\\users\\\\cestm\\\\.virtualenvs\\\\pythoncourse\\\\lib\\\\site-packages\\\\jedi\\\\inference\\\\compiled\\\\__init__.py'>,\n 'jedi.inference.analysis': <module 'jedi.inference.analysis' from 'd:\\\\users\\\\cestm\\\\.virtualenvs\\\\pythoncourse\\\\lib\\\\site-packages\\\\jedi\\\\inference\\\\analysis.py'>,\n 'jedi.inference.gradual': <module 'jedi.inference.gradual' from 'd:\\\\users\\\\cestm\\\\.virtualenvs\\\\pythoncourse\\\\lib\\\\site-packages\\\\jedi\\\\inference\\\\gradual\\\\__init__.py'>,\n 'jedi.inference.value.module': <module 'jedi.inference.value.module' from 'd:\\\\users\\\\cestm\\\\.virtualenvs\\\\pythoncourse\\\\lib\\\\site-packages\\\\jedi\\\\inference\\\\value\\\\module.py'>,\n 'jedi.inference.value.dynamic_arrays': <module 'jedi.inference.value.dynamic_arrays' from 'd:\\\\users\\\\cestm\\\\.virtualenvs\\\\pythoncourse\\\\lib\\\\site-packages\\\\jedi\\\\inference\\\\value\\\\dynamic_arrays.py'>,\n 'jedi.inference.value.iterable': <module 'jedi.inference.value.iterable' from 'd:\\\\users\\\\cestm\\\\.virtualenvs\\\\pythoncourse\\\\lib\\\\site-packages\\\\jedi\\\\inference\\\\value\\\\iterable.py'>,\n 'jedi.inference.arguments': <module 'jedi.inference.arguments' from 'd:\\\\users\\\\cestm\\\\.virtualenvs\\\\pythoncourse\\\\lib\\\\site-packages\\\\jedi\\\\inference\\\\arguments.py'>,\n 'jedi.inference.parser_cache': <module 'jedi.inference.parser_cache' from 'd:\\\\users\\\\cestm\\\\.virtualenvs\\\\pythoncourse\\\\lib\\\\site-packages\\\\jedi\\\\inference\\\\parser_cache.py'>,\n 'jedi.inference.gradual.generics': <module 'jedi.inference.gradual.generics' from 'd:\\\\users\\\\cestm\\\\.virtualenvs\\\\pythoncourse\\\\lib\\\\site-packages\\\\jedi\\\\inference\\\\gradual\\\\generics.py'>,\n 'jedi.inference.value.function': <module 'jedi.inference.value.function' from 'd:\\\\users\\\\cestm\\\\.virtualenvs\\\\pythoncourse\\\\lib\\\\site-packages\\\\jedi\\\\inference\\\\value\\\\function.py'>,\n 'jedi.inference.value.klass': <module 'jedi.inference.value.klass' from 'd:\\\\users\\\\cestm\\\\.virtualenvs\\\\pythoncourse\\\\lib\\\\site-packages\\\\jedi\\\\inference\\\\value\\\\klass.py'>,\n 'jedi.inference.value.instance': <module 'jedi.inference.value.instance' from 'd:\\\\users\\\\cestm\\\\.virtualenvs\\\\pythoncourse\\\\lib\\\\site-packages\\\\jedi\\\\inference\\\\value\\\\instance.py'>,\n 'jedi.inference.value': <module 'jedi.inference.value' from 'd:\\\\users\\\\cestm\\\\.virtualenvs\\\\pythoncourse\\\\lib\\\\site-packages\\\\jedi\\\\inference\\\\value\\\\__init__.py'>,\n 'jedi.inference.gradual.base': <module 'jedi.inference.gradual.base' from 'd:\\\\users\\\\cestm\\\\.virtualenvs\\\\pythoncourse\\\\lib\\\\site-packages\\\\jedi\\\\inference\\\\gradual\\\\base.py'>,\n 'jedi.inference.gradual.type_var': <module 'jedi.inference.gradual.type_var' from 'd:\\\\users\\\\cestm\\\\.virtualenvs\\\\pythoncourse\\\\lib\\\\site-packages\\\\jedi\\\\inference\\\\gradual\\\\type_var.py'>,\n 'jedi.inference.gradual.typing': <module 'jedi.inference.gradual.typing' from 'd:\\\\users\\\\cestm\\\\.virtualenvs\\\\pythoncourse\\\\lib\\\\site-packages\\\\jedi\\\\inference\\\\gradual\\\\typing.py'>,\n 'jedi.inference.gradual.stub_value': <module 'jedi.inference.gradual.stub_value' from 'd:\\\\users\\\\cestm\\\\.virtualenvs\\\\pythoncourse\\\\lib\\\\site-packages\\\\jedi\\\\inference\\\\gradual\\\\stub_value.py'>,\n 'jedi.inference.gradual.typeshed': <module 'jedi.inference.gradual.typeshed' from 'd:\\\\users\\\\cestm\\\\.virtualenvs\\\\pythoncourse\\\\lib\\\\site-packages\\\\jedi\\\\inference\\\\gradual\\\\typeshed.py'>,\n 'jedi._compatibility': <module 'jedi._compatibility' from 'd:\\\\users\\\\cestm\\\\.virtualenvs\\\\pythoncourse\\\\lib\\\\site-packages\\\\jedi\\\\_compatibility.py'>,\n 'jedi.inference.compiled.subprocess.functions': <module 'jedi.inference.compiled.subprocess.functions' from 'd:\\\\users\\\\cestm\\\\.virtualenvs\\\\pythoncourse\\\\lib\\\\site-packages\\\\jedi\\\\inference\\\\compiled\\\\subprocess\\\\functions.py'>,\n 'jedi.api.exceptions': <module 'jedi.api.exceptions' from 'd:\\\\users\\\\cestm\\\\.virtualenvs\\\\pythoncourse\\\\lib\\\\site-packages\\\\jedi\\\\api\\\\exceptions.py'>,\n 'jedi.inference.compiled.subprocess': <module 'jedi.inference.compiled.subprocess' from 'd:\\\\users\\\\cestm\\\\.virtualenvs\\\\pythoncourse\\\\lib\\\\site-packages\\\\jedi\\\\inference\\\\compiled\\\\subprocess\\\\__init__.py'>,\n 'jedi.inference.imports': <module 'jedi.inference.imports' from 'd:\\\\users\\\\cestm\\\\.virtualenvs\\\\pythoncourse\\\\lib\\\\site-packages\\\\jedi\\\\inference\\\\imports.py'>,\n 'jedi.inference.param': <module 'jedi.inference.param' from 'd:\\\\users\\\\cestm\\\\.virtualenvs\\\\pythoncourse\\\\lib\\\\site-packages\\\\jedi\\\\inference\\\\param.py'>,\n 'jedi.inference.gradual.annotation': <module 'jedi.inference.gradual.annotation' from 'd:\\\\users\\\\cestm\\\\.virtualenvs\\\\pythoncourse\\\\lib\\\\site-packages\\\\jedi\\\\inference\\\\gradual\\\\annotation.py'>,\n 'jedi.inference.value.decorator': <module 'jedi.inference.value.decorator' from 'd:\\\\users\\\\cestm\\\\.virtualenvs\\\\pythoncourse\\\\lib\\\\site-packages\\\\jedi\\\\inference\\\\value\\\\decorator.py'>,\n 'jedi.inference.syntax_tree': <module 'jedi.inference.syntax_tree' from 'd:\\\\users\\\\cestm\\\\.virtualenvs\\\\pythoncourse\\\\lib\\\\site-packages\\\\jedi\\\\inference\\\\syntax_tree.py'>,\n 'jedi.inference': <module 'jedi.inference' from 'd:\\\\users\\\\cestm\\\\.virtualenvs\\\\pythoncourse\\\\lib\\\\site-packages\\\\jedi\\\\inference\\\\__init__.py'>,\n 'jedi.inference.gradual.conversion': <module 'jedi.inference.gradual.conversion' from 'd:\\\\users\\\\cestm\\\\.virtualenvs\\\\pythoncourse\\\\lib\\\\site-packages\\\\jedi\\\\inference\\\\gradual\\\\conversion.py'>,\n 'jedi.inference.compiled.mixed': <module 'jedi.inference.compiled.mixed' from 'd:\\\\users\\\\cestm\\\\.virtualenvs\\\\pythoncourse\\\\lib\\\\site-packages\\\\jedi\\\\inference\\\\compiled\\\\mixed.py'>,\n 'pydoc_data': <module 'pydoc_data' from 'C:\\\\Python39\\\\lib\\\\pydoc_data\\\\__init__.py'>,\n 'pydoc_data.topics': <module 'pydoc_data.topics' from 'C:\\\\Python39\\\\lib\\\\pydoc_data\\\\topics.py'>,\n 'jedi.api.keywords': <module 'jedi.api.keywords' from 'd:\\\\users\\\\cestm\\\\.virtualenvs\\\\pythoncourse\\\\lib\\\\site-packages\\\\jedi\\\\api\\\\keywords.py'>,\n 'jedi.api.completion_cache': <module 'jedi.api.completion_cache' from 'd:\\\\users\\\\cestm\\\\.virtualenvs\\\\pythoncourse\\\\lib\\\\site-packages\\\\jedi\\\\api\\\\completion_cache.py'>,\n 'jedi.api.helpers': <module 'jedi.api.helpers' from 'd:\\\\users\\\\cestm\\\\.virtualenvs\\\\pythoncourse\\\\lib\\\\site-packages\\\\jedi\\\\api\\\\helpers.py'>,\n 'jedi.api.classes': <module 'jedi.api.classes' from 'd:\\\\users\\\\cestm\\\\.virtualenvs\\\\pythoncourse\\\\lib\\\\site-packages\\\\jedi\\\\api\\\\classes.py'>,\n 'jedi.api.interpreter': <module 'jedi.api.interpreter' from 'd:\\\\users\\\\cestm\\\\.virtualenvs\\\\pythoncourse\\\\lib\\\\site-packages\\\\jedi\\\\api\\\\interpreter.py'>,\n 'jedi.api.strings': <module 'jedi.api.strings' from 'd:\\\\users\\\\cestm\\\\.virtualenvs\\\\pythoncourse\\\\lib\\\\site-packages\\\\jedi\\\\api\\\\strings.py'>,\n 'jedi.api.file_name': <module 'jedi.api.file_name' from 'd:\\\\users\\\\cestm\\\\.virtualenvs\\\\pythoncourse\\\\lib\\\\site-packages\\\\jedi\\\\api\\\\file_name.py'>,\n 'jedi.inference.docstring_utils': <module 'jedi.inference.docstring_utils' from 'd:\\\\users\\\\cestm\\\\.virtualenvs\\\\pythoncourse\\\\lib\\\\site-packages\\\\jedi\\\\inference\\\\docstring_utils.py'>,\n 'jedi.api.completion': <module 'jedi.api.completion' from 'd:\\\\users\\\\cestm\\\\.virtualenvs\\\\pythoncourse\\\\lib\\\\site-packages\\\\jedi\\\\api\\\\completion.py'>,\n 'filecmp': <module 'filecmp' from 'C:\\\\Python39\\\\lib\\\\filecmp.py'>,\n 'jedi.api.environment': <module 'jedi.api.environment' from 'd:\\\\users\\\\cestm\\\\.virtualenvs\\\\pythoncourse\\\\lib\\\\site-packages\\\\jedi\\\\api\\\\environment.py'>,\n 'jedi.inference.references': <module 'jedi.inference.references' from 'd:\\\\users\\\\cestm\\\\.virtualenvs\\\\pythoncourse\\\\lib\\\\site-packages\\\\jedi\\\\inference\\\\references.py'>,\n 'jedi.api.project': <module 'jedi.api.project' from 'd:\\\\users\\\\cestm\\\\.virtualenvs\\\\pythoncourse\\\\lib\\\\site-packages\\\\jedi\\\\api\\\\project.py'>,\n 'jedi.api.errors': <module 'jedi.api.errors' from 'd:\\\\users\\\\cestm\\\\.virtualenvs\\\\pythoncourse\\\\lib\\\\site-packages\\\\jedi\\\\api\\\\errors.py'>,\n 'jedi.api.refactoring': <module 'jedi.api.refactoring' from 'd:\\\\users\\\\cestm\\\\.virtualenvs\\\\pythoncourse\\\\lib\\\\site-packages\\\\jedi\\\\api\\\\refactoring\\\\__init__.py'>,\n 'jedi.api.refactoring.extract': <module 'jedi.api.refactoring.extract' from 'd:\\\\users\\\\cestm\\\\.virtualenvs\\\\pythoncourse\\\\lib\\\\site-packages\\\\jedi\\\\api\\\\refactoring\\\\extract.py'>,\n 'jedi.inference.gradual.utils': <module 'jedi.inference.gradual.utils' from 'd:\\\\users\\\\cestm\\\\.virtualenvs\\\\pythoncourse\\\\lib\\\\site-packages\\\\jedi\\\\inference\\\\gradual\\\\utils.py'>,\n 'jedi.api': <module 'jedi.api' from 'd:\\\\users\\\\cestm\\\\.virtualenvs\\\\pythoncourse\\\\lib\\\\site-packages\\\\jedi\\\\api\\\\__init__.py'>,\n 'jedi.plugins.stdlib': <module 'jedi.plugins.stdlib' from 'd:\\\\users\\\\cestm\\\\.virtualenvs\\\\pythoncourse\\\\lib\\\\site-packages\\\\jedi\\\\plugins\\\\stdlib.py'>,\n 'jedi.plugins.flask': <module 'jedi.plugins.flask' from 'd:\\\\users\\\\cestm\\\\.virtualenvs\\\\pythoncourse\\\\lib\\\\site-packages\\\\jedi\\\\plugins\\\\flask.py'>,\n 'jedi.plugins.pytest': <module 'jedi.plugins.pytest' from 'd:\\\\users\\\\cestm\\\\.virtualenvs\\\\pythoncourse\\\\lib\\\\site-packages\\\\jedi\\\\plugins\\\\pytest.py'>,\n 'jedi.plugins.django': <module 'jedi.plugins.django' from 'd:\\\\users\\\\cestm\\\\.virtualenvs\\\\pythoncourse\\\\lib\\\\site-packages\\\\jedi\\\\plugins\\\\django.py'>,\n 'jedi.plugins.registry': <module 'jedi.plugins.registry' from 'd:\\\\users\\\\cestm\\\\.virtualenvs\\\\pythoncourse\\\\lib\\\\site-packages\\\\jedi\\\\plugins\\\\registry.py'>,\n 'jedi': <module 'jedi' from 'd:\\\\users\\\\cestm\\\\.virtualenvs\\\\pythoncourse\\\\lib\\\\site-packages\\\\jedi\\\\__init__.py'>,\n 'IPython.core.completer': <module 'IPython.core.completer' from 'd:\\\\users\\\\cestm\\\\.virtualenvs\\\\pythoncourse\\\\lib\\\\site-packages\\\\IPython\\\\core\\\\completer.py'>,\n 'IPython.terminal.ptutils': <module 'IPython.terminal.ptutils' from 'd:\\\\users\\\\cestm\\\\.virtualenvs\\\\pythoncourse\\\\lib\\\\site-packages\\\\IPython\\\\terminal\\\\ptutils.py'>,\n 'IPython.lib.clipboard': <module 'IPython.lib.clipboard' from 'd:\\\\users\\\\cestm\\\\.virtualenvs\\\\pythoncourse\\\\lib\\\\site-packages\\\\IPython\\\\lib\\\\clipboard.py'>,\n 'IPython.terminal.shortcuts': <module 'IPython.terminal.shortcuts' from 'd:\\\\users\\\\cestm\\\\.virtualenvs\\\\pythoncourse\\\\lib\\\\site-packages\\\\IPython\\\\terminal\\\\shortcuts.py'>,\n 'concurrent.futures.thread': <module 'concurrent.futures.thread' from 'C:\\\\Python39\\\\lib\\\\concurrent\\\\futures\\\\thread.py'>,\n 'IPython.terminal.debugger': <module 'IPython.terminal.debugger' from 'd:\\\\users\\\\cestm\\\\.virtualenvs\\\\pythoncourse\\\\lib\\\\site-packages\\\\IPython\\\\terminal\\\\debugger.py'>,\n 'IPython.terminal.magics': <module 'IPython.terminal.magics' from 'd:\\\\users\\\\cestm\\\\.virtualenvs\\\\pythoncourse\\\\lib\\\\site-packages\\\\IPython\\\\terminal\\\\magics.py'>,\n 'IPython.terminal.pt_inputhooks': <module 'IPython.terminal.pt_inputhooks' from 'd:\\\\users\\\\cestm\\\\.virtualenvs\\\\pythoncourse\\\\lib\\\\site-packages\\\\IPython\\\\terminal\\\\pt_inputhooks\\\\__init__.py'>,\n 'IPython.terminal.prompts': <module 'IPython.terminal.prompts' from 'd:\\\\users\\\\cestm\\\\.virtualenvs\\\\pythoncourse\\\\lib\\\\site-packages\\\\IPython\\\\terminal\\\\prompts.py'>,\n 'IPython.terminal.interactiveshell': <module 'IPython.terminal.interactiveshell' from 'd:\\\\users\\\\cestm\\\\.virtualenvs\\\\pythoncourse\\\\lib\\\\site-packages\\\\IPython\\\\terminal\\\\interactiveshell.py'>,\n 'IPython.core.magics.auto': <module 'IPython.core.magics.auto' from 'd:\\\\users\\\\cestm\\\\.virtualenvs\\\\pythoncourse\\\\lib\\\\site-packages\\\\IPython\\\\core\\\\magics\\\\auto.py'>,\n 'IPython.core.magics.basic': <module 'IPython.core.magics.basic' from 'd:\\\\users\\\\cestm\\\\.virtualenvs\\\\pythoncourse\\\\lib\\\\site-packages\\\\IPython\\\\core\\\\magics\\\\basic.py'>,\n 'email': <module 'email' from 'C:\\\\Python39\\\\lib\\\\email\\\\__init__.py'>,\n 'http': <module 'http' from 'C:\\\\Python39\\\\lib\\\\http\\\\__init__.py'>,\n 'email.errors': <module 'email.errors' from 'C:\\\\Python39\\\\lib\\\\email\\\\errors.py'>,\n 'email.quoprimime': <module 'email.quoprimime' from 'C:\\\\Python39\\\\lib\\\\email\\\\quoprimime.py'>,\n 'email.base64mime': <module 'email.base64mime' from 'C:\\\\Python39\\\\lib\\\\email\\\\base64mime.py'>,\n 'quopri': <module 'quopri' from 'C:\\\\Python39\\\\lib\\\\quopri.py'>,\n 'email.encoders': <module 'email.encoders' from 'C:\\\\Python39\\\\lib\\\\email\\\\encoders.py'>,\n 'email.charset': <module 'email.charset' from 'C:\\\\Python39\\\\lib\\\\email\\\\charset.py'>,\n 'email.header': <module 'email.header' from 'C:\\\\Python39\\\\lib\\\\email\\\\header.py'>,\n 'email._parseaddr': <module 'email._parseaddr' from 'C:\\\\Python39\\\\lib\\\\email\\\\_parseaddr.py'>,\n 'email.utils': <module 'email.utils' from 'C:\\\\Python39\\\\lib\\\\email\\\\utils.py'>,\n 'email._policybase': <module 'email._policybase' from 'C:\\\\Python39\\\\lib\\\\email\\\\_policybase.py'>,\n 'email.feedparser': <module 'email.feedparser' from 'C:\\\\Python39\\\\lib\\\\email\\\\feedparser.py'>,\n 'email.parser': <module 'email.parser' from 'C:\\\\Python39\\\\lib\\\\email\\\\parser.py'>,\n 'uu': <module 'uu' from 'C:\\\\Python39\\\\lib\\\\uu.py'>,\n 'email._encoded_words': <module 'email._encoded_words' from 'C:\\\\Python39\\\\lib\\\\email\\\\_encoded_words.py'>,\n 'email.iterators': <module 'email.iterators' from 'C:\\\\Python39\\\\lib\\\\email\\\\iterators.py'>,\n 'email.message': <module 'email.message' from 'C:\\\\Python39\\\\lib\\\\email\\\\message.py'>,\n 'http.client': <module 'http.client' from 'C:\\\\Python39\\\\lib\\\\http\\\\client.py'>,\n 'urllib.response': <module 'urllib.response' from 'C:\\\\Python39\\\\lib\\\\urllib\\\\response.py'>,\n 'urllib.error': <module 'urllib.error' from 'C:\\\\Python39\\\\lib\\\\urllib\\\\error.py'>,\n 'nturl2path': <module 'nturl2path' from 'C:\\\\Python39\\\\lib\\\\nturl2path.py'>,\n 'urllib.request': <module 'urllib.request' from 'C:\\\\Python39\\\\lib\\\\urllib\\\\request.py'>,\n 'IPython.utils.contexts': <module 'IPython.utils.contexts' from 'd:\\\\users\\\\cestm\\\\.virtualenvs\\\\pythoncourse\\\\lib\\\\site-packages\\\\IPython\\\\utils\\\\contexts.py'>,\n 'IPython.core.magics.code': <module 'IPython.core.magics.code' from 'd:\\\\users\\\\cestm\\\\.virtualenvs\\\\pythoncourse\\\\lib\\\\site-packages\\\\IPython\\\\core\\\\magics\\\\code.py'>,\n 'IPython.core.magics.config': <module 'IPython.core.magics.config' from 'd:\\\\users\\\\cestm\\\\.virtualenvs\\\\pythoncourse\\\\lib\\\\site-packages\\\\IPython\\\\core\\\\magics\\\\config.py'>,\n 'IPython.core.magics.display': <module 'IPython.core.magics.display' from 'd:\\\\users\\\\cestm\\\\.virtualenvs\\\\pythoncourse\\\\lib\\\\site-packages\\\\IPython\\\\core\\\\magics\\\\display.py'>,\n '_lsprof': <module '_lsprof' (built-in)>,\n 'profile': <module 'profile' from 'C:\\\\Python39\\\\lib\\\\profile.py'>,\n 'cProfile': <module 'cProfile' from 'C:\\\\Python39\\\\lib\\\\cProfile.py'>,\n 'dataclasses': <module 'dataclasses' from 'C:\\\\Python39\\\\lib\\\\dataclasses.py'>,\n 'pstats': <module 'pstats' from 'C:\\\\Python39\\\\lib\\\\pstats.py'>,\n 'timeit': <module 'timeit' from 'C:\\\\Python39\\\\lib\\\\timeit.py'>,\n 'IPython.utils.module_paths': <module 'IPython.utils.module_paths' from 'd:\\\\users\\\\cestm\\\\.virtualenvs\\\\pythoncourse\\\\lib\\\\site-packages\\\\IPython\\\\utils\\\\module_paths.py'>,\n 'IPython.utils.timing': <module 'IPython.utils.timing' from 'd:\\\\users\\\\cestm\\\\.virtualenvs\\\\pythoncourse\\\\lib\\\\site-packages\\\\IPython\\\\utils\\\\timing.py'>,\n 'IPython.core.magics.execution': <module 'IPython.core.magics.execution' from 'd:\\\\users\\\\cestm\\\\.virtualenvs\\\\pythoncourse\\\\lib\\\\site-packages\\\\IPython\\\\core\\\\magics\\\\execution.py'>,\n 'IPython.core.magics.extension': <module 'IPython.core.magics.extension' from 'd:\\\\users\\\\cestm\\\\.virtualenvs\\\\pythoncourse\\\\lib\\\\site-packages\\\\IPython\\\\core\\\\magics\\\\extension.py'>,\n 'IPython.core.magics.history': <module 'IPython.core.magics.history' from 'd:\\\\users\\\\cestm\\\\.virtualenvs\\\\pythoncourse\\\\lib\\\\site-packages\\\\IPython\\\\core\\\\magics\\\\history.py'>,\n 'IPython.core.magics.logging': <module 'IPython.core.magics.logging' from 'd:\\\\users\\\\cestm\\\\.virtualenvs\\\\pythoncourse\\\\lib\\\\site-packages\\\\IPython\\\\core\\\\magics\\\\logging.py'>,\n 'IPython.core.magics.namespace': <module 'IPython.core.magics.namespace' from 'd:\\\\users\\\\cestm\\\\.virtualenvs\\\\pythoncourse\\\\lib\\\\site-packages\\\\IPython\\\\core\\\\magics\\\\namespace.py'>,\n 'IPython.core.magics.osm': <module 'IPython.core.magics.osm' from 'd:\\\\users\\\\cestm\\\\.virtualenvs\\\\pythoncourse\\\\lib\\\\site-packages\\\\IPython\\\\core\\\\magics\\\\osm.py'>,\n 'IPython.core.magics.packaging': <module 'IPython.core.magics.packaging' from 'd:\\\\users\\\\cestm\\\\.virtualenvs\\\\pythoncourse\\\\lib\\\\site-packages\\\\IPython\\\\core\\\\magics\\\\packaging.py'>,\n 'IPython.core.pylabtools': <module 'IPython.core.pylabtools' from 'd:\\\\users\\\\cestm\\\\.virtualenvs\\\\pythoncourse\\\\lib\\\\site-packages\\\\IPython\\\\core\\\\pylabtools.py'>,\n 'IPython.core.magics.pylab': <module 'IPython.core.magics.pylab' from 'd:\\\\users\\\\cestm\\\\.virtualenvs\\\\pythoncourse\\\\lib\\\\site-packages\\\\IPython\\\\core\\\\magics\\\\pylab.py'>,\n 'IPython.core.magics.script': <module 'IPython.core.magics.script' from 'd:\\\\users\\\\cestm\\\\.virtualenvs\\\\pythoncourse\\\\lib\\\\site-packages\\\\IPython\\\\core\\\\magics\\\\script.py'>,\n 'IPython.core.magics': <module 'IPython.core.magics' from 'd:\\\\users\\\\cestm\\\\.virtualenvs\\\\pythoncourse\\\\lib\\\\site-packages\\\\IPython\\\\core\\\\magics\\\\__init__.py'>,\n 'IPython.core.shellapp': <module 'IPython.core.shellapp' from 'd:\\\\users\\\\cestm\\\\.virtualenvs\\\\pythoncourse\\\\lib\\\\site-packages\\\\IPython\\\\core\\\\shellapp.py'>,\n 'IPython.extensions': <module 'IPython.extensions' from 'd:\\\\users\\\\cestm\\\\.virtualenvs\\\\pythoncourse\\\\lib\\\\site-packages\\\\IPython\\\\extensions\\\\__init__.py'>,\n 'IPython.extensions.storemagic': <module 'IPython.extensions.storemagic' from 'd:\\\\users\\\\cestm\\\\.virtualenvs\\\\pythoncourse\\\\lib\\\\site-packages\\\\IPython\\\\extensions\\\\storemagic.py'>,\n 'IPython.terminal.ipapp': <module 'IPython.terminal.ipapp' from 'd:\\\\users\\\\cestm\\\\.virtualenvs\\\\pythoncourse\\\\lib\\\\site-packages\\\\IPython\\\\terminal\\\\ipapp.py'>,\n 'IPython.terminal.embed': <module 'IPython.terminal.embed' from 'd:\\\\users\\\\cestm\\\\.virtualenvs\\\\pythoncourse\\\\lib\\\\site-packages\\\\IPython\\\\terminal\\\\embed.py'>,\n 'IPython.utils.frame': <module 'IPython.utils.frame' from 'd:\\\\users\\\\cestm\\\\.virtualenvs\\\\pythoncourse\\\\lib\\\\site-packages\\\\IPython\\\\utils\\\\frame.py'>,\n 'IPython': <module 'IPython' from 'd:\\\\users\\\\cestm\\\\.virtualenvs\\\\pythoncourse\\\\lib\\\\site-packages\\\\IPython\\\\__init__.py'>,\n 'imp': <module 'imp' from 'C:\\\\Python39\\\\lib\\\\imp.py'>,\n 'ipykernel.iostream': <module 'ipykernel.iostream' from 'd:\\\\users\\\\cestm\\\\.virtualenvs\\\\pythoncourse\\\\lib\\\\site-packages\\\\ipykernel\\\\iostream.py'>,\n 'ipykernel.control': <module 'ipykernel.control' from 'd:\\\\users\\\\cestm\\\\.virtualenvs\\\\pythoncourse\\\\lib\\\\site-packages\\\\ipykernel\\\\control.py'>,\n 'ipykernel.heartbeat': <module 'ipykernel.heartbeat' from 'd:\\\\users\\\\cestm\\\\.virtualenvs\\\\pythoncourse\\\\lib\\\\site-packages\\\\ipykernel\\\\heartbeat.py'>,\n 'IPython.utils.tokenutil': <module 'IPython.utils.tokenutil' from 'd:\\\\users\\\\cestm\\\\.virtualenvs\\\\pythoncourse\\\\lib\\\\site-packages\\\\IPython\\\\utils\\\\tokenutil.py'>,\n 'psutil._common': <module 'psutil._common' from 'd:\\\\users\\\\cestm\\\\.virtualenvs\\\\pythoncourse\\\\lib\\\\site-packages\\\\psutil\\\\_common.py'>,\n 'psutil._compat': <module 'psutil._compat' from 'd:\\\\users\\\\cestm\\\\.virtualenvs\\\\pythoncourse\\\\lib\\\\site-packages\\\\psutil\\\\_compat.py'>,\n 'psutil._psutil_windows': <module 'psutil._psutil_windows' from 'd:\\\\users\\\\cestm\\\\.virtualenvs\\\\pythoncourse\\\\lib\\\\site-packages\\\\psutil\\\\_psutil_windows.cp39-win_amd64.pyd'>,\n 'psutil._pswindows': <module 'psutil._pswindows' from 'd:\\\\users\\\\cestm\\\\.virtualenvs\\\\pythoncourse\\\\lib\\\\site-packages\\\\psutil\\\\_pswindows.py'>,\n 'psutil': <module 'psutil' from 'd:\\\\users\\\\cestm\\\\.virtualenvs\\\\pythoncourse\\\\lib\\\\site-packages\\\\psutil\\\\__init__.py'>,\n 'tornado.locks': <module 'tornado.locks' from 'd:\\\\users\\\\cestm\\\\.virtualenvs\\\\pythoncourse\\\\lib\\\\site-packages\\\\tornado\\\\locks.py'>,\n 'tornado.queues': <module 'tornado.queues' from 'd:\\\\users\\\\cestm\\\\.virtualenvs\\\\pythoncourse\\\\lib\\\\site-packages\\\\tornado\\\\queues.py'>,\n 'ipykernel.jsonutil': <module 'ipykernel.jsonutil' from 'd:\\\\users\\\\cestm\\\\.virtualenvs\\\\pythoncourse\\\\lib\\\\site-packages\\\\ipykernel\\\\jsonutil.py'>,\n 'ipykernel.kernelbase': <module 'ipykernel.kernelbase' from 'd:\\\\users\\\\cestm\\\\.virtualenvs\\\\pythoncourse\\\\lib\\\\site-packages\\\\ipykernel\\\\kernelbase.py'>,\n 'ipykernel.comm.comm': <module 'ipykernel.comm.comm' from 'd:\\\\users\\\\cestm\\\\.virtualenvs\\\\pythoncourse\\\\lib\\\\site-packages\\\\ipykernel\\\\comm\\\\comm.py'>,\n 'ipykernel.comm.manager': <module 'ipykernel.comm.manager' from 'd:\\\\users\\\\cestm\\\\.virtualenvs\\\\pythoncourse\\\\lib\\\\site-packages\\\\ipykernel\\\\comm\\\\manager.py'>,\n 'ipykernel.comm': <module 'ipykernel.comm' from 'd:\\\\users\\\\cestm\\\\.virtualenvs\\\\pythoncourse\\\\lib\\\\site-packages\\\\ipykernel\\\\comm\\\\__init__.py'>,\n 'IPython.core.payloadpage': <module 'IPython.core.payloadpage' from 'd:\\\\users\\\\cestm\\\\.virtualenvs\\\\pythoncourse\\\\lib\\\\site-packages\\\\IPython\\\\core\\\\payloadpage.py'>,\n 'ipykernel.displayhook': <module 'ipykernel.displayhook' from 'd:\\\\users\\\\cestm\\\\.virtualenvs\\\\pythoncourse\\\\lib\\\\site-packages\\\\ipykernel\\\\displayhook.py'>,\n 'ipykernel.zmqshell': <module 'ipykernel.zmqshell' from 'd:\\\\users\\\\cestm\\\\.virtualenvs\\\\pythoncourse\\\\lib\\\\site-packages\\\\ipykernel\\\\zmqshell.py'>,\n 'distutils': <module 'distutils' from 'C:\\\\Python39\\\\lib\\\\distutils\\\\__init__.py'>,\n 'distutils.version': <module 'distutils.version' from 'C:\\\\Python39\\\\lib\\\\distutils\\\\version.py'>,\n 'ipykernel.eventloops': <module 'ipykernel.eventloops' from 'd:\\\\users\\\\cestm\\\\.virtualenvs\\\\pythoncourse\\\\lib\\\\site-packages\\\\ipykernel\\\\eventloops.py'>,\n 'ipykernel.compiler': <module 'ipykernel.compiler' from 'd:\\\\users\\\\cestm\\\\.virtualenvs\\\\pythoncourse\\\\lib\\\\site-packages\\\\ipykernel\\\\compiler.py'>,\n 'debugpy._version': <module 'debugpy._version' from 'd:\\\\users\\\\cestm\\\\.virtualenvs\\\\pythoncourse\\\\lib\\\\site-packages\\\\debugpy\\\\_version.py'>,\n 'debugpy.common': <module 'debugpy.common' from 'd:\\\\users\\\\cestm\\\\.virtualenvs\\\\pythoncourse\\\\lib\\\\site-packages\\\\debugpy\\\\common\\\\__init__.py'>,\n 'debugpy.common.json': <module 'debugpy.common.json' from 'd:\\\\users\\\\cestm\\\\.virtualenvs\\\\pythoncourse\\\\lib\\\\site-packages\\\\debugpy\\\\common\\\\json.py'>,\n 'debugpy.common.fmt': <module 'debugpy.common.fmt' from 'd:\\\\users\\\\cestm\\\\.virtualenvs\\\\pythoncourse\\\\lib\\\\site-packages\\\\debugpy\\\\common\\\\fmt.py'>,\n 'debugpy.common.compat': <module 'debugpy.common.compat' from 'd:\\\\users\\\\cestm\\\\.virtualenvs\\\\pythoncourse\\\\lib\\\\site-packages\\\\debugpy\\\\common\\\\compat.py'>,\n 'debugpy': <module 'debugpy' from 'd:\\\\users\\\\cestm\\\\.virtualenvs\\\\pythoncourse\\\\lib\\\\site-packages\\\\debugpy\\\\__init__.py'>,\n 'debugpy._vendored._util': <module 'debugpy._vendored._util' from 'd:\\\\users\\\\cestm\\\\.virtualenvs\\\\pythoncourse\\\\lib\\\\site-packages\\\\debugpy\\\\_vendored\\\\_util.py'>,\n 'debugpy._vendored': <module 'debugpy._vendored' from 'd:\\\\users\\\\cestm\\\\.virtualenvs\\\\pythoncourse\\\\lib\\\\site-packages\\\\debugpy\\\\_vendored\\\\__init__.py'>,\n 'encodings.ascii': <module 'encodings.ascii' from 'C:\\\\Python39\\\\lib\\\\encodings\\\\ascii.py'>,\n 'stringprep': <module 'stringprep' from 'C:\\\\Python39\\\\lib\\\\stringprep.py'>,\n 'encodings.idna': <module 'encodings.idna' from 'C:\\\\Python39\\\\lib\\\\encodings\\\\idna.py'>,\n 'xmlrpc': <module 'xmlrpc' from 'C:\\\\Python39\\\\lib\\\\xmlrpc\\\\__init__.py'>,\n 'xml.parsers': <module 'xml.parsers' from 'C:\\\\Python39\\\\lib\\\\xml\\\\parsers\\\\__init__.py'>,\n 'pyexpat.errors': <module 'pyexpat.errors'>,\n 'pyexpat.model': <module 'pyexpat.model'>,\n 'pyexpat': <module 'pyexpat' from 'C:\\\\Python39\\\\DLLs\\\\pyexpat.pyd'>,\n 'xml.parsers.expat.model': <module 'pyexpat.model'>,\n 'xml.parsers.expat.errors': <module 'pyexpat.errors'>,\n 'xml.parsers.expat': <module 'xml.parsers.expat' from 'C:\\\\Python39\\\\lib\\\\xml\\\\parsers\\\\expat.py'>,\n 'gzip': <module 'gzip' from 'C:\\\\Python39\\\\lib\\\\gzip.py'>,\n 'xmlrpc.client': <module 'xmlrpc.client' from 'C:\\\\Python39\\\\lib\\\\xmlrpc\\\\client.py'>,\n 'socketserver': <module 'socketserver' from 'C:\\\\Python39\\\\lib\\\\socketserver.py'>,\n 'http.server': <module 'http.server' from 'C:\\\\Python39\\\\lib\\\\http\\\\server.py'>,\n 'xmlrpc.server': <module 'xmlrpc.server' from 'C:\\\\Python39\\\\lib\\\\xmlrpc\\\\server.py'>,\n 'plistlib': <module 'plistlib' from 'C:\\\\Python39\\\\lib\\\\plistlib.py'>,\n 'pkg_resources.extern': <module 'pkg_resources.extern' from 'd:\\\\users\\\\cestm\\\\.virtualenvs\\\\pythoncourse\\\\lib\\\\site-packages\\\\pkg_resources\\\\extern\\\\__init__.py'>,\n 'pkg_resources._vendor': <module 'pkg_resources._vendor' from 'd:\\\\users\\\\cestm\\\\.virtualenvs\\\\pythoncourse\\\\lib\\\\site-packages\\\\pkg_resources\\\\_vendor\\\\__init__.py'>,\n 'win32api': <module 'win32api' from 'd:\\\\users\\\\cestm\\\\.virtualenvs\\\\pythoncourse\\\\lib\\\\site-packages\\\\win32\\\\win32api.pyd'>,\n '_win32sysloader': <module '_win32sysloader' from 'd:\\\\users\\\\cestm\\\\.virtualenvs\\\\pythoncourse\\\\lib\\\\site-packages\\\\win32\\\\_win32sysloader.pyd'>,\n 'pywintypes': <module 'pywintypes' (d:\\users\\cestm\\.virtualenvs\\pythoncourse\\lib\\site-packages\\pywin32_system32\\pywintypes39.dll)>,\n 'pythoncom': <module 'pythoncom' (d:\\users\\cestm\\.virtualenvs\\pythoncourse\\lib\\site-packages\\pywin32_system32\\pythoncom39.dll)>,\n 'win32com.gen_py': <module 'win32com.gen_py'>,\n 'win32com': <module 'win32com' from 'd:\\\\users\\\\cestm\\\\.virtualenvs\\\\pythoncourse\\\\lib\\\\site-packages\\\\win32com\\\\__init__.py'>,\n 'win32com.shell': <module 'win32com.shell' from 'd:\\\\users\\\\cestm\\\\.virtualenvs\\\\pythoncourse\\\\lib\\\\site-packages\\\\win32comext\\\\shell\\\\__init__.py'>,\n 'pkg_resources._vendor.appdirs': <module 'pkg_resources.extern.appdirs' (<pkg_resources.extern.VendorImporter object at 0x00000201F776DC40>)>,\n 'pkg_resources.extern.appdirs': <module 'pkg_resources.extern.appdirs' (<pkg_resources.extern.VendorImporter object at 0x00000201F776DC40>)>,\n 'pkg_resources._vendor.packaging.__about__': <module 'pkg_resources._vendor.packaging.__about__' from 'd:\\\\users\\\\cestm\\\\.virtualenvs\\\\pythoncourse\\\\lib\\\\site-packages\\\\pkg_resources\\\\_vendor\\\\packaging\\\\__about__.py'>,\n 'pkg_resources._vendor.packaging': <module 'pkg_resources.extern.packaging' (<pkg_resources.extern.VendorImporter object at 0x00000201F776DC40>)>,\n 'pkg_resources.extern.packaging': <module 'pkg_resources.extern.packaging' (<pkg_resources.extern.VendorImporter object at 0x00000201F776DC40>)>,\n 'pkg_resources.extern.packaging._structures': <module 'pkg_resources.extern.packaging._structures' from 'd:\\\\users\\\\cestm\\\\.virtualenvs\\\\pythoncourse\\\\lib\\\\site-packages\\\\pkg_resources\\\\_vendor\\\\packaging\\\\_structures.py'>,\n 'pkg_resources.extern.packaging._typing': <module 'pkg_resources.extern.packaging._typing' from 'd:\\\\users\\\\cestm\\\\.virtualenvs\\\\pythoncourse\\\\lib\\\\site-packages\\\\pkg_resources\\\\_vendor\\\\packaging\\\\_typing.py'>,\n 'pkg_resources.extern.packaging.version': <module 'pkg_resources.extern.packaging.version' from 'd:\\\\users\\\\cestm\\\\.virtualenvs\\\\pythoncourse\\\\lib\\\\site-packages\\\\pkg_resources\\\\_vendor\\\\packaging\\\\version.py'>,\n 'pkg_resources.extern.packaging._compat': <module 'pkg_resources.extern.packaging._compat' from 'd:\\\\users\\\\cestm\\\\.virtualenvs\\\\pythoncourse\\\\lib\\\\site-packages\\\\pkg_resources\\\\_vendor\\\\packaging\\\\_compat.py'>,\n 'pkg_resources.extern.packaging.utils': <module 'pkg_resources.extern.packaging.utils' from 'd:\\\\users\\\\cestm\\\\.virtualenvs\\\\pythoncourse\\\\lib\\\\site-packages\\\\pkg_resources\\\\_vendor\\\\packaging\\\\utils.py'>,\n 'pkg_resources.extern.packaging.specifiers': <module 'pkg_resources.extern.packaging.specifiers' from 'd:\\\\users\\\\cestm\\\\.virtualenvs\\\\pythoncourse\\\\lib\\\\site-packages\\\\pkg_resources\\\\_vendor\\\\packaging\\\\specifiers.py'>,\n 'pkg_resources._vendor.pyparsing': <module 'pkg_resources.extern.pyparsing' (<pkg_resources.extern.VendorImporter object at 0x00000201F776DC40>)>,\n 'pkg_resources.extern.pyparsing': <module 'pkg_resources.extern.pyparsing' (<pkg_resources.extern.VendorImporter object at 0x00000201F776DC40>)>,\n 'pkg_resources.extern.packaging.markers': <module 'pkg_resources.extern.packaging.markers' from 'd:\\\\users\\\\cestm\\\\.virtualenvs\\\\pythoncourse\\\\lib\\\\site-packages\\\\pkg_resources\\\\_vendor\\\\packaging\\\\markers.py'>,\n 'pkg_resources.extern.packaging.requirements': <module 'pkg_resources.extern.packaging.requirements' from 'd:\\\\users\\\\cestm\\\\.virtualenvs\\\\pythoncourse\\\\lib\\\\site-packages\\\\pkg_resources\\\\_vendor\\\\packaging\\\\requirements.py'>,\n 'pkg_resources': <module 'pkg_resources' from 'd:\\\\users\\\\cestm\\\\.virtualenvs\\\\pythoncourse\\\\lib\\\\site-packages\\\\pkg_resources\\\\__init__.py'>,\n 'pydevconsole': <module 'pydevconsole' from 'd:\\\\users\\\\cestm\\\\.virtualenvs\\\\pythoncourse\\\\lib\\\\site-packages\\\\debugpy\\\\_vendored\\\\pydevd\\\\pydevconsole.py'>,\n 'debugpy._vendored.force_pydevd': <module 'debugpy._vendored.force_pydevd' from 'd:\\\\users\\\\cestm\\\\.virtualenvs\\\\pythoncourse\\\\lib\\\\site-packages\\\\debugpy\\\\_vendored\\\\force_pydevd.py'>,\n 'debugpy.server': <module 'debugpy.server' from 'd:\\\\users\\\\cestm\\\\.virtualenvs\\\\pythoncourse\\\\lib\\\\site-packages\\\\debugpy\\\\server\\\\__init__.py'>,\n 'debugpy.adapter': <module 'debugpy.adapter' from 'd:\\\\users\\\\cestm\\\\.virtualenvs\\\\pythoncourse\\\\lib\\\\site-packages\\\\debugpy\\\\adapter\\\\__init__.py'>,\n 'debugpy.common.timestamp': <module 'debugpy.common.timestamp' from 'd:\\\\users\\\\cestm\\\\.virtualenvs\\\\pythoncourse\\\\lib\\\\site-packages\\\\debugpy\\\\common\\\\timestamp.py'>,\n 'debugpy.common.util': <module 'debugpy.common.util' from 'd:\\\\users\\\\cestm\\\\.virtualenvs\\\\pythoncourse\\\\lib\\\\site-packages\\\\debugpy\\\\common\\\\util.py'>,\n 'debugpy.common.log': <module 'debugpy.common.log' from 'd:\\\\users\\\\cestm\\\\.virtualenvs\\\\pythoncourse\\\\lib\\\\site-packages\\\\debugpy\\\\common\\\\log.py'>,\n 'debugpy.common.sockets': <module 'debugpy.common.sockets' from 'd:\\\\users\\\\cestm\\\\.virtualenvs\\\\pythoncourse\\\\lib\\\\site-packages\\\\debugpy\\\\common\\\\sockets.py'>,\n 'debugpy.server.api': <module 'debugpy.server.api' from 'd:\\\\users\\\\cestm\\\\.virtualenvs\\\\pythoncourse\\\\lib\\\\site-packages\\\\debugpy\\\\server\\\\api.py'>,\n 'ipykernel.debugger': <module 'ipykernel.debugger' from 'd:\\\\users\\\\cestm\\\\.virtualenvs\\\\pythoncourse\\\\lib\\\\site-packages\\\\ipykernel\\\\debugger.py'>,\n 'ipykernel.ipkernel': <module 'ipykernel.ipkernel' from 'd:\\\\users\\\\cestm\\\\.virtualenvs\\\\pythoncourse\\\\lib\\\\site-packages\\\\ipykernel\\\\ipkernel.py'>,\n 'ipykernel.parentpoller': <module 'ipykernel.parentpoller' from 'd:\\\\users\\\\cestm\\\\.virtualenvs\\\\pythoncourse\\\\lib\\\\site-packages\\\\ipykernel\\\\parentpoller.py'>,\n 'ipykernel.kernelapp': <module 'ipykernel.kernelapp' from 'd:\\\\users\\\\cestm\\\\.virtualenvs\\\\pythoncourse\\\\lib\\\\site-packages\\\\ipykernel\\\\kernelapp.py'>,\n 'win32security': <module 'win32security' from 'd:\\\\users\\\\cestm\\\\.virtualenvs\\\\pythoncourse\\\\lib\\\\site-packages\\\\win32\\\\win32security.pyd'>,\n 'ntsecuritycon': <module 'ntsecuritycon' from 'd:\\\\users\\\\cestm\\\\.virtualenvs\\\\pythoncourse\\\\lib\\\\site-packages\\\\win32\\\\lib\\\\ntsecuritycon.py'>,\n 'faulthandler': <module 'faulthandler' (built-in)>,\n 'IPython.core.completerlib': <module 'IPython.core.completerlib' from 'd:\\\\users\\\\cestm\\\\.virtualenvs\\\\pythoncourse\\\\lib\\\\site-packages\\\\IPython\\\\core\\\\completerlib.py'>,\n 'pydev_jupyter_utils': <module 'pydev_jupyter_utils' from 'C:\\\\Program Files\\\\JetBrains\\\\PyCharm 2021.3.2\\\\plugins\\\\python\\\\helpers-pro\\\\jupyter_debug\\\\pydev_jupyter_utils.py'>,\n '_pydevd_bundle': <module '_pydevd_bundle' from 'C:\\\\Program Files\\\\JetBrains\\\\PyCharm 2021.3.2\\\\plugins\\\\python\\\\helpers\\\\pydev\\\\_pydevd_bundle\\\\__init__.py'>,\n '_pydev_bundle': <module '_pydev_bundle' from 'C:\\\\Program Files\\\\JetBrains\\\\PyCharm 2021.3.2\\\\plugins\\\\python\\\\helpers\\\\pydev\\\\_pydev_bundle\\\\__init__.py'>,\n '_pydevd_bundle.pydevd_vm_type': <module '_pydevd_bundle.pydevd_vm_type' from 'C:\\\\Program Files\\\\JetBrains\\\\PyCharm 2021.3.2\\\\plugins\\\\python\\\\helpers\\\\pydev\\\\_pydevd_bundle\\\\pydevd_vm_type.py'>,\n '_pydev_imps': <module '_pydev_imps' from 'C:\\\\Program Files\\\\JetBrains\\\\PyCharm 2021.3.2\\\\plugins\\\\python\\\\helpers\\\\pydev\\\\_pydev_imps\\\\__init__.py'>,\n '_pydev_imps._pydev_saved_modules': <module '_pydev_imps._pydev_saved_modules' from 'C:\\\\Program Files\\\\JetBrains\\\\PyCharm 2021.3.2\\\\plugins\\\\python\\\\helpers\\\\pydev\\\\_pydev_imps\\\\_pydev_saved_modules.py'>,\n '_pydevd_bundle.pydevd_constants': <module '_pydevd_bundle.pydevd_constants' from 'C:\\\\Program Files\\\\JetBrains\\\\PyCharm 2021.3.2\\\\plugins\\\\python\\\\helpers\\\\pydev\\\\_pydevd_bundle\\\\pydevd_constants.py'>,\n '_pydev_bundle.pydev_log': <module '_pydev_bundle.pydev_log' from 'C:\\\\Program Files\\\\JetBrains\\\\PyCharm 2021.3.2\\\\plugins\\\\python\\\\helpers\\\\pydev\\\\_pydev_bundle\\\\pydev_log.py'>,\n '_pydevd_bundle.pydevd_exec2': <module '_pydevd_bundle.pydevd_exec2' from 'C:\\\\Program Files\\\\JetBrains\\\\PyCharm 2021.3.2\\\\plugins\\\\python\\\\helpers\\\\pydev\\\\_pydevd_bundle\\\\pydevd_exec2.py'>,\n '_pydev_bundle.pydev_imports': <module '_pydev_bundle.pydev_imports' from 'C:\\\\Program Files\\\\JetBrains\\\\PyCharm 2021.3.2\\\\plugins\\\\python\\\\helpers\\\\pydev\\\\_pydev_bundle\\\\pydev_imports.py'>,\n 'pydevd_plugins': <module 'pydevd_plugins' from 'C:\\\\Program Files\\\\JetBrains\\\\PyCharm 2021.3.2\\\\plugins\\\\python\\\\helpers\\\\pydev\\\\pydevd_plugins\\\\__init__.py'>,\n 'pydevd_plugins.extensions': <module 'pydevd_plugins.extensions' from 'C:\\\\Program Files\\\\JetBrains\\\\PyCharm 2021.3.2\\\\plugins\\\\python\\\\helpers\\\\pydev\\\\pydevd_plugins\\\\extensions\\\\__init__.py'>,\n '_pydevd_bundle.pydevd_extension_utils': <module '_pydevd_bundle.pydevd_extension_utils' from 'C:\\\\Program Files\\\\JetBrains\\\\PyCharm 2021.3.2\\\\plugins\\\\python\\\\helpers\\\\pydev\\\\_pydevd_bundle\\\\pydevd_extension_utils.py'>,\n '_pydev_bundle._pydev_filesystem_encoding': <module '_pydev_bundle._pydev_filesystem_encoding' from 'C:\\\\Program Files\\\\JetBrains\\\\PyCharm 2021.3.2\\\\plugins\\\\python\\\\helpers\\\\pydev\\\\_pydev_bundle\\\\_pydev_filesystem_encoding.py'>,\n '_pydevd_bundle.pydevd_comm_constants': <module '_pydevd_bundle.pydevd_comm_constants' from 'C:\\\\Program Files\\\\JetBrains\\\\PyCharm 2021.3.2\\\\plugins\\\\python\\\\helpers\\\\pydev\\\\_pydevd_bundle\\\\pydevd_comm_constants.py'>,\n 'pydevd_file_utils': <module 'pydevd_file_utils' from 'C:\\\\Program Files\\\\JetBrains\\\\PyCharm 2021.3.2\\\\plugins\\\\python\\\\helpers\\\\pydev\\\\pydevd_file_utils.py'>,\n '_pydevd_bundle.pydevd_utils': <module '_pydevd_bundle.pydevd_utils' from 'C:\\\\Program Files\\\\JetBrains\\\\PyCharm 2021.3.2\\\\plugins\\\\python\\\\helpers\\\\pydev\\\\_pydevd_bundle\\\\pydevd_utils.py'>,\n '_pydevd_bundle.pydevd_resolver': <module '_pydevd_bundle.pydevd_resolver' from 'C:\\\\Program Files\\\\JetBrains\\\\PyCharm 2021.3.2\\\\plugins\\\\python\\\\helpers\\\\pydev\\\\_pydevd_bundle\\\\pydevd_resolver.py'>,\n '_pydevd_bundle.pydevd_extension_api': <module '_pydevd_bundle.pydevd_extension_api' from 'C:\\\\Program Files\\\\JetBrains\\\\PyCharm 2021.3.2\\\\plugins\\\\python\\\\helpers\\\\pydev\\\\_pydevd_bundle\\\\pydevd_extension_api.py'>,\n '_pydevd_bundle.pydevd_xml': <module '_pydevd_bundle.pydevd_xml' from 'C:\\\\Program Files\\\\JetBrains\\\\PyCharm 2021.3.2\\\\plugins\\\\python\\\\helpers\\\\pydev\\\\_pydevd_bundle\\\\pydevd_xml.py'>,\n '_pydevd_bundle.pydevd_custom_frames': <module '_pydevd_bundle.pydevd_custom_frames' from 'C:\\\\Program Files\\\\JetBrains\\\\PyCharm 2021.3.2\\\\plugins\\\\python\\\\helpers\\\\pydev\\\\_pydevd_bundle\\\\pydevd_custom_frames.py'>,\n '_pydevd_bundle.pydevd_save_locals': <module '_pydevd_bundle.pydevd_save_locals' from 'C:\\\\Program Files\\\\JetBrains\\\\PyCharm 2021.3.2\\\\plugins\\\\python\\\\helpers\\\\pydev\\\\_pydevd_bundle\\\\pydevd_save_locals.py'>,\n '_pydevd_bundle.pydevd_vars': <module '_pydevd_bundle.pydevd_vars' from 'C:\\\\Program Files\\\\JetBrains\\\\PyCharm 2021.3.2\\\\plugins\\\\python\\\\helpers\\\\pydev\\\\_pydevd_bundle\\\\pydevd_vars.py'>,\n '_pydevd_bundle.pydevd_tables': <module '_pydevd_bundle.pydevd_tables' from 'C:\\\\Program Files\\\\JetBrains\\\\PyCharm 2021.3.2\\\\plugins\\\\python\\\\helpers\\\\pydev\\\\_pydevd_bundle\\\\pydevd_tables.py'>,\n 'pydev_jupyter_vars': <module 'pydev_jupyter_vars' from 'C:\\\\Program Files\\\\JetBrains\\\\PyCharm 2021.3.2\\\\plugins\\\\python\\\\helpers-pro\\\\jupyter_debug\\\\pydev_jupyter_vars.py'>,\n 'pydevd_plugins.extensions.types': <module 'pydevd_plugins.extensions.types' from 'C:\\\\Program Files\\\\JetBrains\\\\PyCharm 2021.3.2\\\\plugins\\\\python\\\\helpers\\\\pydev\\\\pydevd_plugins\\\\extensions\\\\types\\\\__init__.py'>,\n 'pydevd_plugins.extensions.types.pydevd_helpers': <module 'pydevd_plugins.extensions.types.pydevd_helpers' from 'C:\\\\Program Files\\\\JetBrains\\\\PyCharm 2021.3.2\\\\plugins\\\\python\\\\helpers\\\\pydev\\\\pydevd_plugins\\\\extensions\\\\types\\\\pydevd_helpers.py'>,\n 'pydevd_plugins.extensions.types.pydevd_plugin_numpy_types': <module 'pydevd_plugins.extensions.types.pydevd_plugin_numpy_types' from 'C:\\\\Program Files\\\\JetBrains\\\\PyCharm 2021.3.2\\\\plugins\\\\python\\\\helpers\\\\pydev\\\\pydevd_plugins\\\\extensions\\\\types\\\\pydevd_plugin_numpy_types.py'>,\n 'pydevd_plugins.extensions.types.pydevd_plugins_django_form_str': <module 'pydevd_plugins.extensions.types.pydevd_plugins_django_form_str' from 'C:\\\\Program Files\\\\JetBrains\\\\PyCharm 2021.3.2\\\\plugins\\\\python\\\\helpers\\\\pydev\\\\pydevd_plugins\\\\extensions\\\\types\\\\pydevd_plugins_django_form_str.py'>,\n 'zmq.utils.garbage': <module 'zmq.utils.garbage' from 'd:\\\\users\\\\cestm\\\\.virtualenvs\\\\pythoncourse\\\\lib\\\\site-packages\\\\zmq\\\\utils\\\\garbage.py'>}"
     },
     "execution_count": 6,
     "metadata": {},
     "output_type": "execute_result"
    }
   ],
   "source": [
    "import datetime\n",
    "sys.modules"
   ],
   "metadata": {
    "collapsed": false,
    "pycharm": {
     "name": "#%%\n"
    }
   }
  },
  {
   "cell_type": "code",
   "execution_count": 10,
   "outputs": [
    {
     "name": "stdout",
     "output_type": "stream",
     "text": [
      "9\n"
     ]
    },
    {
     "ename": "ValueError",
     "evalue": "invalid literal for int() with base 10: '-f'",
     "output_type": "error",
     "traceback": [
      "\u001B[1;31m---------------------------------------------------------------------------\u001B[0m",
      "\u001B[1;31mValueError\u001B[0m                                Traceback (most recent call last)",
      "Input \u001B[1;32mIn [10]\u001B[0m, in \u001B[0;36m<cell line: 6>\u001B[1;34m()\u001B[0m\n\u001B[0;32m      6\u001B[0m \u001B[38;5;28;01mif\u001B[39;00m \u001B[38;5;18m__name__\u001B[39m \u001B[38;5;241m==\u001B[39m \u001B[38;5;124m\"\u001B[39m\u001B[38;5;124m__main__\u001B[39m\u001B[38;5;124m\"\u001B[39m:\n\u001B[0;32m      7\u001B[0m     sys_argv(\u001B[38;5;241m4\u001B[39m, \u001B[38;5;241m5\u001B[39m)\n\u001B[1;32m----> 8\u001B[0m     \u001B[43msys_argv\u001B[49m\u001B[43m(\u001B[49m\u001B[43msys\u001B[49m\u001B[38;5;241;43m.\u001B[39;49m\u001B[43margv\u001B[49m\u001B[43m[\u001B[49m\u001B[38;5;241;43m1\u001B[39;49m\u001B[43m]\u001B[49m\u001B[43m,\u001B[49m\u001B[43m \u001B[49m\u001B[43msys\u001B[49m\u001B[38;5;241;43m.\u001B[39;49m\u001B[43margv\u001B[49m\u001B[43m[\u001B[49m\u001B[38;5;241;43m2\u001B[39;49m\u001B[43m]\u001B[49m\u001B[43m)\u001B[49m\n",
      "Input \u001B[1;32mIn [10]\u001B[0m, in \u001B[0;36msys_argv\u001B[1;34m(a, b)\u001B[0m\n\u001B[0;32m      3\u001B[0m \u001B[38;5;28;01mdef\u001B[39;00m \u001B[38;5;21msys_argv\u001B[39m(a,b):\n\u001B[1;32m----> 4\u001B[0m     \u001B[38;5;28mprint\u001B[39m(\u001B[38;5;28;43mint\u001B[39;49m\u001B[43m(\u001B[49m\u001B[43ma\u001B[49m\u001B[43m)\u001B[49m \u001B[38;5;241m+\u001B[39m \u001B[38;5;28mint\u001B[39m(b))\n",
      "\u001B[1;31mValueError\u001B[0m: invalid literal for int() with base 10: '-f'"
     ]
    }
   ],
   "source": [
    "import  sys\n",
    "\n",
    "def sys_argv(a,b):\n",
    "    print(int(a) + int(b))\n",
    "\n",
    "if __name__ == \"__main__\":\n",
    "    sys_argv(4, 5)\n",
    "    sys_argv(sys.argv[1], sys.argv[2])"
   ],
   "metadata": {
    "collapsed": false,
    "pycharm": {
     "name": "#%%\n"
    }
   }
  },
  {
   "cell_type": "markdown",
   "source": [
    "# 标准流\n",
    "sys.stdin sys.stdout sys.stderr\n",
    "程序退出  sys.exit()\n",
    "os._exit(1) 程序终止 ---一般在fork出来的子进程中使用os._exit()"
   ],
   "metadata": {
    "collapsed": false,
    "pycharm": {
     "name": "#%% md\n"
    }
   }
  },
  {
   "cell_type": "markdown",
   "source": [
    "## os\n",
    "和操作系统有关"
   ],
   "metadata": {
    "collapsed": false,
    "pycharm": {
     "name": "#%% md\n"
    }
   }
  },
  {
   "cell_type": "code",
   "execution_count": 12,
   "outputs": [
    {
     "data": {
      "text/plain": "['DirEntry',\n 'F_OK',\n 'GenericAlias',\n 'Mapping',\n 'MutableMapping',\n 'O_APPEND',\n 'O_BINARY',\n 'O_CREAT',\n 'O_EXCL',\n 'O_NOINHERIT',\n 'O_RANDOM',\n 'O_RDONLY',\n 'O_RDWR',\n 'O_SEQUENTIAL',\n 'O_SHORT_LIVED',\n 'O_TEMPORARY',\n 'O_TEXT',\n 'O_TRUNC',\n 'O_WRONLY',\n 'P_DETACH',\n 'P_NOWAIT',\n 'P_NOWAITO',\n 'P_OVERLAY',\n 'P_WAIT',\n 'PathLike',\n 'R_OK',\n 'SEEK_CUR',\n 'SEEK_END',\n 'SEEK_SET',\n 'TMP_MAX',\n 'W_OK',\n 'X_OK',\n '_AddedDllDirectory',\n '_Environ',\n '__all__',\n '__builtins__',\n '__cached__',\n '__doc__',\n '__file__',\n '__loader__',\n '__name__',\n '__package__',\n '__spec__',\n '_check_methods',\n '_execvpe',\n '_exists',\n '_exit',\n '_fspath',\n '_get_exports_list',\n '_walk',\n '_wrap_close',\n 'abc',\n 'abort',\n 'access',\n 'add_dll_directory',\n 'altsep',\n 'chdir',\n 'chmod',\n 'close',\n 'closerange',\n 'cpu_count',\n 'curdir',\n 'defpath',\n 'device_encoding',\n 'devnull',\n 'dup',\n 'dup2',\n 'environ',\n 'error',\n 'execl',\n 'execle',\n 'execlp',\n 'execlpe',\n 'execv',\n 'execve',\n 'execvp',\n 'execvpe',\n 'extsep',\n 'fdopen',\n 'fsdecode',\n 'fsencode',\n 'fspath',\n 'fstat',\n 'fsync',\n 'ftruncate',\n 'get_exec_path',\n 'get_handle_inheritable',\n 'get_inheritable',\n 'get_terminal_size',\n 'getcwd',\n 'getcwdb',\n 'getenv',\n 'getlogin',\n 'getpid',\n 'getppid',\n 'isatty',\n 'kill',\n 'linesep',\n 'link',\n 'listdir',\n 'lseek',\n 'lstat',\n 'makedirs',\n 'mkdir',\n 'name',\n 'open',\n 'pardir',\n 'path',\n 'pathsep',\n 'pipe',\n 'popen',\n 'putenv',\n 'read',\n 'readlink',\n 'remove',\n 'removedirs',\n 'rename',\n 'renames',\n 'replace',\n 'rmdir',\n 'scandir',\n 'sep',\n 'set_handle_inheritable',\n 'set_inheritable',\n 'spawnl',\n 'spawnle',\n 'spawnv',\n 'spawnve',\n 'st',\n 'startfile',\n 'stat',\n 'stat_result',\n 'statvfs_result',\n 'strerror',\n 'supports_bytes_environ',\n 'supports_dir_fd',\n 'supports_effective_ids',\n 'supports_fd',\n 'supports_follow_symlinks',\n 'symlink',\n 'sys',\n 'system',\n 'terminal_size',\n 'times',\n 'times_result',\n 'truncate',\n 'umask',\n 'uname_result',\n 'unlink',\n 'unsetenv',\n 'urandom',\n 'utime',\n 'waitpid',\n 'waitstatus_to_exitcode',\n 'walk',\n 'write']"
     },
     "execution_count": 12,
     "metadata": {},
     "output_type": "execute_result"
    }
   ],
   "source": [
    "import os\n",
    "\n",
    "dir(os)"
   ],
   "metadata": {
    "collapsed": false,
    "pycharm": {
     "name": "#%%\n"
    }
   }
  },
  {
   "cell_type": "code",
   "source": [
    "os.getpid() #调用函数的进程的ID，当前运行的程序定义唯一标示符"
   ],
   "metadata": {
    "collapsed": false,
    "pycharm": {
     "name": "#%%\n"
    }
   },
   "execution_count": 15,
   "outputs": [
    {
     "data": {
      "text/plain": "2400"
     },
     "execution_count": 15,
     "metadata": {},
     "output_type": "execute_result"
    }
   ]
  },
  {
   "cell_type": "code",
   "execution_count": 16,
   "outputs": [
    {
     "data": {
      "text/plain": "'D:\\\\PycharmProjects\\\\PythonCourse'"
     },
     "execution_count": 16,
     "metadata": {},
     "output_type": "execute_result"
    }
   ],
   "source": [
    "os.getcwd()  # 返回当前的工作目录"
   ],
   "metadata": {
    "collapsed": false,
    "pycharm": {
     "name": "#%%\n"
    }
   }
  },
  {
   "cell_type": "code",
   "execution_count": 17,
   "outputs": [
    {
     "data": {
      "text/plain": "'d:\\\\PycharmProjects\\\\PythonCourse\\\\code'"
     },
     "execution_count": 17,
     "metadata": {},
     "output_type": "execute_result"
    }
   ],
   "source": [
    "os.chdir(\"d:\\PycharmProjects\\PythonCourse\\code\")  # 函数改变目录\n",
    "os.getcwd()"
   ],
   "metadata": {
    "collapsed": false,
    "pycharm": {
     "name": "#%%\n"
    }
   }
  },
  {
   "cell_type": "code",
   "execution_count": 20,
   "outputs": [
    {
     "data": {
      "text/plain": "'\\r\\n'"
     },
     "execution_count": 20,
     "metadata": {},
     "output_type": "execute_result"
    }
   ],
   "source": [
    "os.sep   # 分隔符\n",
    "os.linesep   # 换行符"
   ],
   "metadata": {
    "collapsed": false,
    "pycharm": {
     "name": "#%%\n"
    }
   }
  },
  {
   "cell_type": "code",
   "execution_count": 21,
   "outputs": [
    {
     "data": {
      "text/plain": "['0319_class_.py',\n 'class.py',\n 'class_sub.py',\n 'code_example.py',\n 'sys_argv.py']"
     },
     "execution_count": 21,
     "metadata": {},
     "output_type": "execute_result"
    }
   ],
   "source": [
    "os.listdir()"
   ],
   "metadata": {
    "collapsed": false,
    "pycharm": {
     "name": "#%%\n"
    }
   }
  },
  {
   "cell_type": "code",
   "execution_count": 23,
   "outputs": [
    {
     "data": {
      "text/plain": "False"
     },
     "execution_count": 23,
     "metadata": {},
     "output_type": "execute_result"
    }
   ],
   "source": [
    "os.path.isdir(\"class.py\")"
   ],
   "metadata": {
    "collapsed": false,
    "pycharm": {
     "name": "#%%\n"
    }
   }
  },
  {
   "cell_type": "code",
   "execution_count": 24,
   "outputs": [
    {
     "data": {
      "text/plain": "True"
     },
     "execution_count": 24,
     "metadata": {},
     "output_type": "execute_result"
    }
   ],
   "source": [
    "os.path.isfile(\"class.py\")"
   ],
   "metadata": {
    "collapsed": false,
    "pycharm": {
     "name": "#%%\n"
    }
   }
  },
  {
   "cell_type": "code",
   "execution_count": 25,
   "outputs": [
    {
     "data": {
      "text/plain": "False"
     },
     "execution_count": 25,
     "metadata": {},
     "output_type": "execute_result"
    }
   ],
   "source": [
    "os.path.isfile(\"cc\")"
   ],
   "metadata": {
    "collapsed": false,
    "pycharm": {
     "name": "#%%\n"
    }
   }
  },
  {
   "cell_type": "code",
   "execution_count": 26,
   "outputs": [
    {
     "data": {
      "text/plain": "True"
     },
     "execution_count": 26,
     "metadata": {},
     "output_type": "execute_result"
    }
   ],
   "source": [
    "os.path.exists(\"class.py\")"
   ],
   "metadata": {
    "collapsed": false,
    "pycharm": {
     "name": "#%%\n"
    }
   }
  },
  {
   "cell_type": "code",
   "execution_count": 27,
   "outputs": [
    {
     "data": {
      "text/plain": "819"
     },
     "execution_count": 27,
     "metadata": {},
     "output_type": "execute_result"
    }
   ],
   "source": [
    "os.path.getsize(\"class.py\")"
   ],
   "metadata": {
    "collapsed": false,
    "pycharm": {
     "name": "#%%\n"
    }
   }
  },
  {
   "cell_type": "code",
   "execution_count": 28,
   "outputs": [
    {
     "data": {
      "text/plain": "('d:\\\\PycharmProjects\\\\PythonCourse', 'code')"
     },
     "execution_count": 28,
     "metadata": {},
     "output_type": "execute_result"
    }
   ],
   "source": [
    "os.path.split(os.getcwd())"
   ],
   "metadata": {
    "collapsed": false,
    "pycharm": {
     "name": "#%%\n"
    }
   }
  },
  {
   "cell_type": "code",
   "execution_count": 29,
   "outputs": [
    {
     "data": {
      "text/plain": "'d:\\\\PycharmProjects\\\\PythonCourse'"
     },
     "execution_count": 29,
     "metadata": {},
     "output_type": "execute_result"
    }
   ],
   "source": [
    "os.path.dirname(os.getcwd())"
   ],
   "metadata": {
    "collapsed": false,
    "pycharm": {
     "name": "#%%\n"
    }
   }
  },
  {
   "cell_type": "code",
   "execution_count": 30,
   "outputs": [
    {
     "data": {
      "text/plain": "'code'"
     },
     "execution_count": 30,
     "metadata": {},
     "output_type": "execute_result"
    }
   ],
   "source": [
    "os.path.basename(os.getcwd())"
   ],
   "metadata": {
    "collapsed": false,
    "pycharm": {
     "name": "#%%\n"
    }
   }
  },
  {
   "cell_type": "code",
   "execution_count": 31,
   "outputs": [
    {
     "data": {
      "text/plain": "('d:\\\\PycharmProjects\\\\PythonCourse\\\\code', '')"
     },
     "execution_count": 31,
     "metadata": {},
     "output_type": "execute_result"
    }
   ],
   "source": [
    "os.path.splitext(os.getcwd())"
   ],
   "metadata": {
    "collapsed": false,
    "pycharm": {
     "name": "#%%\n"
    }
   }
  },
  {
   "cell_type": "code",
   "execution_count": 34,
   "outputs": [
    {
     "name": "stdout",
     "output_type": "stream",
     "text": [
      "1\n"
     ]
    }
   ],
   "source": [
    "os.system(\"ifconfig\") #打印结果 --linux   window有输出 1"
   ],
   "metadata": {
    "collapsed": false,
    "pycharm": {
     "name": "#%%\n"
    }
   }
  },
  {
   "cell_type": "code",
   "execution_count": 36,
   "outputs": [
    {
     "data": {
      "text/plain": "'\\nWindows IP 配置\\n\\n\\n以太网适配器 Local Area Connection* 3:\\n\\n   连接特定的 DNS 后缀 . . . . . . . : \\n   本地链接 IPv6 地址. . . . . . . . : fe80::7df8:a61a:ee06:1153%23\\n   IPv4 地址 . . . . . . . . . . . . : 172.18.180.234\\n   子网掩码  . . . . . . . . . . . . : 255.255.252.0\\n   默认网关. . . . . . . . . . . . . : \\n\\n以太网适配器 Ethernet 5:\\n\\n   连接特定的 DNS 后缀 . . . . . . . : qytang.com\\n   本地链接 IPv6 地址. . . . . . . . : fe80::85c9:7c9b:5669:ee8e%16\\n   本地链接 IPv6 地址. . . . . . . . : fe80::86b8:b057:5229:27bd%16\\n   IPv4 地址 . . . . . . . . . . . . : 172.16.205.109\\n   子网掩码  . . . . . . . . . . . . : 255.255.0.0\\n   默认网关. . . . . . . . . . . . . : ::\\n\\n以太网适配器 Ethernet:\\n\\n   媒体状态  . . . . . . . . . . . . : 媒体已断开连接\\n   连接特定的 DNS 后缀 . . . . . . . : \\n\\n以太网适配器 Npcap Loopback Adapter:\\n\\n   连接特定的 DNS 后缀 . . . . . . . : \\n   本地链接 IPv6 地址. . . . . . . . : fe80::80e2:2e08:3df1:5e28%19\\n   自动配置 IPv4 地址  . . . . . . . : 169.254.94.40\\n   子网掩码  . . . . . . . . . . . . : 255.255.0.0\\n   默认网关. . . . . . . . . . . . . : \\n\\n无线局域网适配器 Local Area Connection* 1:\\n\\n   媒体状态  . . . . . . . . . . . . : 媒体已断开连接\\n   连接特定的 DNS 后缀 . . . . . . . : \\n\\n无线局域网适配器 Local Area Connection* 2:\\n\\n   媒体状态  . . . . . . . . . . . . : 媒体已断开连接\\n   连接特定的 DNS 后缀 . . . . . . . : \\n\\n以太网适配器 VMware Network Adapter VMnet8:\\n\\n   连接特定的 DNS 后缀 . . . . . . . : \\n   IPv6 地址 . . . . . . . . . . . . : fd15:4ba5:5a2b:1008:4d94:a550:4847:c857\\n   临时 IPv6 地址. . . . . . . . . . : fd15:4ba5:5a2b:1008:ed73:f6fc:f9f1:7731\\n   本地链接 IPv6 地址. . . . . . . . : fe80::4d94:a550:4847:c857%8\\n   IPv4 地址 . . . . . . . . . . . . : 192.168.49.2\\n   子网掩码  . . . . . . . . . . . . : 255.255.255.0\\n   默认网关. . . . . . . . . . . . . : fe80::250:56ff:fec0:2222%8\\n\\n无线局域网适配器 Wi-Fi:\\n\\n   连接特定的 DNS 后缀 . . . . . . . : \\n   本地链接 IPv6 地址. . . . . . . . : fe80::cdf9:7353:8b67:c737%17\\n   IPv4 地址 . . . . . . . . . . . . : 192.168.31.214\\n   子网掩码  . . . . . . . . . . . . : 255.255.255.0\\n   默认网关. . . . . . . . . . . . . : 192.168.1.1\\n                                       172.26.2.1\\n                                       192.168.31.1\\n                                       172.26.10.1\\n\\n以太网适配器 Ethernet 3:\\n\\n   媒体状态  . . . . . . . . . . . . : 媒体已断开连接\\n   连接特定的 DNS 后缀 . . . . . . . : \\n\\n以太网适配器 Bluetooth Network Connection:\\n\\n   媒体状态  . . . . . . . . . . . . : 媒体已断开连接\\n   连接特定的 DNS 后缀 . . . . . . . : \\n'"
     },
     "execution_count": 36,
     "metadata": {},
     "output_type": "execute_result"
    }
   ],
   "source": [
    "os.popen(\"ipconfig\").read()"
   ],
   "metadata": {
    "collapsed": false,
    "pycharm": {
     "name": "#%%\n"
    }
   }
  },
  {
   "cell_type": "code",
   "execution_count": 49,
   "outputs": [
    {
     "name": "stdout",
     "output_type": "stream",
     "text": [
      "('', \"'ifconfig' 不是内部或外部命令，也不是可运行的程序\\n或批处理文件。\\n\")\n",
      "('\\nWindows IP 配置\\n\\n\\n以太网适配器 Local Area Connection* 3:\\n\\n   连接特定的 DNS 后缀 . . . . . . . : \\n   本地链接 IPv6 地址. . . . . . . . : fe80::7df8:a61a:ee06:1153%23\\n   IPv4 地址 . . . . . . . . . . . . : 172.18.180.234\\n   子网掩码  . . . . . . . . . . . . : 255.255.252.0\\n   默认网关. . . . . . . . . . . . . : \\n\\n以太网适配器 Ethernet 5:\\n\\n   连接特定的 DNS 后缀 . . . . . . . : qytang.com\\n   本地链接 IPv6 地址. . . . . . . . : fe80::85c9:7c9b:5669:ee8e%16\\n   本地链接 IPv6 地址. . . . . . . . : fe80::86b8:b057:5229:27bd%16\\n   IPv4 地址 . . . . . . . . . . . . : 172.16.205.109\\n   子网掩码  . . . . . . . . . . . . : 255.255.0.0\\n   默认网关. . . . . . . . . . . . . : ::\\n\\n以太网适配器 Ethernet:\\n\\n   媒体状态  . . . . . . . . . . . . : 媒体已断开连接\\n   连接特定的 DNS 后缀 . . . . . . . : \\n\\n以太网适配器 Npcap Loopback Adapter:\\n\\n   连接特定的 DNS 后缀 . . . . . . . : \\n   本地链接 IPv6 地址. . . . . . . . : fe80::80e2:2e08:3df1:5e28%19\\n   自动配置 IPv4 地址  . . . . . . . : 169.254.94.40\\n   子网掩码  . . . . . . . . . . . . : 255.255.0.0\\n   默认网关. . . . . . . . . . . . . : \\n\\n无线局域网适配器 Local Area Connection* 1:\\n\\n   媒体状态  . . . . . . . . . . . . : 媒体已断开连接\\n   连接特定的 DNS 后缀 . . . . . . . : \\n\\n无线局域网适配器 Local Area Connection* 2:\\n\\n   媒体状态  . . . . . . . . . . . . : 媒体已断开连接\\n   连接特定的 DNS 后缀 . . . . . . . : \\n\\n以太网适配器 VMware Network Adapter VMnet8:\\n\\n   连接特定的 DNS 后缀 . . . . . . . : \\n   IPv6 地址 . . . . . . . . . . . . : fd15:4ba5:5a2b:1008:4d94:a550:4847:c857\\n   临时 IPv6 地址. . . . . . . . . . : fd15:4ba5:5a2b:1008:ed73:f6fc:f9f1:7731\\n   本地链接 IPv6 地址. . . . . . . . : fe80::4d94:a550:4847:c857%8\\n   IPv4 地址 . . . . . . . . . . . . : 192.168.49.2\\n   子网掩码  . . . . . . . . . . . . : 255.255.255.0\\n   默认网关. . . . . . . . . . . . . : fe80::250:56ff:fec0:2222%8\\n\\n无线局域网适配器 Wi-Fi:\\n\\n   连接特定的 DNS 后缀 . . . . . . . : \\n   本地链接 IPv6 地址. . . . . . . . : fe80::cdf9:7353:8b67:c737%17\\n   IPv4 地址 . . . . . . . . . . . . : 192.168.31.214\\n   子网掩码  . . . . . . . . . . . . : 255.255.255.0\\n   默认网关. . . . . . . . . . . . . : 192.168.1.1\\n                                       172.26.2.1\\n                                       192.168.31.1\\n                                       172.26.10.1\\n\\n以太网适配器 Ethernet 3:\\n\\n   媒体状态  . . . . . . . . . . . . : 媒体已断开连接\\n   连接特定的 DNS 后缀 . . . . . . . : \\n\\n以太网适配器 Bluetooth Network Connection:\\n\\n   媒体状态  . . . . . . . . . . . . : 媒体已断开连接\\n   连接特定的 DNS 后缀 . . . . . . . : \\n', '')\n"
     ]
    }
   ],
   "source": [
    "import  subprocess\n",
    "import  io\n",
    "def system_cmd(cmd):\n",
    "    proc = subprocess.Popen(cmd, shell = True, stdout=subprocess.PIPE, stderr=subprocess.PIPE, bufsize=1)\n",
    "    proc.wait()\n",
    "    stream_stdout = io.TextIOWrapper(proc.stdout)\n",
    "    stream_stderr = io.TextIOWrapper(proc.stderr)\n",
    "\n",
    "    str_stdout = str( stream_stdout.read())\n",
    "    str_stderr = str( stream_stderr.read())\n",
    "\n",
    "    return  str_stdout, str_stderr\n",
    "\n",
    "if __name__ == \"__main__\":\n",
    "    result = system_cmd(\"ifconfig\")\n",
    "    print(result)\n",
    "    result = system_cmd(\"ipconfig\")\n",
    "    print(result)"
   ],
   "metadata": {
    "collapsed": false,
    "pycharm": {
     "name": "#%%\n"
    }
   }
  },
  {
   "cell_type": "code",
   "execution_count": 44,
   "outputs": [
    {
     "ename": "TypeError",
     "evalue": "'_Environ' object is not callable",
     "output_type": "error",
     "traceback": [
      "\u001B[1;31m---------------------------------------------------------------------------\u001B[0m",
      "\u001B[1;31mTypeError\u001B[0m                                 Traceback (most recent call last)",
      "Input \u001B[1;32mIn [44]\u001B[0m, in \u001B[0;36m<cell line: 1>\u001B[1;34m()\u001B[0m\n\u001B[1;32m----> 1\u001B[0m \u001B[43mos\u001B[49m\u001B[38;5;241;43m.\u001B[39;49m\u001B[43menviron\u001B[49m\u001B[43m(\u001B[49m\u001B[43mos\u001B[49m\u001B[38;5;241;43m.\u001B[39;49m\u001B[43mgetcwd\u001B[49m\u001B[43m(\u001B[49m\u001B[43m)\u001B[49m\u001B[43m)\u001B[49m\n",
      "\u001B[1;31mTypeError\u001B[0m: '_Environ' object is not callable"
     ]
    }
   ],
   "source": [
    "os.environ(os.getcwd())"
   ],
   "metadata": {
    "collapsed": false,
    "pycharm": {
     "name": "#%%\n"
    }
   }
  },
  {
   "cell_type": "code",
   "execution_count": 50,
   "outputs": [
    {
     "name": "stdout",
     "output_type": "stream",
     "text": [
      "d:\\PycharmProjects\\PythonCourse\\code\n",
      "[]\n",
      "['0319_class_.py', 'class.py', 'class_sub.py', 'code_example.py', 'sys_argv.py']\n"
     ]
    }
   ],
   "source": [
    "for root,dir,files in os.walk(os.getcwd()):\n",
    "    print(root)\n",
    "    print(dir)\n",
    "    print(files)"
   ],
   "metadata": {
    "collapsed": false,
    "pycharm": {
     "name": "#%%\n"
    }
   }
  },
  {
   "cell_type": "markdown",
   "source": [
    "## datetime\n",
    "\n",
    "datetime.timedelta\n",
    "* 获取当前时间\n",
    "* 将时间对象转换为字符串\n",
    "* 将字符串转换为对象\n",
    "* 时区切换"
   ],
   "metadata": {
    "collapsed": false,
    "pycharm": {
     "name": "#%% md\n"
    }
   }
  },
  {
   "cell_type": "code",
   "execution_count": 52,
   "outputs": [
    {
     "ename": "TypeError",
     "evalue": "function missing required argument 'year' (pos 1)",
     "output_type": "error",
     "traceback": [
      "\u001B[1;31m---------------------------------------------------------------------------\u001B[0m",
      "\u001B[1;31mTypeError\u001B[0m                                 Traceback (most recent call last)",
      "Input \u001B[1;32mIn [52]\u001B[0m, in \u001B[0;36m<cell line: 3>\u001B[1;34m()\u001B[0m\n\u001B[0;32m      1\u001B[0m \u001B[38;5;28;01mimport\u001B[39;00m \u001B[38;5;21;01mdatetime\u001B[39;00m\n\u001B[0;32m      2\u001B[0m now \u001B[38;5;241m=\u001B[39m datetime\u001B[38;5;241m.\u001B[39mdatetime\u001B[38;5;241m.\u001B[39mnow()\n\u001B[1;32m----> 3\u001B[0m day20 \u001B[38;5;241m=\u001B[39m now \u001B[38;5;241m+\u001B[39m \u001B[43mdatetime\u001B[49m\u001B[38;5;241;43m.\u001B[39;49m\u001B[43mdatetime\u001B[49m\u001B[43m(\u001B[49m\u001B[43mmonth\u001B[49m\u001B[38;5;241;43m=\u001B[39;49m\u001B[38;5;241;43m2\u001B[39;49m\u001B[43m)\u001B[49m\n",
      "\u001B[1;31mTypeError\u001B[0m: function missing required argument 'year' (pos 1)"
     ]
    }
   ],
   "source": [
    "import datetime\n",
    "now = datetime.datetime.now()\n",
    "day20 = now + datetime.datetime(month=2)"
   ],
   "metadata": {
    "collapsed": false,
    "pycharm": {
     "name": "#%%\n"
    }
   }
  },
  {
   "cell_type": "code",
   "execution_count": 57,
   "outputs": [
    {
     "name": "stdout",
     "output_type": "stream",
     "text": [
      "2022-03-19 15:05:19.260512\n",
      "2022-03-19 15:05:19.260512\n"
     ]
    },
    {
     "data": {
      "text/plain": "2022"
     },
     "execution_count": 57,
     "metadata": {},
     "output_type": "execute_result"
    }
   ],
   "source": [
    "from datetime import  datetime\n",
    "from  dateutil import parser\n",
    "\n",
    "strtime = str(datetime.now())\n",
    "print(strtime)\n",
    "\n",
    "i = parser.parse(strtime)\n",
    "print(i)\n",
    "\n",
    "i.year\n"
   ],
   "metadata": {
    "collapsed": false,
    "pycharm": {
     "name": "#%%\n"
    }
   }
  },
  {
   "cell_type": "code",
   "execution_count": 64,
   "outputs": [
    {
     "name": "stdout",
     "output_type": "stream",
     "text": [
      "UTC+08:00\n",
      "2022-03-19 15:09:01.744851\n"
     ]
    },
    {
     "data": {
      "text/plain": "datetime.datetime(2022, 3, 19, 8, 2, 37, 927728, tzinfo=datetime.timezone(datetime.timedelta(seconds=3600)))"
     },
     "execution_count": 64,
     "metadata": {},
     "output_type": "execute_result"
    }
   ],
   "source": [
    "from datetime import timedelta,timezone,datetime\n",
    "\n",
    "tzutc_8 = timezone(timedelta(hours=8))\n",
    "tzutc_1 = timezone(timedelta(hours=1))\n",
    "print(tzutc_8)\n",
    "now\n",
    "\n",
    "print(datetime.now())\n",
    "now.astimezone(tzutc_1)\n"
   ],
   "metadata": {
    "collapsed": false,
    "pycharm": {
     "name": "#%%\n"
    }
   }
  },
  {
   "cell_type": "markdown",
   "source": [
    "## argparse\n",
    "\n",
    "参数提示版主功能\n"
   ],
   "metadata": {
    "collapsed": false,
    "pycharm": {
     "name": "#%% md\n"
    }
   }
  },
  {
   "cell_type": "code",
   "execution_count": 68,
   "outputs": [
    {
     "name": "stdout",
     "output_type": "stream",
     "text": [
      "10.1.1.1\n",
      "C:\\Users\\cestm\\AppData\\Roaming\\jupyter\\runtime\\kernel-2273cb74-4f20-45db-b191-d648de2bad68.json\n",
      "1\n"
     ]
    }
   ],
   "source": [
    "def t_argparse(host,filename,iface):\n",
    "    print(host)\n",
    "    print(filename)\n",
    "    print(iface)\n",
    "\n",
    "if __name__ == '__main__':\n",
    "    from argparse import  ArgumentParser\n",
    "\n",
    "    usage = \"python arg_parse.py - t host -f fileneme -i interface\"\n",
    "\n",
    "    parser = ArgumentParser(usage=usage)\n",
    "\n",
    "    parser.add_argument(\"-f\", \"--file\", dest=\"filename\", help=\"Write content to FILE\", default=\"1.txt\", type=str)\n",
    "    parser.add_argument(\"-i\", \"--interface\", dest=\"iface\", help=\"spicify an interface\", default=1, type=int)\n",
    "    parser.add_argument(\"-t\", \"--host\", dest=\"host\", help=\"specify some hosts\", default=\"10.1.1.1\", type=str)\n",
    "    parser.add_argument(nargs=\"*\", dest=\"hosts\", help=\"specify some hosts\", default=\"10.1.1.1\", type=str)\n",
    "    args = parser.parse_args()\n",
    "\n",
    "    t_argparse(args.host, args.filename, args.iface)"
   ],
   "metadata": {
    "collapsed": false,
    "pycharm": {
     "name": "#%%\n"
    }
   }
  },
  {
   "cell_type": "code",
   "execution_count": null,
   "outputs": [],
   "source": [],
   "metadata": {
    "collapsed": false,
    "pycharm": {
     "name": "#%%\n"
    }
   }
  }
 ],
 "metadata": {
  "kernelspec": {
   "display_name": "Python 3",
   "language": "python",
   "name": "python3"
  },
  "language_info": {
   "codemirror_mode": {
    "name": "ipython",
    "version": 2
   },
   "file_extension": ".py",
   "mimetype": "text/x-python",
   "name": "python",
   "nbconvert_exporter": "python",
   "pygments_lexer": "ipython2",
   "version": "2.7.6"
  }
 },
 "nbformat": 4,
 "nbformat_minor": 0
}